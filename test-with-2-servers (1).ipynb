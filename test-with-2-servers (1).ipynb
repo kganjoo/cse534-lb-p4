{
 "cells": [
  {
   "cell_type": "code",
   "execution_count": 1,
   "id": "8ff7422b-209e-4e40-9deb-7099b63721c1",
   "metadata": {},
   "outputs": [],
   "source": [
    "from fabrictestbed_extensions.fablib.fablib import FablibManager as fablib_manager\n",
    "from fabrictestbed.slice_manager import SliceManager, Status, SliceState\n",
    "fablib = fablib_manager()"
   ]
  },
  {
   "cell_type": "code",
   "execution_count": 2,
   "id": "803072f5-2a93-4b56-a0c3-65f473f80683",
   "metadata": {},
   "outputs": [],
   "source": [
    "slice_name = \"kalhan-cse-534-nat-2-servers\""
   ]
  },
  {
   "cell_type": "code",
   "execution_count": 7,
   "id": "eb316d21-053c-4f8f-86cc-cc1359c82f3f",
   "metadata": {},
   "outputs": [],
   "source": [
    "\n",
    "#slice = fablib.new_slice(name=slice_name)"
   ]
  },
  {
   "cell_type": "code",
   "execution_count": 3,
   "id": "124a4b76-8148-43df-bc1a-eb82586bc4c5",
   "metadata": {},
   "outputs": [],
   "source": [
    "# # retrieve an existing slice\n",
    "slice = fablib.get_slice(name=slice_name)"
   ]
  },
  {
   "cell_type": "code",
   "execution_count": 4,
   "id": "8ca34dfb-e2ea-4c57-bb7f-956ef1eb852d",
   "metadata": {},
   "outputs": [
    {
     "data": {
      "text/plain": [
       "'StableOK'"
      ]
     },
     "execution_count": 4,
     "metadata": {},
     "output_type": "execute_result"
    }
   ],
   "source": [
    "slice.get_state()"
   ]
  },
  {
   "cell_type": "code",
   "execution_count": null,
   "id": "48c1430a-fe6f-490a-89df-2e5da9e2e513",
   "metadata": {},
   "outputs": [],
   "source": [
    "# from fabrictestbed_extensions.fablib.fablib import FablibManager as fablib_manager\n",
    "# fablib = fablib_manager()\n",
    "# slice = fablib.get_slice(name=slice_name)\n",
    "# slice.delete()"
   ]
  },
  {
   "cell_type": "code",
   "execution_count": null,
   "id": "85faf6f5-7f03-4dcb-be8d-a800a8854bc1",
   "metadata": {},
   "outputs": [],
   "source": [
    "fablib.list_sites(latlon=False)"
   ]
  },
  {
   "cell_type": "code",
   "execution_count": 8,
   "id": "74fbe498-2e88-4bfd-976d-29fc447cdbd2",
   "metadata": {},
   "outputs": [
    {
     "name": "stdout",
     "output_type": "stream",
     "text": [
      "The selected sites are MICH, UTAH, NCSA STAR\n"
     ]
    }
   ],
   "source": [
    "site1='MICH'\n",
    "site2='UTAH'\n",
    "site3='NCSA'\n",
    "site4 = 'STAR' # todo change topology and deploy switch at star. , USE STAR TOPOLOGY FOR DEPLOYONG THE SWITCH\n",
    "\n",
    "print (f'The selected sites are {site1}, {site2}, {site3} {site4}') "
   ]
  },
  {
   "cell_type": "code",
   "execution_count": 9,
   "id": "ea580da3-3846-4667-9f1c-9230a3fe0aa9",
   "metadata": {},
   "outputs": [],
   "source": [
    "client = slice.add_node(name=\"client\", \n",
    "                      site=site1, \n",
    "                      cores=4, \n",
    "                      ram=8, \n",
    "                      disk=20, \n",
    "                      image='default_ubuntu_20')\n",
    "\n",
    "server1 = slice.add_node(name=\"server1\", \n",
    "                      site=site2, \n",
    "                      cores=4, \n",
    "                      ram=8, \n",
    "                      disk=20, \n",
    "                      image='default_ubuntu_20')\n",
    "server2 = slice.add_node(name=\"server2\", \n",
    "                      site=site3, \n",
    "                      cores=4, \n",
    "                      ram=8, \n",
    "                      disk=20, \n",
    "                      image='default_ubuntu_20')\n"
   ]
  },
  {
   "cell_type": "code",
   "execution_count": 10,
   "id": "8589be05-4286-4970-9151-4881d63fc6d4",
   "metadata": {},
   "outputs": [],
   "source": [
    "client_iface = client.add_component(model='NIC_Basic').get_interfaces()[0]\n",
    "server1_iface = server1.add_component(model='NIC_Basic').get_interfaces()[0]\n",
    "server2_iface = server2.add_component(model='NIC_Basic').get_interfaces()[0]"
   ]
  },
  {
   "cell_type": "code",
   "execution_count": 11,
   "id": "d096640f-b3d0-49c8-ab85-e41e94ee57e7",
   "metadata": {},
   "outputs": [],
   "source": [
    "# Add a node for P4 switch\n",
    "switch = slice.add_node(name=\"switch\", \n",
    "                      site=site4, \n",
    "                      cores=32, \n",
    "                      ram=16, \n",
    "                      disk=40, \n",
    "                      image='default_ubuntu_20')"
   ]
  },
  {
   "cell_type": "code",
   "execution_count": 12,
   "id": "c7e78cb0-9278-4743-8a2e-7c24dbe56bb7",
   "metadata": {},
   "outputs": [],
   "source": [
    "switch_client_iface = switch.add_component(model='NIC_Basic', name='client_nic').get_interfaces()[0]\n",
    "switch_server1_iface = switch.add_component(model='NIC_Basic', name='server1_nic').get_interfaces()[0]\n",
    "switch_server2_iface = switch.add_component(model='NIC_Basic', name='server2_nic').get_interfaces()[0]\n"
   ]
  },
  {
   "cell_type": "code",
   "execution_count": 13,
   "id": "6a1392f9-7260-4fdd-8c06-ee3190c5468c",
   "metadata": {},
   "outputs": [],
   "source": [
    "switch_client_net = slice.add_l2network(name='switch_client_net', interfaces=[client_iface, switch_client_iface])\n",
    "switch_server1_net = slice.add_l2network(name='switch_server1_net', interfaces=[switch_server1_iface, server1_iface])\n",
    "switch_server2_net = slice.add_l2network(name='switch_server2_net', interfaces=[switch_server2_iface, server2_iface])"
   ]
  },
  {
   "cell_type": "code",
   "execution_count": 14,
   "id": "29ccd05f-7612-4737-9a93-22c4ab9df2a8",
   "metadata": {},
   "outputs": [
    {
     "name": "stdout",
     "output_type": "stream",
     "text": [
      "\n",
      "Retry: 10, Time: 370 sec\n"
     ]
    },
    {
     "data": {
      "text/html": [
       "<style type=\"text/css\">\n",
       "#T_79f9b tr:nth-child(even) {\n",
       "  background: #dbf3ff;\n",
       "  color: #231f20;\n",
       "}\n",
       "#T_79f9b tr:nth-child(odd) {\n",
       "  background: #ffffff;\n",
       "  color: #231f20;\n",
       "}\n",
       "#T_79f9b caption {\n",
       "  text-align: center;\n",
       "  font-size: 150%;\n",
       "}\n",
       "#T_79f9b_row0_col0, #T_79f9b_row0_col1, #T_79f9b_row1_col0, #T_79f9b_row1_col1, #T_79f9b_row2_col0, #T_79f9b_row2_col1, #T_79f9b_row3_col0, #T_79f9b_row3_col1, #T_79f9b_row4_col0, #T_79f9b_row4_col1, #T_79f9b_row5_col0 {\n",
       "  text-align: left;\n",
       "  border: 1px #231f20 solid !important;\n",
       "  overwrite: False;\n",
       "  background-color: ;\n",
       "}\n",
       "#T_79f9b_row5_col1 {\n",
       "  text-align: left;\n",
       "  border: 1px #231f20 solid !important;\n",
       "  overwrite: False;\n",
       "  background-color: #c3ffc4;\n",
       "}\n",
       "</style>\n",
       "<table id=\"T_79f9b\">\n",
       "  <caption>Slice</caption>\n",
       "  <thead>\n",
       "  </thead>\n",
       "  <tbody>\n",
       "    <tr>\n",
       "      <td id=\"T_79f9b_row0_col0\" class=\"data row0 col0\" >ID</td>\n",
       "      <td id=\"T_79f9b_row0_col1\" class=\"data row0 col1\" >6a2c0f33-d690-42d7-824a-4d1ffcc6de68</td>\n",
       "    </tr>\n",
       "    <tr>\n",
       "      <td id=\"T_79f9b_row1_col0\" class=\"data row1 col0\" >Name</td>\n",
       "      <td id=\"T_79f9b_row1_col1\" class=\"data row1 col1\" >kalhan-cse-534-nat-2-servers</td>\n",
       "    </tr>\n",
       "    <tr>\n",
       "      <td id=\"T_79f9b_row2_col0\" class=\"data row2 col0\" >Lease Expiration (UTC)</td>\n",
       "      <td id=\"T_79f9b_row2_col1\" class=\"data row2 col1\" >2024-04-14 15:07:32 +0000</td>\n",
       "    </tr>\n",
       "    <tr>\n",
       "      <td id=\"T_79f9b_row3_col0\" class=\"data row3 col0\" >Lease Start (UTC)</td>\n",
       "      <td id=\"T_79f9b_row3_col1\" class=\"data row3 col1\" >2024-04-13 15:07:33 +0000</td>\n",
       "    </tr>\n",
       "    <tr>\n",
       "      <td id=\"T_79f9b_row4_col0\" class=\"data row4 col0\" >Project ID</td>\n",
       "      <td id=\"T_79f9b_row4_col1\" class=\"data row4 col1\" >6ce270de-788d-4e07-8bae-3206860a6387</td>\n",
       "    </tr>\n",
       "    <tr>\n",
       "      <td id=\"T_79f9b_row5_col0\" class=\"data row5 col0\" >State</td>\n",
       "      <td id=\"T_79f9b_row5_col1\" class=\"data row5 col1\" >StableOK</td>\n",
       "    </tr>\n",
       "  </tbody>\n",
       "</table>\n"
      ],
      "text/plain": [
       "<pandas.io.formats.style.Styler at 0x7f9cb80da410>"
      ]
     },
     "metadata": {},
     "output_type": "display_data"
    },
    {
     "data": {
      "text/html": [
       "<style type=\"text/css\">\n",
       "#T_31ce2 caption {\n",
       "  text-align: center;\n",
       "  font-size: 150%;\n",
       "  caption-side: top;\n",
       "}\n",
       "#T_31ce2 th {\n",
       "  text-align: left;\n",
       "}\n",
       "#T_31ce2 tr:nth-child(even) {\n",
       "  background: #ffffff;\n",
       "  color: #231f20;\n",
       "}\n",
       "#T_31ce2 tr:nth-child(odd) {\n",
       "  background: #dbf3ff;\n",
       "  color: #231f20;\n",
       "}\n",
       "#T_31ce2 .level0 {\n",
       "  border: 1px black solid !important;\n",
       "  background: #ffffff;\n",
       "  color: #231f20;\n",
       "}\n",
       "#T_31ce2_row0_col0, #T_31ce2_row0_col1, #T_31ce2_row0_col2, #T_31ce2_row0_col3, #T_31ce2_row0_col4, #T_31ce2_row0_col5, #T_31ce2_row0_col6, #T_31ce2_row0_col7, #T_31ce2_row0_col8, #T_31ce2_row0_col9, #T_31ce2_row0_col10, #T_31ce2_row0_col13, #T_31ce2_row0_col14, #T_31ce2_row0_col15, #T_31ce2_row1_col0, #T_31ce2_row1_col1, #T_31ce2_row1_col2, #T_31ce2_row1_col3, #T_31ce2_row1_col4, #T_31ce2_row1_col5, #T_31ce2_row1_col6, #T_31ce2_row1_col7, #T_31ce2_row1_col8, #T_31ce2_row1_col9, #T_31ce2_row1_col10, #T_31ce2_row1_col13, #T_31ce2_row1_col14, #T_31ce2_row1_col15, #T_31ce2_row2_col0, #T_31ce2_row2_col1, #T_31ce2_row2_col2, #T_31ce2_row2_col3, #T_31ce2_row2_col4, #T_31ce2_row2_col5, #T_31ce2_row2_col6, #T_31ce2_row2_col7, #T_31ce2_row2_col8, #T_31ce2_row2_col9, #T_31ce2_row2_col10, #T_31ce2_row2_col13, #T_31ce2_row2_col14, #T_31ce2_row2_col15, #T_31ce2_row3_col0, #T_31ce2_row3_col1, #T_31ce2_row3_col2, #T_31ce2_row3_col3, #T_31ce2_row3_col4, #T_31ce2_row3_col5, #T_31ce2_row3_col6, #T_31ce2_row3_col7, #T_31ce2_row3_col8, #T_31ce2_row3_col9, #T_31ce2_row3_col10, #T_31ce2_row3_col13, #T_31ce2_row3_col14, #T_31ce2_row3_col15 {\n",
       "  text-align: left;\n",
       "  border: 1px #231f20 solid !important;\n",
       "  overwrite: False;\n",
       "}\n",
       "#T_31ce2_row0_col11, #T_31ce2_row1_col11, #T_31ce2_row2_col11, #T_31ce2_row3_col11 {\n",
       "  text-align: left;\n",
       "  border: 1px #231f20 solid !important;\n",
       "  overwrite: False;\n",
       "  background-color: #c3ffc4;\n",
       "}\n",
       "#T_31ce2_row0_col12, #T_31ce2_row1_col12, #T_31ce2_row2_col12, #T_31ce2_row3_col12 {\n",
       "  text-align: left;\n",
       "  border: 1px #231f20 solid !important;\n",
       "  overwrite: False;\n",
       "  background-color: ;\n",
       "}\n",
       "</style>\n",
       "<table id=\"T_31ce2\">\n",
       "  <caption>Nodes</caption>\n",
       "  <thead>\n",
       "    <tr>\n",
       "      <th id=\"T_31ce2_level0_col0\" class=\"col_heading level0 col0\" >ID</th>\n",
       "      <th id=\"T_31ce2_level0_col1\" class=\"col_heading level0 col1\" >Name</th>\n",
       "      <th id=\"T_31ce2_level0_col2\" class=\"col_heading level0 col2\" >Cores</th>\n",
       "      <th id=\"T_31ce2_level0_col3\" class=\"col_heading level0 col3\" >RAM</th>\n",
       "      <th id=\"T_31ce2_level0_col4\" class=\"col_heading level0 col4\" >Disk</th>\n",
       "      <th id=\"T_31ce2_level0_col5\" class=\"col_heading level0 col5\" >Image</th>\n",
       "      <th id=\"T_31ce2_level0_col6\" class=\"col_heading level0 col6\" >Image Type</th>\n",
       "      <th id=\"T_31ce2_level0_col7\" class=\"col_heading level0 col7\" >Host</th>\n",
       "      <th id=\"T_31ce2_level0_col8\" class=\"col_heading level0 col8\" >Site</th>\n",
       "      <th id=\"T_31ce2_level0_col9\" class=\"col_heading level0 col9\" >Username</th>\n",
       "      <th id=\"T_31ce2_level0_col10\" class=\"col_heading level0 col10\" >Management IP</th>\n",
       "      <th id=\"T_31ce2_level0_col11\" class=\"col_heading level0 col11\" >State</th>\n",
       "      <th id=\"T_31ce2_level0_col12\" class=\"col_heading level0 col12\" >Error</th>\n",
       "      <th id=\"T_31ce2_level0_col13\" class=\"col_heading level0 col13\" >SSH Command</th>\n",
       "      <th id=\"T_31ce2_level0_col14\" class=\"col_heading level0 col14\" >Public SSH Key File</th>\n",
       "      <th id=\"T_31ce2_level0_col15\" class=\"col_heading level0 col15\" >Private SSH Key File</th>\n",
       "    </tr>\n",
       "  </thead>\n",
       "  <tbody>\n",
       "    <tr>\n",
       "      <td id=\"T_31ce2_row0_col0\" class=\"data row0 col0\" >00465811-bad8-4fbd-9fe9-c896e8e137e3</td>\n",
       "      <td id=\"T_31ce2_row0_col1\" class=\"data row0 col1\" >client</td>\n",
       "      <td id=\"T_31ce2_row0_col2\" class=\"data row0 col2\" >4</td>\n",
       "      <td id=\"T_31ce2_row0_col3\" class=\"data row0 col3\" >8</td>\n",
       "      <td id=\"T_31ce2_row0_col4\" class=\"data row0 col4\" >100</td>\n",
       "      <td id=\"T_31ce2_row0_col5\" class=\"data row0 col5\" >default_ubuntu_20</td>\n",
       "      <td id=\"T_31ce2_row0_col6\" class=\"data row0 col6\" >qcow2</td>\n",
       "      <td id=\"T_31ce2_row0_col7\" class=\"data row0 col7\" >mich-w2.fabric-testbed.net</td>\n",
       "      <td id=\"T_31ce2_row0_col8\" class=\"data row0 col8\" >MICH</td>\n",
       "      <td id=\"T_31ce2_row0_col9\" class=\"data row0 col9\" >ubuntu</td>\n",
       "      <td id=\"T_31ce2_row0_col10\" class=\"data row0 col10\" >2607:f018:110:11:f816:3eff:fe02:10e1</td>\n",
       "      <td id=\"T_31ce2_row0_col11\" class=\"data row0 col11\" >Active</td>\n",
       "      <td id=\"T_31ce2_row0_col12\" class=\"data row0 col12\" ></td>\n",
       "      <td id=\"T_31ce2_row0_col13\" class=\"data row0 col13\" >ssh -i /home/fabric/work/fabric_config/slice_key -F /home/fabric/work/fabric_config/ssh_config ubuntu@2607:f018:110:11:f816:3eff:fe02:10e1\"s</td>\n",
       "      <td id=\"T_31ce2_row0_col14\" class=\"data row0 col14\" >/home/fabric/work/fabric_config/slice_key.pub</td>\n",
       "      <td id=\"T_31ce2_row0_col15\" class=\"data row0 col15\" >/home/fabric/work/fabric_config/slice_key</td>\n",
       "    </tr>\n",
       "    <tr>\n",
       "      <td id=\"T_31ce2_row1_col0\" class=\"data row1 col0\" >99dec167-d7b4-42ec-be8b-244c7ab760ed</td>\n",
       "      <td id=\"T_31ce2_row1_col1\" class=\"data row1 col1\" >server1</td>\n",
       "      <td id=\"T_31ce2_row1_col2\" class=\"data row1 col2\" >4</td>\n",
       "      <td id=\"T_31ce2_row1_col3\" class=\"data row1 col3\" >8</td>\n",
       "      <td id=\"T_31ce2_row1_col4\" class=\"data row1 col4\" >100</td>\n",
       "      <td id=\"T_31ce2_row1_col5\" class=\"data row1 col5\" >default_ubuntu_20</td>\n",
       "      <td id=\"T_31ce2_row1_col6\" class=\"data row1 col6\" >qcow2</td>\n",
       "      <td id=\"T_31ce2_row1_col7\" class=\"data row1 col7\" >utah-w3.fabric-testbed.net</td>\n",
       "      <td id=\"T_31ce2_row1_col8\" class=\"data row1 col8\" >UTAH</td>\n",
       "      <td id=\"T_31ce2_row1_col9\" class=\"data row1 col9\" >ubuntu</td>\n",
       "      <td id=\"T_31ce2_row1_col10\" class=\"data row1 col10\" >2001:1948:417:7:f816:3eff:fe5d:8871</td>\n",
       "      <td id=\"T_31ce2_row1_col11\" class=\"data row1 col11\" >Active</td>\n",
       "      <td id=\"T_31ce2_row1_col12\" class=\"data row1 col12\" ></td>\n",
       "      <td id=\"T_31ce2_row1_col13\" class=\"data row1 col13\" >ssh -i /home/fabric/work/fabric_config/slice_key -F /home/fabric/work/fabric_config/ssh_config ubuntu@2001:1948:417:7:f816:3eff:fe5d:8871\"s</td>\n",
       "      <td id=\"T_31ce2_row1_col14\" class=\"data row1 col14\" >/home/fabric/work/fabric_config/slice_key.pub</td>\n",
       "      <td id=\"T_31ce2_row1_col15\" class=\"data row1 col15\" >/home/fabric/work/fabric_config/slice_key</td>\n",
       "    </tr>\n",
       "    <tr>\n",
       "      <td id=\"T_31ce2_row2_col0\" class=\"data row2 col0\" >e379d909-b1e1-4f57-92f5-a9e00fe688b3</td>\n",
       "      <td id=\"T_31ce2_row2_col1\" class=\"data row2 col1\" >server2</td>\n",
       "      <td id=\"T_31ce2_row2_col2\" class=\"data row2 col2\" >4</td>\n",
       "      <td id=\"T_31ce2_row2_col3\" class=\"data row2 col3\" >8</td>\n",
       "      <td id=\"T_31ce2_row2_col4\" class=\"data row2 col4\" >100</td>\n",
       "      <td id=\"T_31ce2_row2_col5\" class=\"data row2 col5\" >default_ubuntu_20</td>\n",
       "      <td id=\"T_31ce2_row2_col6\" class=\"data row2 col6\" >qcow2</td>\n",
       "      <td id=\"T_31ce2_row2_col7\" class=\"data row2 col7\" >ncsa-w2.fabric-testbed.net</td>\n",
       "      <td id=\"T_31ce2_row2_col8\" class=\"data row2 col8\" >NCSA</td>\n",
       "      <td id=\"T_31ce2_row2_col9\" class=\"data row2 col9\" >ubuntu</td>\n",
       "      <td id=\"T_31ce2_row2_col10\" class=\"data row2 col10\" >2620:0:c80:1001:f816:3eff:fe03:8113</td>\n",
       "      <td id=\"T_31ce2_row2_col11\" class=\"data row2 col11\" >Active</td>\n",
       "      <td id=\"T_31ce2_row2_col12\" class=\"data row2 col12\" ></td>\n",
       "      <td id=\"T_31ce2_row2_col13\" class=\"data row2 col13\" >ssh -i /home/fabric/work/fabric_config/slice_key -F /home/fabric/work/fabric_config/ssh_config ubuntu@2620:0:c80:1001:f816:3eff:fe03:8113\"s</td>\n",
       "      <td id=\"T_31ce2_row2_col14\" class=\"data row2 col14\" >/home/fabric/work/fabric_config/slice_key.pub</td>\n",
       "      <td id=\"T_31ce2_row2_col15\" class=\"data row2 col15\" >/home/fabric/work/fabric_config/slice_key</td>\n",
       "    </tr>\n",
       "    <tr>\n",
       "      <td id=\"T_31ce2_row3_col0\" class=\"data row3 col0\" >1c0295fa-0985-401d-ae82-845630783c48</td>\n",
       "      <td id=\"T_31ce2_row3_col1\" class=\"data row3 col1\" >switch</td>\n",
       "      <td id=\"T_31ce2_row3_col2\" class=\"data row3 col2\" >32</td>\n",
       "      <td id=\"T_31ce2_row3_col3\" class=\"data row3 col3\" >16</td>\n",
       "      <td id=\"T_31ce2_row3_col4\" class=\"data row3 col4\" >100</td>\n",
       "      <td id=\"T_31ce2_row3_col5\" class=\"data row3 col5\" >default_ubuntu_20</td>\n",
       "      <td id=\"T_31ce2_row3_col6\" class=\"data row3 col6\" >qcow2</td>\n",
       "      <td id=\"T_31ce2_row3_col7\" class=\"data row3 col7\" >star-w5.fabric-testbed.net</td>\n",
       "      <td id=\"T_31ce2_row3_col8\" class=\"data row3 col8\" >STAR</td>\n",
       "      <td id=\"T_31ce2_row3_col9\" class=\"data row3 col9\" >ubuntu</td>\n",
       "      <td id=\"T_31ce2_row3_col10\" class=\"data row3 col10\" >2001:400:a100:3030:f816:3eff:fec8:f02d</td>\n",
       "      <td id=\"T_31ce2_row3_col11\" class=\"data row3 col11\" >Active</td>\n",
       "      <td id=\"T_31ce2_row3_col12\" class=\"data row3 col12\" ></td>\n",
       "      <td id=\"T_31ce2_row3_col13\" class=\"data row3 col13\" >ssh -i /home/fabric/work/fabric_config/slice_key -F /home/fabric/work/fabric_config/ssh_config ubuntu@2001:400:a100:3030:f816:3eff:fec8:f02d\"s</td>\n",
       "      <td id=\"T_31ce2_row3_col14\" class=\"data row3 col14\" >/home/fabric/work/fabric_config/slice_key.pub</td>\n",
       "      <td id=\"T_31ce2_row3_col15\" class=\"data row3 col15\" >/home/fabric/work/fabric_config/slice_key</td>\n",
       "    </tr>\n",
       "  </tbody>\n",
       "</table>\n"
      ],
      "text/plain": [
       "<pandas.io.formats.style.Styler at 0x7f9cb812e9b0>"
      ]
     },
     "metadata": {},
     "output_type": "display_data"
    },
    {
     "data": {
      "text/html": [
       "<style type=\"text/css\">\n",
       "#T_56425 caption {\n",
       "  text-align: center;\n",
       "  font-size: 150%;\n",
       "  caption-side: top;\n",
       "}\n",
       "#T_56425 th {\n",
       "  text-align: left;\n",
       "}\n",
       "#T_56425 tr:nth-child(even) {\n",
       "  background: #ffffff;\n",
       "  color: #231f20;\n",
       "}\n",
       "#T_56425 tr:nth-child(odd) {\n",
       "  background: #dbf3ff;\n",
       "  color: #231f20;\n",
       "}\n",
       "#T_56425 .level0 {\n",
       "  border: 1px black solid !important;\n",
       "  background: #ffffff;\n",
       "  color: #231f20;\n",
       "}\n",
       "#T_56425_row0_col0, #T_56425_row0_col1, #T_56425_row0_col2, #T_56425_row0_col3, #T_56425_row0_col4, #T_56425_row0_col5, #T_56425_row0_col6, #T_56425_row1_col0, #T_56425_row1_col1, #T_56425_row1_col2, #T_56425_row1_col3, #T_56425_row1_col4, #T_56425_row1_col5, #T_56425_row1_col6, #T_56425_row2_col0, #T_56425_row2_col1, #T_56425_row2_col2, #T_56425_row2_col3, #T_56425_row2_col4, #T_56425_row2_col5, #T_56425_row2_col6 {\n",
       "  text-align: left;\n",
       "  border: 1px #231f20 solid !important;\n",
       "  overwrite: False;\n",
       "}\n",
       "#T_56425_row0_col7, #T_56425_row1_col7, #T_56425_row2_col7 {\n",
       "  text-align: left;\n",
       "  border: 1px #231f20 solid !important;\n",
       "  overwrite: False;\n",
       "  background-color: #c3ffc4;\n",
       "}\n",
       "#T_56425_row0_col8, #T_56425_row1_col8, #T_56425_row2_col8 {\n",
       "  text-align: left;\n",
       "  border: 1px #231f20 solid !important;\n",
       "  overwrite: False;\n",
       "  background-color: ;\n",
       "}\n",
       "</style>\n",
       "<table id=\"T_56425\">\n",
       "  <caption>Networks</caption>\n",
       "  <thead>\n",
       "    <tr>\n",
       "      <th id=\"T_56425_level0_col0\" class=\"col_heading level0 col0\" >ID</th>\n",
       "      <th id=\"T_56425_level0_col1\" class=\"col_heading level0 col1\" >Name</th>\n",
       "      <th id=\"T_56425_level0_col2\" class=\"col_heading level0 col2\" >Layer</th>\n",
       "      <th id=\"T_56425_level0_col3\" class=\"col_heading level0 col3\" >Type</th>\n",
       "      <th id=\"T_56425_level0_col4\" class=\"col_heading level0 col4\" >Site</th>\n",
       "      <th id=\"T_56425_level0_col5\" class=\"col_heading level0 col5\" >Subnet</th>\n",
       "      <th id=\"T_56425_level0_col6\" class=\"col_heading level0 col6\" >Gateway</th>\n",
       "      <th id=\"T_56425_level0_col7\" class=\"col_heading level0 col7\" >State</th>\n",
       "      <th id=\"T_56425_level0_col8\" class=\"col_heading level0 col8\" >Error</th>\n",
       "    </tr>\n",
       "  </thead>\n",
       "  <tbody>\n",
       "    <tr>\n",
       "      <td id=\"T_56425_row0_col0\" class=\"data row0 col0\" >37191a04-4429-4d01-9d74-6158e257bf50</td>\n",
       "      <td id=\"T_56425_row0_col1\" class=\"data row0 col1\" >switch_client_net</td>\n",
       "      <td id=\"T_56425_row0_col2\" class=\"data row0 col2\" >L2</td>\n",
       "      <td id=\"T_56425_row0_col3\" class=\"data row0 col3\" >L2STS</td>\n",
       "      <td id=\"T_56425_row0_col4\" class=\"data row0 col4\" >None</td>\n",
       "      <td id=\"T_56425_row0_col5\" class=\"data row0 col5\" >None</td>\n",
       "      <td id=\"T_56425_row0_col6\" class=\"data row0 col6\" >None</td>\n",
       "      <td id=\"T_56425_row0_col7\" class=\"data row0 col7\" >Active</td>\n",
       "      <td id=\"T_56425_row0_col8\" class=\"data row0 col8\" ></td>\n",
       "    </tr>\n",
       "    <tr>\n",
       "      <td id=\"T_56425_row1_col0\" class=\"data row1 col0\" >680e3333-5dd6-4427-a3c9-f43fbd974278</td>\n",
       "      <td id=\"T_56425_row1_col1\" class=\"data row1 col1\" >switch_server1_net</td>\n",
       "      <td id=\"T_56425_row1_col2\" class=\"data row1 col2\" >L2</td>\n",
       "      <td id=\"T_56425_row1_col3\" class=\"data row1 col3\" >L2STS</td>\n",
       "      <td id=\"T_56425_row1_col4\" class=\"data row1 col4\" >None</td>\n",
       "      <td id=\"T_56425_row1_col5\" class=\"data row1 col5\" >None</td>\n",
       "      <td id=\"T_56425_row1_col6\" class=\"data row1 col6\" >None</td>\n",
       "      <td id=\"T_56425_row1_col7\" class=\"data row1 col7\" >Active</td>\n",
       "      <td id=\"T_56425_row1_col8\" class=\"data row1 col8\" ></td>\n",
       "    </tr>\n",
       "    <tr>\n",
       "      <td id=\"T_56425_row2_col0\" class=\"data row2 col0\" >05e57c67-0d33-4707-887c-9478a6ff1c1a</td>\n",
       "      <td id=\"T_56425_row2_col1\" class=\"data row2 col1\" >switch_server2_net</td>\n",
       "      <td id=\"T_56425_row2_col2\" class=\"data row2 col2\" >L2</td>\n",
       "      <td id=\"T_56425_row2_col3\" class=\"data row2 col3\" >L2STS</td>\n",
       "      <td id=\"T_56425_row2_col4\" class=\"data row2 col4\" >None</td>\n",
       "      <td id=\"T_56425_row2_col5\" class=\"data row2 col5\" >None</td>\n",
       "      <td id=\"T_56425_row2_col6\" class=\"data row2 col6\" >None</td>\n",
       "      <td id=\"T_56425_row2_col7\" class=\"data row2 col7\" >Active</td>\n",
       "      <td id=\"T_56425_row2_col8\" class=\"data row2 col8\" ></td>\n",
       "    </tr>\n",
       "  </tbody>\n",
       "</table>\n"
      ],
      "text/plain": [
       "<pandas.io.formats.style.Styler at 0x7f9cb80d92a0>"
      ]
     },
     "metadata": {},
     "output_type": "display_data"
    },
    {
     "data": {
      "text/html": [
       "<style type=\"text/css\">\n",
       "#T_22f7c caption {\n",
       "  text-align: center;\n",
       "  font-size: 150%;\n",
       "  caption-side: top;\n",
       "}\n",
       "#T_22f7c th {\n",
       "  text-align: left;\n",
       "}\n",
       "#T_22f7c tr:nth-child(even) {\n",
       "  background: #ffffff;\n",
       "  color: #231f20;\n",
       "}\n",
       "#T_22f7c tr:nth-child(odd) {\n",
       "  background: #dbf3ff;\n",
       "  color: #231f20;\n",
       "}\n",
       "#T_22f7c .level0 {\n",
       "  border: 1px black solid !important;\n",
       "  background: #ffffff;\n",
       "  color: #231f20;\n",
       "}\n",
       "#T_22f7c_row0_col0, #T_22f7c_row0_col1, #T_22f7c_row0_col2, #T_22f7c_row0_col3, #T_22f7c_row0_col4, #T_22f7c_row0_col5, #T_22f7c_row0_col6, #T_22f7c_row0_col7, #T_22f7c_row0_col8, #T_22f7c_row0_col9, #T_22f7c_row0_col10, #T_22f7c_row0_col11, #T_22f7c_row1_col0, #T_22f7c_row1_col1, #T_22f7c_row1_col2, #T_22f7c_row1_col3, #T_22f7c_row1_col4, #T_22f7c_row1_col5, #T_22f7c_row1_col6, #T_22f7c_row1_col7, #T_22f7c_row1_col8, #T_22f7c_row1_col9, #T_22f7c_row1_col10, #T_22f7c_row1_col11, #T_22f7c_row2_col0, #T_22f7c_row2_col1, #T_22f7c_row2_col2, #T_22f7c_row2_col3, #T_22f7c_row2_col4, #T_22f7c_row2_col5, #T_22f7c_row2_col6, #T_22f7c_row2_col7, #T_22f7c_row2_col8, #T_22f7c_row2_col9, #T_22f7c_row2_col10, #T_22f7c_row2_col11, #T_22f7c_row3_col0, #T_22f7c_row3_col1, #T_22f7c_row3_col2, #T_22f7c_row3_col3, #T_22f7c_row3_col4, #T_22f7c_row3_col5, #T_22f7c_row3_col6, #T_22f7c_row3_col7, #T_22f7c_row3_col8, #T_22f7c_row3_col9, #T_22f7c_row3_col10, #T_22f7c_row3_col11, #T_22f7c_row4_col0, #T_22f7c_row4_col1, #T_22f7c_row4_col2, #T_22f7c_row4_col3, #T_22f7c_row4_col4, #T_22f7c_row4_col5, #T_22f7c_row4_col6, #T_22f7c_row4_col7, #T_22f7c_row4_col8, #T_22f7c_row4_col9, #T_22f7c_row4_col10, #T_22f7c_row4_col11, #T_22f7c_row5_col0, #T_22f7c_row5_col1, #T_22f7c_row5_col2, #T_22f7c_row5_col3, #T_22f7c_row5_col4, #T_22f7c_row5_col5, #T_22f7c_row5_col6, #T_22f7c_row5_col7, #T_22f7c_row5_col8, #T_22f7c_row5_col9, #T_22f7c_row5_col10, #T_22f7c_row5_col11 {\n",
       "  text-align: left;\n",
       "  border: 1px #231f20 solid !important;\n",
       "  overwrite: False;\n",
       "}\n",
       "</style>\n",
       "<table id=\"T_22f7c\">\n",
       "  <caption>Interfaces</caption>\n",
       "  <thead>\n",
       "    <tr>\n",
       "      <th id=\"T_22f7c_level0_col0\" class=\"col_heading level0 col0\" >Name</th>\n",
       "      <th id=\"T_22f7c_level0_col1\" class=\"col_heading level0 col1\" >Short Name</th>\n",
       "      <th id=\"T_22f7c_level0_col2\" class=\"col_heading level0 col2\" >Node</th>\n",
       "      <th id=\"T_22f7c_level0_col3\" class=\"col_heading level0 col3\" >Network</th>\n",
       "      <th id=\"T_22f7c_level0_col4\" class=\"col_heading level0 col4\" >Bandwidth</th>\n",
       "      <th id=\"T_22f7c_level0_col5\" class=\"col_heading level0 col5\" >Mode</th>\n",
       "      <th id=\"T_22f7c_level0_col6\" class=\"col_heading level0 col6\" >VLAN</th>\n",
       "      <th id=\"T_22f7c_level0_col7\" class=\"col_heading level0 col7\" >MAC</th>\n",
       "      <th id=\"T_22f7c_level0_col8\" class=\"col_heading level0 col8\" >Physical Device</th>\n",
       "      <th id=\"T_22f7c_level0_col9\" class=\"col_heading level0 col9\" >Device</th>\n",
       "      <th id=\"T_22f7c_level0_col10\" class=\"col_heading level0 col10\" >IP Address</th>\n",
       "      <th id=\"T_22f7c_level0_col11\" class=\"col_heading level0 col11\" >Numa Node</th>\n",
       "    </tr>\n",
       "  </thead>\n",
       "  <tbody>\n",
       "    <tr>\n",
       "      <td id=\"T_22f7c_row0_col0\" class=\"data row0 col0\" >client-None-p1</td>\n",
       "      <td id=\"T_22f7c_row0_col1\" class=\"data row0 col1\" >p1</td>\n",
       "      <td id=\"T_22f7c_row0_col2\" class=\"data row0 col2\" >client</td>\n",
       "      <td id=\"T_22f7c_row0_col3\" class=\"data row0 col3\" >switch_client_net</td>\n",
       "      <td id=\"T_22f7c_row0_col4\" class=\"data row0 col4\" >100</td>\n",
       "      <td id=\"T_22f7c_row0_col5\" class=\"data row0 col5\" >config</td>\n",
       "      <td id=\"T_22f7c_row0_col6\" class=\"data row0 col6\" ></td>\n",
       "      <td id=\"T_22f7c_row0_col7\" class=\"data row0 col7\" >02:62:A2:9C:10:93</td>\n",
       "      <td id=\"T_22f7c_row0_col8\" class=\"data row0 col8\" >enp7s0</td>\n",
       "      <td id=\"T_22f7c_row0_col9\" class=\"data row0 col9\" >enp7s0</td>\n",
       "      <td id=\"T_22f7c_row0_col10\" class=\"data row0 col10\" >None</td>\n",
       "      <td id=\"T_22f7c_row0_col11\" class=\"data row0 col11\" >4</td>\n",
       "    </tr>\n",
       "    <tr>\n",
       "      <td id=\"T_22f7c_row1_col0\" class=\"data row1 col0\" >server1-None-p1</td>\n",
       "      <td id=\"T_22f7c_row1_col1\" class=\"data row1 col1\" >p1</td>\n",
       "      <td id=\"T_22f7c_row1_col2\" class=\"data row1 col2\" >server1</td>\n",
       "      <td id=\"T_22f7c_row1_col3\" class=\"data row1 col3\" >switch_server1_net</td>\n",
       "      <td id=\"T_22f7c_row1_col4\" class=\"data row1 col4\" >100</td>\n",
       "      <td id=\"T_22f7c_row1_col5\" class=\"data row1 col5\" >config</td>\n",
       "      <td id=\"T_22f7c_row1_col6\" class=\"data row1 col6\" ></td>\n",
       "      <td id=\"T_22f7c_row1_col7\" class=\"data row1 col7\" >0A:14:F1:7B:CA:59</td>\n",
       "      <td id=\"T_22f7c_row1_col8\" class=\"data row1 col8\" >enp7s0</td>\n",
       "      <td id=\"T_22f7c_row1_col9\" class=\"data row1 col9\" >enp7s0</td>\n",
       "      <td id=\"T_22f7c_row1_col10\" class=\"data row1 col10\" >None</td>\n",
       "      <td id=\"T_22f7c_row1_col11\" class=\"data row1 col11\" >4</td>\n",
       "    </tr>\n",
       "    <tr>\n",
       "      <td id=\"T_22f7c_row2_col0\" class=\"data row2 col0\" >server2-None-p1</td>\n",
       "      <td id=\"T_22f7c_row2_col1\" class=\"data row2 col1\" >p1</td>\n",
       "      <td id=\"T_22f7c_row2_col2\" class=\"data row2 col2\" >server2</td>\n",
       "      <td id=\"T_22f7c_row2_col3\" class=\"data row2 col3\" >switch_server2_net</td>\n",
       "      <td id=\"T_22f7c_row2_col4\" class=\"data row2 col4\" >100</td>\n",
       "      <td id=\"T_22f7c_row2_col5\" class=\"data row2 col5\" >config</td>\n",
       "      <td id=\"T_22f7c_row2_col6\" class=\"data row2 col6\" ></td>\n",
       "      <td id=\"T_22f7c_row2_col7\" class=\"data row2 col7\" >02:C6:60:49:95:60</td>\n",
       "      <td id=\"T_22f7c_row2_col8\" class=\"data row2 col8\" >enp7s0</td>\n",
       "      <td id=\"T_22f7c_row2_col9\" class=\"data row2 col9\" >enp7s0</td>\n",
       "      <td id=\"T_22f7c_row2_col10\" class=\"data row2 col10\" >None</td>\n",
       "      <td id=\"T_22f7c_row2_col11\" class=\"data row2 col11\" >4</td>\n",
       "    </tr>\n",
       "    <tr>\n",
       "      <td id=\"T_22f7c_row3_col0\" class=\"data row3 col0\" >switch-server1_nic-p1</td>\n",
       "      <td id=\"T_22f7c_row3_col1\" class=\"data row3 col1\" >p1</td>\n",
       "      <td id=\"T_22f7c_row3_col2\" class=\"data row3 col2\" >switch</td>\n",
       "      <td id=\"T_22f7c_row3_col3\" class=\"data row3 col3\" >switch_server1_net</td>\n",
       "      <td id=\"T_22f7c_row3_col4\" class=\"data row3 col4\" >100</td>\n",
       "      <td id=\"T_22f7c_row3_col5\" class=\"data row3 col5\" >config</td>\n",
       "      <td id=\"T_22f7c_row3_col6\" class=\"data row3 col6\" ></td>\n",
       "      <td id=\"T_22f7c_row3_col7\" class=\"data row3 col7\" >0A:B3:8E:41:D5:F6</td>\n",
       "      <td id=\"T_22f7c_row3_col8\" class=\"data row3 col8\" >enp8s0</td>\n",
       "      <td id=\"T_22f7c_row3_col9\" class=\"data row3 col9\" >enp8s0</td>\n",
       "      <td id=\"T_22f7c_row3_col10\" class=\"data row3 col10\" >None</td>\n",
       "      <td id=\"T_22f7c_row3_col11\" class=\"data row3 col11\" >4</td>\n",
       "    </tr>\n",
       "    <tr>\n",
       "      <td id=\"T_22f7c_row4_col0\" class=\"data row4 col0\" >switch-server2_nic-p1</td>\n",
       "      <td id=\"T_22f7c_row4_col1\" class=\"data row4 col1\" >p1</td>\n",
       "      <td id=\"T_22f7c_row4_col2\" class=\"data row4 col2\" >switch</td>\n",
       "      <td id=\"T_22f7c_row4_col3\" class=\"data row4 col3\" >switch_server2_net</td>\n",
       "      <td id=\"T_22f7c_row4_col4\" class=\"data row4 col4\" >100</td>\n",
       "      <td id=\"T_22f7c_row4_col5\" class=\"data row4 col5\" >config</td>\n",
       "      <td id=\"T_22f7c_row4_col6\" class=\"data row4 col6\" ></td>\n",
       "      <td id=\"T_22f7c_row4_col7\" class=\"data row4 col7\" >0E:2F:4D:8A:91:53</td>\n",
       "      <td id=\"T_22f7c_row4_col8\" class=\"data row4 col8\" >enp9s0</td>\n",
       "      <td id=\"T_22f7c_row4_col9\" class=\"data row4 col9\" >enp9s0</td>\n",
       "      <td id=\"T_22f7c_row4_col10\" class=\"data row4 col10\" >None</td>\n",
       "      <td id=\"T_22f7c_row4_col11\" class=\"data row4 col11\" >4</td>\n",
       "    </tr>\n",
       "    <tr>\n",
       "      <td id=\"T_22f7c_row5_col0\" class=\"data row5 col0\" >switch-client_nic-p1</td>\n",
       "      <td id=\"T_22f7c_row5_col1\" class=\"data row5 col1\" >p1</td>\n",
       "      <td id=\"T_22f7c_row5_col2\" class=\"data row5 col2\" >switch</td>\n",
       "      <td id=\"T_22f7c_row5_col3\" class=\"data row5 col3\" >switch_client_net</td>\n",
       "      <td id=\"T_22f7c_row5_col4\" class=\"data row5 col4\" >100</td>\n",
       "      <td id=\"T_22f7c_row5_col5\" class=\"data row5 col5\" >config</td>\n",
       "      <td id=\"T_22f7c_row5_col6\" class=\"data row5 col6\" ></td>\n",
       "      <td id=\"T_22f7c_row5_col7\" class=\"data row5 col7\" >0A:2B:94:0B:E8:1A</td>\n",
       "      <td id=\"T_22f7c_row5_col8\" class=\"data row5 col8\" >enp7s0</td>\n",
       "      <td id=\"T_22f7c_row5_col9\" class=\"data row5 col9\" >enp7s0</td>\n",
       "      <td id=\"T_22f7c_row5_col10\" class=\"data row5 col10\" >None</td>\n",
       "      <td id=\"T_22f7c_row5_col11\" class=\"data row5 col11\" >4</td>\n",
       "    </tr>\n",
       "  </tbody>\n",
       "</table>\n"
      ],
      "text/plain": [
       "<pandas.io.formats.style.Styler at 0x7f9cb06fdbd0>"
      ]
     },
     "metadata": {},
     "output_type": "display_data"
    },
    {
     "name": "stdout",
     "output_type": "stream",
     "text": [
      "\n",
      "Time to print interfaces 379 seconds\n"
     ]
    },
    {
     "data": {
      "text/plain": [
       "'6a2c0f33-d690-42d7-824a-4d1ffcc6de68'"
      ]
     },
     "execution_count": 14,
     "metadata": {},
     "output_type": "execute_result"
    }
   ],
   "source": [
    "slice.submit()"
   ]
  },
  {
   "cell_type": "code",
   "execution_count": null,
   "id": "cd0b15b2-ea40-4194-843d-5ba61aa07e6c",
   "metadata": {},
   "outputs": [],
   "source": [
    "for iface in slice.get_interfaces():\n",
    "    print(iface)"
   ]
  },
  {
   "cell_type": "markdown",
   "id": "13673028-059b-487c-b9db-4542e58c2b3b",
   "metadata": {},
   "source": [
    "#  NETWORK services\n"
   ]
  },
  {
   "cell_type": "code",
   "execution_count": null,
   "id": "ac672dc5-ac16-473d-a013-f552b88953f9",
   "metadata": {},
   "outputs": [],
   "source": [
    "for nw_service in slice.get_network_services():\n",
    "    print(nw_service)"
   ]
  },
  {
   "cell_type": "markdown",
   "id": "9177b82b-52e3-4eed-ad71-3abc9a1720dc",
   "metadata": {},
   "source": [
    "## NODE INFORMATION"
   ]
  },
  {
   "cell_type": "code",
   "execution_count": null,
   "id": "e92faae9-4a38-47ac-b8e0-c3bd28903dd0",
   "metadata": {},
   "outputs": [],
   "source": [
    "for node in slice.get_nodes():\n",
    "    print(node)"
   ]
  },
  {
   "cell_type": "code",
   "execution_count": 16,
   "id": "2eb62d67-40ae-4340-9bf4-814755f82f84",
   "metadata": {},
   "outputs": [],
   "source": [
    "from datetime import datetime\n",
    "from datetime import timezone\n",
    "from datetime import timedelta\n",
    "\n",
    "#Set end host to now plus 1 day\n",
    "end_date = (datetime.now(timezone.utc) + timedelta(days=7)).strftime(\"%Y-%m-%d %H:%M:%S %z\")\n",
    "\n",
    "try:\n",
    "    slice = fablib.get_slice(name=slice_name)\n",
    "\n",
    "    slice.renew(end_date)\n",
    "except Exception as e:\n",
    "    print(f\"Exception: {e}\")"
   ]
  },
  {
   "cell_type": "code",
   "execution_count": null,
   "id": "9d6e193d-704e-4bcb-b90e-52be37854369",
   "metadata": {},
   "outputs": [],
   "source": []
  },
  {
   "cell_type": "code",
   "execution_count": 17,
   "id": "ad9352bf-4487-4c61-9276-6db95cdf66fb",
   "metadata": {},
   "outputs": [],
   "source": [
    "### installing the switch \n",
    "\n",
    "\n",
    "\n",
    "switch = slice.get_node(name=\"switch\")     \n",
    "switch.upload_file('install_bmv2.sh', 'install_bmv2.sh')\n",
    "stdout, stderr = switch.execute(f'chmod +x install_bmv2.sh &&  ./install_bmv2.sh',quiet=True)"
   ]
  },
  {
   "cell_type": "code",
   "execution_count": 18,
   "id": "617de38a-2205-42fb-a5f7-375336ec4e4b",
   "metadata": {},
   "outputs": [],
   "source": [
    "#The net-tools package will be installed on the switch, server1 and server2 nodes. This package will allow us to use the ifconfig and the arp commands\n",
    "\n",
    "client = slice.get_node(name=\"client\")\n",
    "server1 = slice.get_node(name=\"server1\")\n",
    "server2 = slice.get_node(name=\"server2\")\n",
    "switch = slice.get_node(name=\"switch\")\n",
    "\n",
    "\n",
    "stdout, stderr = client.execute(f'sudo apt-get install -y net-tools', quiet=True)\n",
    "stdout, stderr = server1.execute(f'sudo apt-get install -y net-tools', quiet=True)\n",
    "stdout, stderr = server2.execute(f'sudo apt-get install -y net-tools', quiet=True)\n",
    "stdout, stderr = switch.execute(f'sudo apt-get install -y net-tools', quiet=True)"
   ]
  },
  {
   "cell_type": "markdown",
   "id": "35d4ba81-9f82-4a65-a500-58b93c8e7b9f",
   "metadata": {},
   "source": [
    "## EXECUTE BELOW FOR QUILY ACCESSING NODES"
   ]
  },
  {
   "cell_type": "code",
   "execution_count": 5,
   "id": "b3dda952-314d-43e7-b73f-a528b2ff500f",
   "metadata": {},
   "outputs": [],
   "source": [
    "client = slice.get_node(name=\"client\")\n",
    "server1 = slice.get_node(name=\"server1\")\n",
    "switch = slice.get_node(name=\"switch\")\n",
    "server2 = slice.get_node(name=\"server2\")"
   ]
  },
  {
   "cell_type": "code",
   "execution_count": 9,
   "id": "a8edd7cf-d656-4e51-bbeb-15322674d83a",
   "metadata": {},
   "outputs": [
    {
     "name": "stdout",
     "output_type": "stream",
     "text": [
      "client_iface_name: enp7s0\n",
      "switch_client_iface_name: enp7s0\n",
      "switch_s1_iface_name: enp8s0\n",
      "switch_s2_iface_name: enp9s0\n",
      "server1_iface_name: enp7s0\n",
      "server2_iface_name: enp7s0\n"
     ]
    }
   ],
   "source": [
    "client_iface = client.get_interface(network_name='switch_client_net') \n",
    "client_iface_name = client_iface.get_device_name()\n",
    "print(f'client_iface_name: {client_iface_name}')\n",
    "\n",
    "switch_client_iface = switch.get_interface(network_name='switch_client_net') \n",
    "switch_client_iface_name = switch_client_iface.get_device_name()\n",
    "print(f'switch_client_iface_name: {switch_client_iface_name}')\n",
    "\n",
    "switch_s1_iface = switch.get_interface(network_name='switch_server1_net') \n",
    "switch_s1_iface_name = switch_s1_iface.get_device_name()\n",
    "print(f'switch_s1_iface_name: {switch_s1_iface_name}')\n",
    "\n",
    "switch_s2_iface = switch.get_interface(network_name='switch_server2_net') \n",
    "switch_s2_iface_name = switch_s2_iface.get_device_name()\n",
    "print(f'switch_s2_iface_name: {switch_s2_iface_name}')\n",
    "\n",
    "server1_iface = server1.get_interface(network_name='switch_server1_net') \n",
    "server1_iface_name = server1_iface.get_device_name()\n",
    "print(f'server1_iface_name: {server1_iface_name}')\n",
    "\n",
    "server2_iface = server2.get_interface(network_name='switch_server2_net') \n",
    "server2_iface_name = server2_iface.get_device_name()\n",
    "print(f'server2_iface_name: {server2_iface_name}')"
   ]
  },
  {
   "cell_type": "code",
   "execution_count": 21,
   "id": "d79132b4-9617-4ad2-b76f-178c6f4c1389",
   "metadata": {},
   "outputs": [],
   "source": [
    "### turning all the ifaces up\n",
    "\n",
    "stdout, stderr = client.execute(f'sudo ip link set dev {client_iface_name} up', quiet=True)\n",
    "stdout, stderr = switch.execute(f'sudo ip link set dev {switch_client_iface_name} up', quiet=True)\n",
    "stdout, stderr = switch.execute(f'sudo ip link set dev {switch_s1_iface_name} up', quiet=True)\n",
    "stdout, stderr = switch.execute(f'sudo ip link set dev {switch_s2_iface_name} up', quiet=True)\n",
    "stdout, stderr = server1.execute(f'sudo ip link set dev {server1_iface_name} up', quiet=True)\n",
    "stdout, stderr = server2.execute(f'sudo ip link set dev {server2_iface_name} up', quiet=True)"
   ]
  },
  {
   "cell_type": "code",
   "execution_count": 22,
   "id": "48e3d971-2be4-4fdd-b979-9e4528ed341f",
   "metadata": {},
   "outputs": [],
   "source": [
    "client_iface_MAC = '00:00:00:00:00:01'\n",
    "switch_client_iface_MAC = '00:00:00:00:00:02'\n",
    "switch_s1_iface_MAC = '00:00:00:00:00:03'\n",
    "server1_iface_MAC = '00:00:00:00:00:04'\n",
    "switch_s2_iface_MAC = '00:00:00:00:00:05'\n",
    "server2_iface_MAC = '00:00:00:00:00:06'"
   ]
  },
  {
   "cell_type": "code",
   "execution_count": 23,
   "id": "0768b96a-2442-4bfe-94fa-47ab8f5d1a46",
   "metadata": {},
   "outputs": [],
   "source": [
    "\n",
    "## configuring ip and mac b/w client_iface and switch_iface1\n",
    "\n",
    "client_switch_subnet = \"192.168.1.0/24\"\n",
    "client_iface_ip = '192.168.1.10/24'\n",
    "switch_client_iface_ip = '192.168.1.1/24'\n",
    "\n",
    "stdout, stderr = client.execute(f'sudo ifconfig {client_iface_name} {client_iface_ip}')\n",
    "stdout, stderr = switch.execute(f'sudo ifconfig {switch_client_iface_name} {switch_client_iface_ip}')\n",
    "\n",
    "stdout, stderr = client.execute(f'sudo ifconfig {client_iface_name} hw ether {client_iface_MAC}')\n",
    "stdout, stderr = switch.execute(f'sudo ifconfig {switch_client_iface_name} hw ether {switch_client_iface_MAC}')"
   ]
  },
  {
   "cell_type": "code",
   "execution_count": 24,
   "id": "5a7586a4-e34a-482b-90b5-4d50310ab05d",
   "metadata": {},
   "outputs": [],
   "source": [
    "\n",
    "## configuring ip and mac b/w server1_iface and switch_iface2\n",
    "\n",
    "server1_switch_subnet = \"192.168.2.0/24\"\n",
    "server1_iface_ip = '192.168.2.10/24'\n",
    "switch_s1_iface_ip = '192.168.2.1/24'\n",
    "\n",
    "stdout, stderr = server1.execute(f'sudo ifconfig {server1_iface_name} {server1_iface_ip}')\n",
    "stdout, stderr = switch.execute(f'sudo ifconfig {switch_s1_iface_name} {switch_s1_iface_ip}')\n",
    "\n",
    "stdout, stderr = server1.execute(f'sudo ifconfig {server1_iface_name} hw ether {server1_iface_MAC}')\n",
    "stdout, stderr = switch.execute(f'sudo ifconfig {switch_s1_iface_name} hw ether {switch_s1_iface_MAC}')"
   ]
  },
  {
   "cell_type": "code",
   "execution_count": 25,
   "id": "c4813f0a-ee74-47eb-b986-b5343c5924f8",
   "metadata": {},
   "outputs": [],
   "source": [
    "\n",
    "## configuring ip and mac b/w server1_iface and switch_iface2\n",
    "\n",
    "server2_switch_subnet = \"192.168.3.0/24\"\n",
    "server2_iface_ip = '192.168.3.10/24'\n",
    "switch_s2_iface_ip = '192.168.3.1/24'\n",
    "\n",
    "stdout, stderr = server2.execute(f'sudo ifconfig {server2_iface_name} {server2_iface_ip}')\n",
    "stdout, stderr = switch.execute(f'sudo ifconfig {switch_s2_iface_name} {switch_s2_iface_ip}')\n",
    "\n",
    "stdout, stderr = server2.execute(f'sudo ifconfig {server2_iface_name} hw ether {server2_iface_MAC}')\n",
    "stdout, stderr = switch.execute(f'sudo ifconfig {switch_s2_iface_name} hw ether {switch_s2_iface_MAC}')"
   ]
  },
  {
   "cell_type": "code",
   "execution_count": 26,
   "id": "d5708342-d957-401f-9a2f-43fa5f67d793",
   "metadata": {},
   "outputs": [],
   "source": [
    "\n",
    "## enable ip forwarding on switch\n",
    "command = 'sudo sysctl -w net.ipv4.ip_forward=1' \n",
    "stdout, stderr = switch.execute(command, quiet=True)"
   ]
  },
  {
   "cell_type": "code",
   "execution_count": 27,
   "id": "5d1319c3-0a8b-4513-bcd1-b7591cce7b86",
   "metadata": {},
   "outputs": [],
   "source": [
    "## In this step, we are deleting the routes on the switch's routing table in Linux. By deleting the routes, the packets will go through the BMv2 switch instead of being forwarded by the kernel\n",
    "\n",
    "stdout, stderr = switch.execute(f'sudo ip route del {client_switch_subnet}', quiet=True)\n",
    "stdout, stderr = switch.execute(f'sudo ip route del {server1_switch_subnet}', quiet=True)\n",
    "stdout, stderr = switch.execute(f'sudo ip route del {server2_switch_subnet}', quiet=True)"
   ]
  },
  {
   "cell_type": "code",
   "execution_count": 28,
   "id": "cc7c72e0-bf2a-4079-9ebc-947cea39894d",
   "metadata": {},
   "outputs": [
    {
     "name": "stdout",
     "output_type": "stream",
     "text": [
      "192.168.1.1\n",
      "192.168.2.1\n",
      "192.168.3.1\n"
     ]
    }
   ],
   "source": [
    "### configure static routing\n",
    "\n",
    "\n",
    "switch_client_gw = switch_client_iface_ip.split('/')[0]\n",
    "switch_s1_gw = switch_s1_iface_ip.split('/')[0]\n",
    "switch_s2_gw = switch_s2_iface_ip.split('/')[0]\n",
    "\n",
    "print(switch_client_gw)\n",
    "print(switch_s1_gw)\n",
    "print(switch_s2_gw)\n",
    "\n",
    "\n"
   ]
  },
  {
   "cell_type": "markdown",
   "id": "2dc9efc3-5aa5-49f6-9c60-7353fe5bb1e1",
   "metadata": {},
   "source": [
    "#### NOT SETTING UP ANY ROUTES FOR NAT"
   ]
  },
  {
   "cell_type": "code",
   "execution_count": 29,
   "id": "8e0be89d-74dd-494c-82ec-a6799b26e5c7",
   "metadata": {},
   "outputs": [],
   "source": [
    "stdout, stderr = client.execute(f'sudo ip route add {server2_switch_subnet} via {switch_client_gw}')\n",
    "stdout, stderr = client.execute(f'sudo ip route add {server1_switch_subnet} via {switch_client_gw}')\n",
    "\n",
    "stdout, stderr = server1.execute(f'sudo ip route add {client_switch_subnet} via {switch_s1_gw}')\n",
    "stdout, stderr = server2.execute(f'sudo ip route add {client_switch_subnet} via {switch_s2_gw}')"
   ]
  },
  {
   "cell_type": "code",
   "execution_count": 30,
   "id": "ef8c196e-2ca3-44da-b956-bd3d3b119f67",
   "metadata": {},
   "outputs": [],
   "source": [
    "### hardcoding arp so that these packets are not sent from the nodes to the bmv switch\n",
    "stdout, stderr = client.execute(f'sudo arp -s {switch_client_gw} {switch_client_iface_MAC}')\n",
    "stdout, stderr = server1.execute(f'sudo arp -s {switch_s1_gw} {switch_s1_iface_MAC}')\n",
    "stdout, stderr = server2.execute(f'sudo arp -s {switch_s2_gw} {switch_s2_iface_MAC}')"
   ]
  },
  {
   "cell_type": "code",
   "execution_count": 31,
   "id": "8d1b8caf-3426-4dfa-92cf-c6ff218d9a38",
   "metadata": {},
   "outputs": [],
   "source": [
    "stdout, stderr = switch.execute(f'chmod +x install_bmv2.sh &&  ./install_bmv2.sh',quiet=True)"
   ]
  },
  {
   "cell_type": "code",
   "execution_count": 8,
   "id": "e08d6c11-4c9e-4684-a7a8-e6ef38f892f2",
   "metadata": {},
   "outputs": [],
   "source": [
    "stdout, stderr = client.execute(f'sudo apt-get update && sudo apt-get install -y python3-scapy', quiet=True)"
   ]
  },
  {
   "cell_type": "code",
   "execution_count": 51,
   "id": "81ce08f4-baac-4bfb-bdb6-156869ca4288",
   "metadata": {},
   "outputs": [
    {
     "name": "stdout",
     "output_type": "stream",
     "text": [
      "sudo simple_switch -i 0@enp7s0 -i 1@enp8s0 -i 2@enp9s0 main.json --log-console\n"
     ]
    }
   ],
   "source": [
    "switch.upload_file('tcp-checksum-port-mapping.p4', 'main.p4')\n",
    "# stdout, stderr = switch.execute(f'p4c main.p4')\n",
    "# stdout, stderr = switch.execute(f'sudo pkill simple_switch')\n",
    "print(f'sudo simple_switch -i 0@{switch_client_iface_name} -i 1@{switch_s1_iface_name} -i 2@{switch_s2_iface_name} main.json --log-console')"
   ]
  },
  {
   "cell_type": "code",
   "execution_count": 16,
   "id": "98a0059e-4f15-4894-a7ad-c5b3bd38e7b3",
   "metadata": {},
   "outputs": [
    {
     "name": "stdout",
     "output_type": "stream",
     "text": [
      "Obtaining JSON from switch...\n",
      "Done\n",
      "Control utility for runtime P4 table manipulation\n",
      "RuntimeCmd: Adding entry to exact match table MyIngress.forward_nat\n",
      "match key:           EXACT-00\tEXACT-00:00:00:00\tEXACT-00:00\n",
      "action:              MyIngress.send_to_server\n",
      "runtime data:        00:00:00:00:00:03\t00:00:00:00:00:04\tc0:a8:02:0a\t00:01\t00:50\n",
      "Entry has been added with handle 0\n",
      "RuntimeCmd: \n",
      "Obtaining JSON from switch...\n",
      "Done\n",
      "Control utility for runtime P4 table manipulation\n",
      "RuntimeCmd: Adding entry to exact match table MyIngress.forward_nat\n",
      "match key:           EXACT-01\tEXACT-00:00:00:00\tEXACT-00:00\n",
      "action:              MyIngress.send_to_server\n",
      "runtime data:        00:00:00:00:00:03\t00:00:00:00:00:04\tc0:a8:02:0a\t00:01\t00:50\n",
      "Entry has been added with handle 1\n",
      "RuntimeCmd: \n",
      "Obtaining JSON from switch...\n",
      "Done\n",
      "Control utility for runtime P4 table manipulation\n",
      "RuntimeCmd: Adding entry to exact match table MyIngress.forward_nat\n",
      "match key:           EXACT-01\tEXACT-00:00:00:01\tEXACT-00:00\n",
      "action:              MyIngress.send_to_server\n",
      "runtime data:        00:00:00:00:00:05\t00:00:00:00:00:06\tc0:a8:03:0a\t00:02\t00:50\n",
      "Entry has been added with handle 2\n",
      "RuntimeCmd: \n",
      "Obtaining JSON from switch...\n",
      "Done\n",
      "Control utility for runtime P4 table manipulation\n",
      "RuntimeCmd: Adding entry to exact match table MyIngress.reverse_nat\n",
      "match key:           EXACT-00:01\tEXACT-00:50\n",
      "action:              MyIngress.send_to_client\n",
      "runtime data:        00:00:00:00:00:02\t00:00:00:00:00:01\tc0:a8:01:01\t00:00\n",
      "Entry has been added with handle 0\n",
      "RuntimeCmd: \n",
      "Obtaining JSON from switch...\n",
      "Done\n",
      "Control utility for runtime P4 table manipulation\n",
      "RuntimeCmd: Adding entry to exact match table MyIngress.reverse_nat\n",
      "match key:           EXACT-00:02\tEXACT-00:50\n",
      "action:              MyIngress.send_to_client\n",
      "runtime data:        00:00:00:00:00:02\t00:00:00:00:00:01\tc0:a8:01:01\t00:00\n",
      "Entry has been added with handle 1\n",
      "RuntimeCmd: \n"
     ]
    }
   ],
   "source": [
    "#upload match action rules directly from the rules file\n",
    "switch.upload_file('tcp-checksum-latest-rules.sh', 'tcp-checksum-latest-rules.sh')\n",
    "stdout, stderr = switch.execute('chmod +x tcp-checksum-latest-rules.sh && ./tcp-checksum-latest-rules.sh')\n"
   ]
  },
  {
   "cell_type": "markdown",
   "id": "b3db9665-6769-46d1-9c79-308fd545e560",
   "metadata": {},
   "source": [
    "### change register state to 0\n"
   ]
  },
  {
   "cell_type": "code",
   "execution_count": 68,
   "id": "8c0607e1-aa8f-40ca-9465-5359d9e1587a",
   "metadata": {},
   "outputs": [
    {
     "name": "stdout",
     "output_type": "stream",
     "text": [
      "Obtaining JSON from switch...\n",
      "Done\n",
      "Control utility for runtime P4 table manipulation\n",
      "RuntimeCmd: RuntimeCmd: \n"
     ]
    }
   ],
   "source": [
    "\n",
    "switch.upload_file('register-modify-state0.sh', 'register-modify-state0.sh')\n",
    "stdout, stderr = switch.execute('chmod +x register-modify-state0.sh && ./register-modify-state0.sh')\n"
   ]
  },
  {
   "cell_type": "markdown",
   "id": "b15a67d2-bd5d-4416-bc01-2ad4b068a395",
   "metadata": {
    "tags": []
   },
   "source": [
    "### change register state to 1"
   ]
  },
  {
   "cell_type": "code",
   "execution_count": 75,
   "id": "07650342-0462-487c-995d-b6d205096533",
   "metadata": {},
   "outputs": [
    {
     "name": "stdout",
     "output_type": "stream",
     "text": [
      "Obtaining JSON from switch...\n",
      "Done\n",
      "Control utility for runtime P4 table manipulation\n",
      "RuntimeCmd: RuntimeCmd: \n"
     ]
    }
   ],
   "source": [
    "\n",
    "switch.upload_file('register-modify-state1.sh', 'register-modify-state1.sh')\n",
    "stdout, stderr = switch.execute('chmod +x register-modify-state1.sh && ./register-modify-state1.sh')\n"
   ]
  },
  {
   "cell_type": "code",
   "execution_count": 58,
   "id": "bb60a502-8a31-49da-b551-28911eb69bfc",
   "metadata": {},
   "outputs": [
    {
     "data": {
      "text/plain": [
       "<SFTPAttributes: [ size=484 uid=1000 gid=1000 mode=0o100664 atime=1713031183 mtime=1713031330 ]>"
      ]
     },
     "execution_count": 58,
     "metadata": {},
     "output_type": "execute_result"
    }
   ],
   "source": [
    "server1.upload_file('api_code.py', 'api_code.py')\n",
    "server2.upload_file('api_code.py', 'api_code.py')"
   ]
  },
  {
   "cell_type": "code",
   "execution_count": null,
   "id": "0d287874-0477-4ce9-95b1-de4bf3919b26",
   "metadata": {},
   "outputs": [],
   "source": []
  },
  {
   "cell_type": "markdown",
   "id": "3c185eed-9386-457d-8c86-26a8cb68a3c7",
   "metadata": {},
   "source": [
    "### high perfm switching and disable tcp offloading"
   ]
  },
  {
   "cell_type": "code",
   "execution_count": null,
   "id": "b58c293b-0751-474c-b3e4-3a240bde0a82",
   "metadata": {},
   "outputs": [],
   "source": [
    "### high performance switching\n",
    "switch.upload_file('scripts/simple_switch_hp.gz', '/home/ubuntu/simple_switch_hp.gz')\n",
    "switch.execute('gzip -d simple_switch_hp.gz')\n",
    "switch.execute('chmod +x /home/ubuntu/simple_switch_hp')\n",
    "stdout, stderr = switch.execute(f'sudo pkill switch')\n",
    "\n",
    "switch.upload_file('scripts/disable_offload.sh', 'disable_offload.sh')\n",
    "stdout, stderr = switch.execute(f'sudo chmod +x ./disable_offload.sh && sudo ./disable_offload.sh {switch_client_iface_name}', quiet=True)\n",
    "stdout, stderr = switch.execute(f'sudo chmod +x ./disable_offload.sh && sudo ./disable_offload.sh {switch_s1_iface_name}', quiet=True)\n",
    "stdout, stderr = switch.execute(f'sudo chmod +x ./disable_offload.sh && sudo ./disable_offload.sh {switch_s2_iface_name}', quiet=True)"
   ]
  },
  {
   "cell_type": "code",
   "execution_count": 73,
   "id": "b96a2f0f-3650-4501-9f80-d68bcf08a171",
   "metadata": {},
   "outputs": [
    {
     "name": "stdout",
     "output_type": "stream",
     "text": [
      "sudo /home/ubuntu/simple_switch_hp -i 0@enp7s0 -i 1@enp8s0 -i 2@enp9s0 main.json &\n"
     ]
    }
   ],
   "source": [
    "### run the hp switch\n",
    "print(f'sudo /home/ubuntu/simple_switch_hp -i 0@{switch_client_iface_name} -i 1@{switch_s1_iface_name} -i 2@{switch_s2_iface_name} main.json &')"
   ]
  },
  {
   "cell_type": "code",
   "execution_count": 45,
   "id": "0652a81b-2e02-4358-8c2c-e7dcfebad76d",
   "metadata": {},
   "outputs": [
    {
     "data": {
      "text/plain": [
       "<SFTPAttributes: [ size=1707 uid=1000 gid=1000 mode=0o100664 atime=1712216143 mtime=1712217276 ]>"
      ]
     },
     "execution_count": 45,
     "metadata": {},
     "output_type": "execute_result"
    }
   ],
   "source": [
    "server1.upload_file(\"jupyter-examples-rel1.6.1/fabric_examples/complex_recipes/p4_labs_bmv2/labs_files/cse534/recv.py\",\"recv.py\") "
   ]
  },
  {
   "cell_type": "code",
   "execution_count": 25,
   "id": "406822e9-51f0-49c2-b5c9-40adc2ace4ea",
   "metadata": {},
   "outputs": [
    {
     "data": {
      "text/plain": [
       "<SFTPAttributes: [ size=1707 uid=1000 gid=1000 mode=0o100664 atime=1712262556 mtime=1712262556 ]>"
      ]
     },
     "execution_count": 25,
     "metadata": {},
     "output_type": "execute_result"
    }
   ],
   "source": [
    "switch.upload_file(\"jupyter-examples-rel1.6.1/fabric_examples/complex_recipes/p4_labs_bmv2/labs_files/cse534/recv.py\",\"recv.py\") "
   ]
  },
  {
   "cell_type": "code",
   "execution_count": 26,
   "id": "84b00fd6-3613-4b02-b112-2df7935196be",
   "metadata": {},
   "outputs": [
    {
     "data": {
      "text/plain": [
       "<SFTPAttributes: [ size=1707 uid=1000 gid=1000 mode=0o100664 atime=1712263004 mtime=1712263004 ]>"
      ]
     },
     "execution_count": 26,
     "metadata": {},
     "output_type": "execute_result"
    }
   ],
   "source": [
    "client.upload_file(\"jupyter-examples-rel1.6.1/fabric_examples/complex_recipes/p4_labs_bmv2/labs_files/cse534/recv.py\",\"recv.py\") "
   ]
  },
  {
   "cell_type": "markdown",
   "id": "3d8061a8-5268-453d-bd1e-12b16d18e6dc",
   "metadata": {},
   "source": [
    "### we now start setting up of the mflib on the nodes\n"
   ]
  },
  {
   "cell_type": "code",
   "execution_count": 76,
   "id": "5b4d4989-bc0d-436c-8d50-0b4768acc180",
   "metadata": {},
   "outputs": [
    {
     "name": "stdout",
     "output_type": "stream",
     "text": [
      "MFLib version  1.0.4 \n"
     ]
    }
   ],
   "source": [
    "import mflib \n",
    "print(f\"MFLib version  {mflib.__version__} \" )\n",
    "\n",
    "from mflib.mflib import MFLib"
   ]
  },
  {
   "cell_type": "code",
   "execution_count": 79,
   "id": "0ce7feb3-6c71-4e19-8402-91d1bcb7a592",
   "metadata": {},
   "outputs": [],
   "source": [
    "client_nw_pr_name='client_nw_pr'\n",
    "s1_nw_pr_name='s1_nw_pr'\n",
    "s2_nw_pr_name='s2_nw_pr'\n",
    "\n",
    "client_nic_name = 'client_nic_pr'\n",
    "s1_nic_name = 's1_nic_pr'\n",
    "s2_nic_name = 's2_nic_pr'"
   ]
  },
  {
   "cell_type": "code",
   "execution_count": 83,
   "id": "5c7ffc2c-d1dc-4215-ac40-e3e3002a738e",
   "metadata": {},
   "outputs": [
    {
     "data": {
      "text/plain": [
       "<fabrictestbed_extensions.fablib.interface.Interface at 0x7f9cb01150c0>"
      ]
     },
     "execution_count": 83,
     "metadata": {},
     "output_type": "execute_result"
    }
   ],
   "source": [
    "client.get_component(name=client_nic_name).get_interfaces()[0]"
   ]
  },
  {
   "cell_type": "code",
   "execution_count": 87,
   "id": "7282f38d-ae15-4e15-8784-d58e73d3f007",
   "metadata": {},
   "outputs": [],
   "source": [
    "try:\n",
    "    \n",
    "    # client\n",
    "    client_iface_pr = client.add_component(model='NIC_Basic', name=client_nic_name).get_interfaces()[0]\n",
    "    \n",
    "    # server1\n",
    "    s1_iface_pr = server1.add_component(model='NIC_Basic', name=s1_nic_name).get_interfaces()[0]\n",
    "    \n",
    "    # server2\n",
    "    s2_iface_pr = server2.add_component(model='NIC_Basic', name=s2_nic_name).get_interfaces()[0]\n",
    "\n",
    "    # NetworkS\n",
    "    \n",
    "    client_iface_pr = client.get_component(name=client_nic_name).get_interfaces()[0]\n",
    "    s1_iface_pr = server1.get_component(name=s1_nic_name).get_interfaces()[0]\n",
    "    s2_iface_pr = server2.get_component(name=s2_nic_name).get_interfaces()[0]\n",
    "    \n",
    "    client_nw_pr = slice.add_l3network(name=client_nw_pr_name, interfaces=[client_iface_pr], type='IPv4')\n",
    "    s1_nw_pr = slice.add_l3network(name=s1_nw_pr_name, interfaces=[s1_iface_pr], type='IPv4')\n",
    "    s2_nw_pr = slice.add_l3network(name=s2_nw_pr_name, interfaces=[s2_iface_pr], type='IPv4')\n",
    "except Exception as e:\n",
    "    print(f\"Exception: {e}\")"
   ]
  },
  {
   "cell_type": "code",
   "execution_count": 88,
   "id": "a537a567-018d-440a-bf34-98dc28ef2165",
   "metadata": {},
   "outputs": [
    {
     "name": "stdout",
     "output_type": "stream",
     "text": [
      "Done\n"
     ]
    }
   ],
   "source": [
    "### add the measurement node\n",
    "\n",
    "MFLib.addMeasNode(slice, disk=100)\n",
    "print(\"Done\")"
   ]
  },
  {
   "cell_type": "code",
   "execution_count": 89,
   "id": "1069c7a8-b36f-4e05-b490-5e357c792772",
   "metadata": {},
   "outputs": [
    {
     "name": "stdout",
     "output_type": "stream",
     "text": [
      "\n",
      "Retry: 7, Time: 508 sec\n"
     ]
    },
    {
     "data": {
      "text/html": [
       "<style type=\"text/css\">\n",
       "#T_bb595 tr:nth-child(even) {\n",
       "  background: #dbf3ff;\n",
       "  color: #231f20;\n",
       "}\n",
       "#T_bb595 tr:nth-child(odd) {\n",
       "  background: #ffffff;\n",
       "  color: #231f20;\n",
       "}\n",
       "#T_bb595 caption {\n",
       "  text-align: center;\n",
       "  font-size: 150%;\n",
       "}\n",
       "#T_bb595_row0_col0, #T_bb595_row0_col1, #T_bb595_row1_col0, #T_bb595_row1_col1, #T_bb595_row2_col0, #T_bb595_row2_col1, #T_bb595_row3_col0, #T_bb595_row3_col1, #T_bb595_row4_col0, #T_bb595_row4_col1, #T_bb595_row5_col0 {\n",
       "  text-align: left;\n",
       "  border: 1px #231f20 solid !important;\n",
       "  overwrite: False;\n",
       "  background-color: ;\n",
       "}\n",
       "#T_bb595_row5_col1 {\n",
       "  text-align: left;\n",
       "  border: 1px #231f20 solid !important;\n",
       "  overwrite: False;\n",
       "  background-color: #c3ffc4;\n",
       "}\n",
       "</style>\n",
       "<table id=\"T_bb595\">\n",
       "  <caption>Slice</caption>\n",
       "  <thead>\n",
       "  </thead>\n",
       "  <tbody>\n",
       "    <tr>\n",
       "      <td id=\"T_bb595_row0_col0\" class=\"data row0 col0\" >ID</td>\n",
       "      <td id=\"T_bb595_row0_col1\" class=\"data row0 col1\" >6a2c0f33-d690-42d7-824a-4d1ffcc6de68</td>\n",
       "    </tr>\n",
       "    <tr>\n",
       "      <td id=\"T_bb595_row1_col0\" class=\"data row1 col0\" >Name</td>\n",
       "      <td id=\"T_bb595_row1_col1\" class=\"data row1 col1\" >kalhan-cse-534-nat-2-servers</td>\n",
       "    </tr>\n",
       "    <tr>\n",
       "      <td id=\"T_bb595_row2_col0\" class=\"data row2 col0\" >Lease Expiration (UTC)</td>\n",
       "      <td id=\"T_bb595_row2_col1\" class=\"data row2 col1\" >2024-04-20 15:14:24 +0000</td>\n",
       "    </tr>\n",
       "    <tr>\n",
       "      <td id=\"T_bb595_row3_col0\" class=\"data row3 col0\" >Lease Start (UTC)</td>\n",
       "      <td id=\"T_bb595_row3_col1\" class=\"data row3 col1\" >2024-04-13 15:07:33 +0000</td>\n",
       "    </tr>\n",
       "    <tr>\n",
       "      <td id=\"T_bb595_row4_col0\" class=\"data row4 col0\" >Project ID</td>\n",
       "      <td id=\"T_bb595_row4_col1\" class=\"data row4 col1\" >6ce270de-788d-4e07-8bae-3206860a6387</td>\n",
       "    </tr>\n",
       "    <tr>\n",
       "      <td id=\"T_bb595_row5_col0\" class=\"data row5 col0\" >State</td>\n",
       "      <td id=\"T_bb595_row5_col1\" class=\"data row5 col1\" >StableOK</td>\n",
       "    </tr>\n",
       "  </tbody>\n",
       "</table>\n"
      ],
      "text/plain": [
       "<pandas.io.formats.style.Styler at 0x7f9cb01150f0>"
      ]
     },
     "metadata": {},
     "output_type": "display_data"
    },
    {
     "data": {
      "text/html": [
       "<style type=\"text/css\">\n",
       "#T_9870a caption {\n",
       "  text-align: center;\n",
       "  font-size: 150%;\n",
       "  caption-side: top;\n",
       "}\n",
       "#T_9870a th {\n",
       "  text-align: left;\n",
       "}\n",
       "#T_9870a tr:nth-child(even) {\n",
       "  background: #ffffff;\n",
       "  color: #231f20;\n",
       "}\n",
       "#T_9870a tr:nth-child(odd) {\n",
       "  background: #dbf3ff;\n",
       "  color: #231f20;\n",
       "}\n",
       "#T_9870a .level0 {\n",
       "  border: 1px black solid !important;\n",
       "  background: #ffffff;\n",
       "  color: #231f20;\n",
       "}\n",
       "#T_9870a_row0_col0, #T_9870a_row0_col1, #T_9870a_row0_col2, #T_9870a_row0_col3, #T_9870a_row0_col4, #T_9870a_row0_col5, #T_9870a_row0_col6, #T_9870a_row0_col7, #T_9870a_row0_col8, #T_9870a_row0_col9, #T_9870a_row0_col10, #T_9870a_row0_col13, #T_9870a_row0_col14, #T_9870a_row0_col15, #T_9870a_row1_col0, #T_9870a_row1_col1, #T_9870a_row1_col2, #T_9870a_row1_col3, #T_9870a_row1_col4, #T_9870a_row1_col5, #T_9870a_row1_col6, #T_9870a_row1_col7, #T_9870a_row1_col8, #T_9870a_row1_col9, #T_9870a_row1_col10, #T_9870a_row1_col13, #T_9870a_row1_col14, #T_9870a_row1_col15, #T_9870a_row2_col0, #T_9870a_row2_col1, #T_9870a_row2_col2, #T_9870a_row2_col3, #T_9870a_row2_col4, #T_9870a_row2_col5, #T_9870a_row2_col6, #T_9870a_row2_col7, #T_9870a_row2_col8, #T_9870a_row2_col9, #T_9870a_row2_col10, #T_9870a_row2_col13, #T_9870a_row2_col14, #T_9870a_row2_col15, #T_9870a_row3_col0, #T_9870a_row3_col1, #T_9870a_row3_col2, #T_9870a_row3_col3, #T_9870a_row3_col4, #T_9870a_row3_col5, #T_9870a_row3_col6, #T_9870a_row3_col7, #T_9870a_row3_col8, #T_9870a_row3_col9, #T_9870a_row3_col10, #T_9870a_row3_col13, #T_9870a_row3_col14, #T_9870a_row3_col15, #T_9870a_row4_col0, #T_9870a_row4_col1, #T_9870a_row4_col2, #T_9870a_row4_col3, #T_9870a_row4_col4, #T_9870a_row4_col5, #T_9870a_row4_col6, #T_9870a_row4_col7, #T_9870a_row4_col8, #T_9870a_row4_col9, #T_9870a_row4_col10, #T_9870a_row4_col13, #T_9870a_row4_col14, #T_9870a_row4_col15 {\n",
       "  text-align: left;\n",
       "  border: 1px #231f20 solid !important;\n",
       "  overwrite: False;\n",
       "}\n",
       "#T_9870a_row0_col11, #T_9870a_row1_col11, #T_9870a_row2_col11, #T_9870a_row3_col11, #T_9870a_row4_col11 {\n",
       "  text-align: left;\n",
       "  border: 1px #231f20 solid !important;\n",
       "  overwrite: False;\n",
       "  background-color: #c3ffc4;\n",
       "}\n",
       "#T_9870a_row0_col12, #T_9870a_row1_col12, #T_9870a_row2_col12, #T_9870a_row3_col12, #T_9870a_row4_col12 {\n",
       "  text-align: left;\n",
       "  border: 1px #231f20 solid !important;\n",
       "  overwrite: False;\n",
       "  background-color: ;\n",
       "}\n",
       "</style>\n",
       "<table id=\"T_9870a\">\n",
       "  <caption>Nodes</caption>\n",
       "  <thead>\n",
       "    <tr>\n",
       "      <th id=\"T_9870a_level0_col0\" class=\"col_heading level0 col0\" >ID</th>\n",
       "      <th id=\"T_9870a_level0_col1\" class=\"col_heading level0 col1\" >Name</th>\n",
       "      <th id=\"T_9870a_level0_col2\" class=\"col_heading level0 col2\" >Cores</th>\n",
       "      <th id=\"T_9870a_level0_col3\" class=\"col_heading level0 col3\" >RAM</th>\n",
       "      <th id=\"T_9870a_level0_col4\" class=\"col_heading level0 col4\" >Disk</th>\n",
       "      <th id=\"T_9870a_level0_col5\" class=\"col_heading level0 col5\" >Image</th>\n",
       "      <th id=\"T_9870a_level0_col6\" class=\"col_heading level0 col6\" >Image Type</th>\n",
       "      <th id=\"T_9870a_level0_col7\" class=\"col_heading level0 col7\" >Host</th>\n",
       "      <th id=\"T_9870a_level0_col8\" class=\"col_heading level0 col8\" >Site</th>\n",
       "      <th id=\"T_9870a_level0_col9\" class=\"col_heading level0 col9\" >Username</th>\n",
       "      <th id=\"T_9870a_level0_col10\" class=\"col_heading level0 col10\" >Management IP</th>\n",
       "      <th id=\"T_9870a_level0_col11\" class=\"col_heading level0 col11\" >State</th>\n",
       "      <th id=\"T_9870a_level0_col12\" class=\"col_heading level0 col12\" >Error</th>\n",
       "      <th id=\"T_9870a_level0_col13\" class=\"col_heading level0 col13\" >SSH Command</th>\n",
       "      <th id=\"T_9870a_level0_col14\" class=\"col_heading level0 col14\" >Public SSH Key File</th>\n",
       "      <th id=\"T_9870a_level0_col15\" class=\"col_heading level0 col15\" >Private SSH Key File</th>\n",
       "    </tr>\n",
       "  </thead>\n",
       "  <tbody>\n",
       "    <tr>\n",
       "      <td id=\"T_9870a_row0_col0\" class=\"data row0 col0\" >00465811-bad8-4fbd-9fe9-c896e8e137e3</td>\n",
       "      <td id=\"T_9870a_row0_col1\" class=\"data row0 col1\" >client</td>\n",
       "      <td id=\"T_9870a_row0_col2\" class=\"data row0 col2\" >4</td>\n",
       "      <td id=\"T_9870a_row0_col3\" class=\"data row0 col3\" >8</td>\n",
       "      <td id=\"T_9870a_row0_col4\" class=\"data row0 col4\" >100</td>\n",
       "      <td id=\"T_9870a_row0_col5\" class=\"data row0 col5\" >default_ubuntu_20</td>\n",
       "      <td id=\"T_9870a_row0_col6\" class=\"data row0 col6\" >qcow2</td>\n",
       "      <td id=\"T_9870a_row0_col7\" class=\"data row0 col7\" >mich-w2.fabric-testbed.net</td>\n",
       "      <td id=\"T_9870a_row0_col8\" class=\"data row0 col8\" >MICH</td>\n",
       "      <td id=\"T_9870a_row0_col9\" class=\"data row0 col9\" >ubuntu</td>\n",
       "      <td id=\"T_9870a_row0_col10\" class=\"data row0 col10\" >2607:f018:110:11:f816:3eff:fe02:10e1</td>\n",
       "      <td id=\"T_9870a_row0_col11\" class=\"data row0 col11\" >Active</td>\n",
       "      <td id=\"T_9870a_row0_col12\" class=\"data row0 col12\" ></td>\n",
       "      <td id=\"T_9870a_row0_col13\" class=\"data row0 col13\" >ssh -i /home/fabric/work/fabric_config/slice_key -F /home/fabric/work/fabric_config/ssh_config ubuntu@2607:f018:110:11:f816:3eff:fe02:10e1\"s</td>\n",
       "      <td id=\"T_9870a_row0_col14\" class=\"data row0 col14\" >/home/fabric/work/fabric_config/slice_key.pub</td>\n",
       "      <td id=\"T_9870a_row0_col15\" class=\"data row0 col15\" >/home/fabric/work/fabric_config/slice_key</td>\n",
       "    </tr>\n",
       "    <tr>\n",
       "      <td id=\"T_9870a_row1_col0\" class=\"data row1 col0\" >7023a296-d177-442a-b883-e621c42dc866</td>\n",
       "      <td id=\"T_9870a_row1_col1\" class=\"data row1 col1\" >meas-node</td>\n",
       "      <td id=\"T_9870a_row1_col2\" class=\"data row1 col2\" >4</td>\n",
       "      <td id=\"T_9870a_row1_col3\" class=\"data row1 col3\" >16</td>\n",
       "      <td id=\"T_9870a_row1_col4\" class=\"data row1 col4\" >100</td>\n",
       "      <td id=\"T_9870a_row1_col5\" class=\"data row1 col5\" >default_ubuntu_20</td>\n",
       "      <td id=\"T_9870a_row1_col6\" class=\"data row1 col6\" >qcow2</td>\n",
       "      <td id=\"T_9870a_row1_col7\" class=\"data row1 col7\" >edc-w1.fabric-testbed.net</td>\n",
       "      <td id=\"T_9870a_row1_col8\" class=\"data row1 col8\" >EDC</td>\n",
       "      <td id=\"T_9870a_row1_col9\" class=\"data row1 col9\" >ubuntu</td>\n",
       "      <td id=\"T_9870a_row1_col10\" class=\"data row1 col10\" >2620:0:c80:1003:f816:3eff:fe3b:a2f6</td>\n",
       "      <td id=\"T_9870a_row1_col11\" class=\"data row1 col11\" >Active</td>\n",
       "      <td id=\"T_9870a_row1_col12\" class=\"data row1 col12\" ></td>\n",
       "      <td id=\"T_9870a_row1_col13\" class=\"data row1 col13\" >ssh -i /home/fabric/work/fabric_config/slice_key -F /home/fabric/work/fabric_config/ssh_config ubuntu@2620:0:c80:1003:f816:3eff:fe3b:a2f6\"s</td>\n",
       "      <td id=\"T_9870a_row1_col14\" class=\"data row1 col14\" >/home/fabric/work/fabric_config/slice_key.pub</td>\n",
       "      <td id=\"T_9870a_row1_col15\" class=\"data row1 col15\" >/home/fabric/work/fabric_config/slice_key</td>\n",
       "    </tr>\n",
       "    <tr>\n",
       "      <td id=\"T_9870a_row2_col0\" class=\"data row2 col0\" >99dec167-d7b4-42ec-be8b-244c7ab760ed</td>\n",
       "      <td id=\"T_9870a_row2_col1\" class=\"data row2 col1\" >server1</td>\n",
       "      <td id=\"T_9870a_row2_col2\" class=\"data row2 col2\" >4</td>\n",
       "      <td id=\"T_9870a_row2_col3\" class=\"data row2 col3\" >8</td>\n",
       "      <td id=\"T_9870a_row2_col4\" class=\"data row2 col4\" >100</td>\n",
       "      <td id=\"T_9870a_row2_col5\" class=\"data row2 col5\" >default_ubuntu_20</td>\n",
       "      <td id=\"T_9870a_row2_col6\" class=\"data row2 col6\" >qcow2</td>\n",
       "      <td id=\"T_9870a_row2_col7\" class=\"data row2 col7\" >utah-w3.fabric-testbed.net</td>\n",
       "      <td id=\"T_9870a_row2_col8\" class=\"data row2 col8\" >UTAH</td>\n",
       "      <td id=\"T_9870a_row2_col9\" class=\"data row2 col9\" >ubuntu</td>\n",
       "      <td id=\"T_9870a_row2_col10\" class=\"data row2 col10\" >2001:1948:417:7:f816:3eff:fe5d:8871</td>\n",
       "      <td id=\"T_9870a_row2_col11\" class=\"data row2 col11\" >Active</td>\n",
       "      <td id=\"T_9870a_row2_col12\" class=\"data row2 col12\" ></td>\n",
       "      <td id=\"T_9870a_row2_col13\" class=\"data row2 col13\" >ssh -i /home/fabric/work/fabric_config/slice_key -F /home/fabric/work/fabric_config/ssh_config ubuntu@2001:1948:417:7:f816:3eff:fe5d:8871\"s</td>\n",
       "      <td id=\"T_9870a_row2_col14\" class=\"data row2 col14\" >/home/fabric/work/fabric_config/slice_key.pub</td>\n",
       "      <td id=\"T_9870a_row2_col15\" class=\"data row2 col15\" >/home/fabric/work/fabric_config/slice_key</td>\n",
       "    </tr>\n",
       "    <tr>\n",
       "      <td id=\"T_9870a_row3_col0\" class=\"data row3 col0\" >e379d909-b1e1-4f57-92f5-a9e00fe688b3</td>\n",
       "      <td id=\"T_9870a_row3_col1\" class=\"data row3 col1\" >server2</td>\n",
       "      <td id=\"T_9870a_row3_col2\" class=\"data row3 col2\" >4</td>\n",
       "      <td id=\"T_9870a_row3_col3\" class=\"data row3 col3\" >8</td>\n",
       "      <td id=\"T_9870a_row3_col4\" class=\"data row3 col4\" >100</td>\n",
       "      <td id=\"T_9870a_row3_col5\" class=\"data row3 col5\" >default_ubuntu_20</td>\n",
       "      <td id=\"T_9870a_row3_col6\" class=\"data row3 col6\" >qcow2</td>\n",
       "      <td id=\"T_9870a_row3_col7\" class=\"data row3 col7\" >ncsa-w2.fabric-testbed.net</td>\n",
       "      <td id=\"T_9870a_row3_col8\" class=\"data row3 col8\" >NCSA</td>\n",
       "      <td id=\"T_9870a_row3_col9\" class=\"data row3 col9\" >ubuntu</td>\n",
       "      <td id=\"T_9870a_row3_col10\" class=\"data row3 col10\" >2620:0:c80:1001:f816:3eff:fe03:8113</td>\n",
       "      <td id=\"T_9870a_row3_col11\" class=\"data row3 col11\" >Active</td>\n",
       "      <td id=\"T_9870a_row3_col12\" class=\"data row3 col12\" ></td>\n",
       "      <td id=\"T_9870a_row3_col13\" class=\"data row3 col13\" >ssh -i /home/fabric/work/fabric_config/slice_key -F /home/fabric/work/fabric_config/ssh_config ubuntu@2620:0:c80:1001:f816:3eff:fe03:8113\"s</td>\n",
       "      <td id=\"T_9870a_row3_col14\" class=\"data row3 col14\" >/home/fabric/work/fabric_config/slice_key.pub</td>\n",
       "      <td id=\"T_9870a_row3_col15\" class=\"data row3 col15\" >/home/fabric/work/fabric_config/slice_key</td>\n",
       "    </tr>\n",
       "    <tr>\n",
       "      <td id=\"T_9870a_row4_col0\" class=\"data row4 col0\" >1c0295fa-0985-401d-ae82-845630783c48</td>\n",
       "      <td id=\"T_9870a_row4_col1\" class=\"data row4 col1\" >switch</td>\n",
       "      <td id=\"T_9870a_row4_col2\" class=\"data row4 col2\" >32</td>\n",
       "      <td id=\"T_9870a_row4_col3\" class=\"data row4 col3\" >16</td>\n",
       "      <td id=\"T_9870a_row4_col4\" class=\"data row4 col4\" >100</td>\n",
       "      <td id=\"T_9870a_row4_col5\" class=\"data row4 col5\" >default_ubuntu_20</td>\n",
       "      <td id=\"T_9870a_row4_col6\" class=\"data row4 col6\" >qcow2</td>\n",
       "      <td id=\"T_9870a_row4_col7\" class=\"data row4 col7\" >star-w5.fabric-testbed.net</td>\n",
       "      <td id=\"T_9870a_row4_col8\" class=\"data row4 col8\" >STAR</td>\n",
       "      <td id=\"T_9870a_row4_col9\" class=\"data row4 col9\" >ubuntu</td>\n",
       "      <td id=\"T_9870a_row4_col10\" class=\"data row4 col10\" >2001:400:a100:3030:f816:3eff:fec8:f02d</td>\n",
       "      <td id=\"T_9870a_row4_col11\" class=\"data row4 col11\" >Active</td>\n",
       "      <td id=\"T_9870a_row4_col12\" class=\"data row4 col12\" ></td>\n",
       "      <td id=\"T_9870a_row4_col13\" class=\"data row4 col13\" >ssh -i /home/fabric/work/fabric_config/slice_key -F /home/fabric/work/fabric_config/ssh_config ubuntu@2001:400:a100:3030:f816:3eff:fec8:f02d\"s</td>\n",
       "      <td id=\"T_9870a_row4_col14\" class=\"data row4 col14\" >/home/fabric/work/fabric_config/slice_key.pub</td>\n",
       "      <td id=\"T_9870a_row4_col15\" class=\"data row4 col15\" >/home/fabric/work/fabric_config/slice_key</td>\n",
       "    </tr>\n",
       "  </tbody>\n",
       "</table>\n"
      ],
      "text/plain": [
       "<pandas.io.formats.style.Styler at 0x7f9cb0141090>"
      ]
     },
     "metadata": {},
     "output_type": "display_data"
    },
    {
     "data": {
      "text/html": [
       "<style type=\"text/css\">\n",
       "#T_310fd caption {\n",
       "  text-align: center;\n",
       "  font-size: 150%;\n",
       "  caption-side: top;\n",
       "}\n",
       "#T_310fd th {\n",
       "  text-align: left;\n",
       "}\n",
       "#T_310fd tr:nth-child(even) {\n",
       "  background: #ffffff;\n",
       "  color: #231f20;\n",
       "}\n",
       "#T_310fd tr:nth-child(odd) {\n",
       "  background: #dbf3ff;\n",
       "  color: #231f20;\n",
       "}\n",
       "#T_310fd .level0 {\n",
       "  border: 1px black solid !important;\n",
       "  background: #ffffff;\n",
       "  color: #231f20;\n",
       "}\n",
       "#T_310fd_row0_col0, #T_310fd_row0_col1, #T_310fd_row0_col2, #T_310fd_row0_col3, #T_310fd_row0_col4, #T_310fd_row0_col5, #T_310fd_row0_col6, #T_310fd_row1_col0, #T_310fd_row1_col1, #T_310fd_row1_col2, #T_310fd_row1_col3, #T_310fd_row1_col4, #T_310fd_row1_col5, #T_310fd_row1_col6, #T_310fd_row2_col0, #T_310fd_row2_col1, #T_310fd_row2_col2, #T_310fd_row2_col3, #T_310fd_row2_col4, #T_310fd_row2_col5, #T_310fd_row2_col6, #T_310fd_row3_col0, #T_310fd_row3_col1, #T_310fd_row3_col2, #T_310fd_row3_col3, #T_310fd_row3_col4, #T_310fd_row3_col5, #T_310fd_row3_col6, #T_310fd_row4_col0, #T_310fd_row4_col1, #T_310fd_row4_col2, #T_310fd_row4_col3, #T_310fd_row4_col4, #T_310fd_row4_col5, #T_310fd_row4_col6, #T_310fd_row5_col0, #T_310fd_row5_col1, #T_310fd_row5_col2, #T_310fd_row5_col3, #T_310fd_row5_col4, #T_310fd_row5_col5, #T_310fd_row5_col6, #T_310fd_row6_col0, #T_310fd_row6_col1, #T_310fd_row6_col2, #T_310fd_row6_col3, #T_310fd_row6_col4, #T_310fd_row6_col5, #T_310fd_row6_col6, #T_310fd_row7_col0, #T_310fd_row7_col1, #T_310fd_row7_col2, #T_310fd_row7_col3, #T_310fd_row7_col4, #T_310fd_row7_col5, #T_310fd_row7_col6, #T_310fd_row8_col0, #T_310fd_row8_col1, #T_310fd_row8_col2, #T_310fd_row8_col3, #T_310fd_row8_col4, #T_310fd_row8_col5, #T_310fd_row8_col6, #T_310fd_row9_col0, #T_310fd_row9_col1, #T_310fd_row9_col2, #T_310fd_row9_col3, #T_310fd_row9_col4, #T_310fd_row9_col5, #T_310fd_row9_col6, #T_310fd_row10_col0, #T_310fd_row10_col1, #T_310fd_row10_col2, #T_310fd_row10_col3, #T_310fd_row10_col4, #T_310fd_row10_col5, #T_310fd_row10_col6 {\n",
       "  text-align: left;\n",
       "  border: 1px #231f20 solid !important;\n",
       "  overwrite: False;\n",
       "}\n",
       "#T_310fd_row0_col7, #T_310fd_row1_col7, #T_310fd_row2_col7, #T_310fd_row3_col7, #T_310fd_row4_col7, #T_310fd_row5_col7, #T_310fd_row6_col7, #T_310fd_row7_col7, #T_310fd_row8_col7, #T_310fd_row9_col7, #T_310fd_row10_col7 {\n",
       "  text-align: left;\n",
       "  border: 1px #231f20 solid !important;\n",
       "  overwrite: False;\n",
       "  background-color: #c3ffc4;\n",
       "}\n",
       "#T_310fd_row0_col8, #T_310fd_row1_col8, #T_310fd_row2_col8, #T_310fd_row3_col8, #T_310fd_row4_col8, #T_310fd_row5_col8, #T_310fd_row6_col8, #T_310fd_row7_col8, #T_310fd_row8_col8, #T_310fd_row9_col8, #T_310fd_row10_col8 {\n",
       "  text-align: left;\n",
       "  border: 1px #231f20 solid !important;\n",
       "  overwrite: False;\n",
       "  background-color: ;\n",
       "}\n",
       "</style>\n",
       "<table id=\"T_310fd\">\n",
       "  <caption>Networks</caption>\n",
       "  <thead>\n",
       "    <tr>\n",
       "      <th id=\"T_310fd_level0_col0\" class=\"col_heading level0 col0\" >ID</th>\n",
       "      <th id=\"T_310fd_level0_col1\" class=\"col_heading level0 col1\" >Name</th>\n",
       "      <th id=\"T_310fd_level0_col2\" class=\"col_heading level0 col2\" >Layer</th>\n",
       "      <th id=\"T_310fd_level0_col3\" class=\"col_heading level0 col3\" >Type</th>\n",
       "      <th id=\"T_310fd_level0_col4\" class=\"col_heading level0 col4\" >Site</th>\n",
       "      <th id=\"T_310fd_level0_col5\" class=\"col_heading level0 col5\" >Subnet</th>\n",
       "      <th id=\"T_310fd_level0_col6\" class=\"col_heading level0 col6\" >Gateway</th>\n",
       "      <th id=\"T_310fd_level0_col7\" class=\"col_heading level0 col7\" >State</th>\n",
       "      <th id=\"T_310fd_level0_col8\" class=\"col_heading level0 col8\" >Error</th>\n",
       "    </tr>\n",
       "  </thead>\n",
       "  <tbody>\n",
       "    <tr>\n",
       "      <td id=\"T_310fd_row0_col0\" class=\"data row0 col0\" >47b8dd77-a9d7-417e-a3dd-5b13a18251f3</td>\n",
       "      <td id=\"T_310fd_row0_col1\" class=\"data row0 col1\" >client_nw_pr</td>\n",
       "      <td id=\"T_310fd_row0_col2\" class=\"data row0 col2\" >L3</td>\n",
       "      <td id=\"T_310fd_row0_col3\" class=\"data row0 col3\" >FABNetv4</td>\n",
       "      <td id=\"T_310fd_row0_col4\" class=\"data row0 col4\" >MICH</td>\n",
       "      <td id=\"T_310fd_row0_col5\" class=\"data row0 col5\" >10.131.2.0/24</td>\n",
       "      <td id=\"T_310fd_row0_col6\" class=\"data row0 col6\" >10.131.2.1</td>\n",
       "      <td id=\"T_310fd_row0_col7\" class=\"data row0 col7\" >Active</td>\n",
       "      <td id=\"T_310fd_row0_col8\" class=\"data row0 col8\" ></td>\n",
       "    </tr>\n",
       "    <tr>\n",
       "      <td id=\"T_310fd_row1_col0\" class=\"data row1 col0\" >150f0ec9-da0a-4c65-98a9-d64b3b7a4221</td>\n",
       "      <td id=\"T_310fd_row1_col1\" class=\"data row1 col1\" >l3_meas_net_EDC</td>\n",
       "      <td id=\"T_310fd_row1_col2\" class=\"data row1 col2\" >L3</td>\n",
       "      <td id=\"T_310fd_row1_col3\" class=\"data row1 col3\" >FABNetv4</td>\n",
       "      <td id=\"T_310fd_row1_col4\" class=\"data row1 col4\" >EDC</td>\n",
       "      <td id=\"T_310fd_row1_col5\" class=\"data row1 col5\" >10.132.148.0/24</td>\n",
       "      <td id=\"T_310fd_row1_col6\" class=\"data row1 col6\" >10.132.148.1</td>\n",
       "      <td id=\"T_310fd_row1_col7\" class=\"data row1 col7\" >Active</td>\n",
       "      <td id=\"T_310fd_row1_col8\" class=\"data row1 col8\" ></td>\n",
       "    </tr>\n",
       "    <tr>\n",
       "      <td id=\"T_310fd_row2_col0\" class=\"data row2 col0\" >405fd18a-a01c-423a-a50c-3dd846aa10f9</td>\n",
       "      <td id=\"T_310fd_row2_col1\" class=\"data row2 col1\" >l3_meas_net_MICH</td>\n",
       "      <td id=\"T_310fd_row2_col2\" class=\"data row2 col2\" >L3</td>\n",
       "      <td id=\"T_310fd_row2_col3\" class=\"data row2 col3\" >FABNetv4</td>\n",
       "      <td id=\"T_310fd_row2_col4\" class=\"data row2 col4\" >MICH</td>\n",
       "      <td id=\"T_310fd_row2_col5\" class=\"data row2 col5\" >10.131.13.0/24</td>\n",
       "      <td id=\"T_310fd_row2_col6\" class=\"data row2 col6\" >10.131.13.1</td>\n",
       "      <td id=\"T_310fd_row2_col7\" class=\"data row2 col7\" >Active</td>\n",
       "      <td id=\"T_310fd_row2_col8\" class=\"data row2 col8\" ></td>\n",
       "    </tr>\n",
       "    <tr>\n",
       "      <td id=\"T_310fd_row3_col0\" class=\"data row3 col0\" >ce2e8eb8-d49c-42e8-9012-8c1c87975730</td>\n",
       "      <td id=\"T_310fd_row3_col1\" class=\"data row3 col1\" >l3_meas_net_NCSA</td>\n",
       "      <td id=\"T_310fd_row3_col2\" class=\"data row3 col2\" >L3</td>\n",
       "      <td id=\"T_310fd_row3_col3\" class=\"data row3 col3\" >FABNetv4</td>\n",
       "      <td id=\"T_310fd_row3_col4\" class=\"data row3 col4\" >NCSA</td>\n",
       "      <td id=\"T_310fd_row3_col5\" class=\"data row3 col5\" >10.132.146.0/24</td>\n",
       "      <td id=\"T_310fd_row3_col6\" class=\"data row3 col6\" >10.132.146.1</td>\n",
       "      <td id=\"T_310fd_row3_col7\" class=\"data row3 col7\" >Active</td>\n",
       "      <td id=\"T_310fd_row3_col8\" class=\"data row3 col8\" ></td>\n",
       "    </tr>\n",
       "    <tr>\n",
       "      <td id=\"T_310fd_row4_col0\" class=\"data row4 col0\" >82d0c36e-b6ac-4592-a6d2-c212d90bbc1b</td>\n",
       "      <td id=\"T_310fd_row4_col1\" class=\"data row4 col1\" >l3_meas_net_STAR</td>\n",
       "      <td id=\"T_310fd_row4_col2\" class=\"data row4 col2\" >L3</td>\n",
       "      <td id=\"T_310fd_row4_col3\" class=\"data row4 col3\" >FABNetv4</td>\n",
       "      <td id=\"T_310fd_row4_col4\" class=\"data row4 col4\" >STAR</td>\n",
       "      <td id=\"T_310fd_row4_col5\" class=\"data row4 col5\" >10.129.156.0/24</td>\n",
       "      <td id=\"T_310fd_row4_col6\" class=\"data row4 col6\" >10.129.156.1</td>\n",
       "      <td id=\"T_310fd_row4_col7\" class=\"data row4 col7\" >Active</td>\n",
       "      <td id=\"T_310fd_row4_col8\" class=\"data row4 col8\" ></td>\n",
       "    </tr>\n",
       "    <tr>\n",
       "      <td id=\"T_310fd_row5_col0\" class=\"data row5 col0\" >a40ce3ad-8e01-4c27-966a-380610a149ce</td>\n",
       "      <td id=\"T_310fd_row5_col1\" class=\"data row5 col1\" >l3_meas_net_UTAH</td>\n",
       "      <td id=\"T_310fd_row5_col2\" class=\"data row5 col2\" >L3</td>\n",
       "      <td id=\"T_310fd_row5_col3\" class=\"data row5 col3\" >FABNetv4</td>\n",
       "      <td id=\"T_310fd_row5_col4\" class=\"data row5 col4\" >UTAH</td>\n",
       "      <td id=\"T_310fd_row5_col5\" class=\"data row5 col5\" >10.132.17.0/24</td>\n",
       "      <td id=\"T_310fd_row5_col6\" class=\"data row5 col6\" >10.132.17.1</td>\n",
       "      <td id=\"T_310fd_row5_col7\" class=\"data row5 col7\" >Active</td>\n",
       "      <td id=\"T_310fd_row5_col8\" class=\"data row5 col8\" ></td>\n",
       "    </tr>\n",
       "    <tr>\n",
       "      <td id=\"T_310fd_row6_col0\" class=\"data row6 col0\" >c67c3ebc-2b40-49d5-8fe4-fbcace910d2c</td>\n",
       "      <td id=\"T_310fd_row6_col1\" class=\"data row6 col1\" >s1_nw_pr</td>\n",
       "      <td id=\"T_310fd_row6_col2\" class=\"data row6 col2\" >L3</td>\n",
       "      <td id=\"T_310fd_row6_col3\" class=\"data row6 col3\" >FABNetv4</td>\n",
       "      <td id=\"T_310fd_row6_col4\" class=\"data row6 col4\" >UTAH</td>\n",
       "      <td id=\"T_310fd_row6_col5\" class=\"data row6 col5\" >10.132.18.0/24</td>\n",
       "      <td id=\"T_310fd_row6_col6\" class=\"data row6 col6\" >10.132.18.1</td>\n",
       "      <td id=\"T_310fd_row6_col7\" class=\"data row6 col7\" >Active</td>\n",
       "      <td id=\"T_310fd_row6_col8\" class=\"data row6 col8\" ></td>\n",
       "    </tr>\n",
       "    <tr>\n",
       "      <td id=\"T_310fd_row7_col0\" class=\"data row7 col0\" >6669ad02-b0e1-41c2-9376-c8eb1f9ed9fb</td>\n",
       "      <td id=\"T_310fd_row7_col1\" class=\"data row7 col1\" >s2_nw_pr</td>\n",
       "      <td id=\"T_310fd_row7_col2\" class=\"data row7 col2\" >L3</td>\n",
       "      <td id=\"T_310fd_row7_col3\" class=\"data row7 col3\" >FABNetv4</td>\n",
       "      <td id=\"T_310fd_row7_col4\" class=\"data row7 col4\" >NCSA</td>\n",
       "      <td id=\"T_310fd_row7_col5\" class=\"data row7 col5\" >10.132.147.0/24</td>\n",
       "      <td id=\"T_310fd_row7_col6\" class=\"data row7 col6\" >10.132.147.1</td>\n",
       "      <td id=\"T_310fd_row7_col7\" class=\"data row7 col7\" >Active</td>\n",
       "      <td id=\"T_310fd_row7_col8\" class=\"data row7 col8\" ></td>\n",
       "    </tr>\n",
       "    <tr>\n",
       "      <td id=\"T_310fd_row8_col0\" class=\"data row8 col0\" >37191a04-4429-4d01-9d74-6158e257bf50</td>\n",
       "      <td id=\"T_310fd_row8_col1\" class=\"data row8 col1\" >switch_client_net</td>\n",
       "      <td id=\"T_310fd_row8_col2\" class=\"data row8 col2\" >L2</td>\n",
       "      <td id=\"T_310fd_row8_col3\" class=\"data row8 col3\" >L2STS</td>\n",
       "      <td id=\"T_310fd_row8_col4\" class=\"data row8 col4\" >None</td>\n",
       "      <td id=\"T_310fd_row8_col5\" class=\"data row8 col5\" >None</td>\n",
       "      <td id=\"T_310fd_row8_col6\" class=\"data row8 col6\" >None</td>\n",
       "      <td id=\"T_310fd_row8_col7\" class=\"data row8 col7\" >Active</td>\n",
       "      <td id=\"T_310fd_row8_col8\" class=\"data row8 col8\" ></td>\n",
       "    </tr>\n",
       "    <tr>\n",
       "      <td id=\"T_310fd_row9_col0\" class=\"data row9 col0\" >680e3333-5dd6-4427-a3c9-f43fbd974278</td>\n",
       "      <td id=\"T_310fd_row9_col1\" class=\"data row9 col1\" >switch_server1_net</td>\n",
       "      <td id=\"T_310fd_row9_col2\" class=\"data row9 col2\" >L2</td>\n",
       "      <td id=\"T_310fd_row9_col3\" class=\"data row9 col3\" >L2STS</td>\n",
       "      <td id=\"T_310fd_row9_col4\" class=\"data row9 col4\" >None</td>\n",
       "      <td id=\"T_310fd_row9_col5\" class=\"data row9 col5\" >None</td>\n",
       "      <td id=\"T_310fd_row9_col6\" class=\"data row9 col6\" >None</td>\n",
       "      <td id=\"T_310fd_row9_col7\" class=\"data row9 col7\" >Active</td>\n",
       "      <td id=\"T_310fd_row9_col8\" class=\"data row9 col8\" ></td>\n",
       "    </tr>\n",
       "    <tr>\n",
       "      <td id=\"T_310fd_row10_col0\" class=\"data row10 col0\" >05e57c67-0d33-4707-887c-9478a6ff1c1a</td>\n",
       "      <td id=\"T_310fd_row10_col1\" class=\"data row10 col1\" >switch_server2_net</td>\n",
       "      <td id=\"T_310fd_row10_col2\" class=\"data row10 col2\" >L2</td>\n",
       "      <td id=\"T_310fd_row10_col3\" class=\"data row10 col3\" >L2STS</td>\n",
       "      <td id=\"T_310fd_row10_col4\" class=\"data row10 col4\" >None</td>\n",
       "      <td id=\"T_310fd_row10_col5\" class=\"data row10 col5\" >None</td>\n",
       "      <td id=\"T_310fd_row10_col6\" class=\"data row10 col6\" >None</td>\n",
       "      <td id=\"T_310fd_row10_col7\" class=\"data row10 col7\" >Active</td>\n",
       "      <td id=\"T_310fd_row10_col8\" class=\"data row10 col8\" ></td>\n",
       "    </tr>\n",
       "  </tbody>\n",
       "</table>\n"
      ],
      "text/plain": [
       "<pandas.io.formats.style.Styler at 0x7f9cb84853c0>"
      ]
     },
     "metadata": {},
     "output_type": "display_data"
    },
    {
     "data": {
      "text/html": [
       "<style type=\"text/css\">\n",
       "#T_e0bfe caption {\n",
       "  text-align: center;\n",
       "  font-size: 150%;\n",
       "  caption-side: top;\n",
       "}\n",
       "#T_e0bfe th {\n",
       "  text-align: left;\n",
       "}\n",
       "#T_e0bfe tr:nth-child(even) {\n",
       "  background: #ffffff;\n",
       "  color: #231f20;\n",
       "}\n",
       "#T_e0bfe tr:nth-child(odd) {\n",
       "  background: #dbf3ff;\n",
       "  color: #231f20;\n",
       "}\n",
       "#T_e0bfe .level0 {\n",
       "  border: 1px black solid !important;\n",
       "  background: #ffffff;\n",
       "  color: #231f20;\n",
       "}\n",
       "#T_e0bfe_row0_col0, #T_e0bfe_row0_col1, #T_e0bfe_row0_col2, #T_e0bfe_row0_col3, #T_e0bfe_row0_col4, #T_e0bfe_row0_col5, #T_e0bfe_row0_col6, #T_e0bfe_row0_col7, #T_e0bfe_row0_col8, #T_e0bfe_row0_col9, #T_e0bfe_row0_col10, #T_e0bfe_row0_col11, #T_e0bfe_row1_col0, #T_e0bfe_row1_col1, #T_e0bfe_row1_col2, #T_e0bfe_row1_col3, #T_e0bfe_row1_col4, #T_e0bfe_row1_col5, #T_e0bfe_row1_col6, #T_e0bfe_row1_col7, #T_e0bfe_row1_col8, #T_e0bfe_row1_col9, #T_e0bfe_row1_col10, #T_e0bfe_row1_col11, #T_e0bfe_row2_col0, #T_e0bfe_row2_col1, #T_e0bfe_row2_col2, #T_e0bfe_row2_col3, #T_e0bfe_row2_col4, #T_e0bfe_row2_col5, #T_e0bfe_row2_col6, #T_e0bfe_row2_col7, #T_e0bfe_row2_col8, #T_e0bfe_row2_col9, #T_e0bfe_row2_col10, #T_e0bfe_row2_col11, #T_e0bfe_row3_col0, #T_e0bfe_row3_col1, #T_e0bfe_row3_col2, #T_e0bfe_row3_col3, #T_e0bfe_row3_col4, #T_e0bfe_row3_col5, #T_e0bfe_row3_col6, #T_e0bfe_row3_col7, #T_e0bfe_row3_col8, #T_e0bfe_row3_col9, #T_e0bfe_row3_col10, #T_e0bfe_row3_col11, #T_e0bfe_row4_col0, #T_e0bfe_row4_col1, #T_e0bfe_row4_col2, #T_e0bfe_row4_col3, #T_e0bfe_row4_col4, #T_e0bfe_row4_col5, #T_e0bfe_row4_col6, #T_e0bfe_row4_col7, #T_e0bfe_row4_col8, #T_e0bfe_row4_col9, #T_e0bfe_row4_col10, #T_e0bfe_row4_col11, #T_e0bfe_row5_col0, #T_e0bfe_row5_col1, #T_e0bfe_row5_col2, #T_e0bfe_row5_col3, #T_e0bfe_row5_col4, #T_e0bfe_row5_col5, #T_e0bfe_row5_col6, #T_e0bfe_row5_col7, #T_e0bfe_row5_col8, #T_e0bfe_row5_col9, #T_e0bfe_row5_col10, #T_e0bfe_row5_col11, #T_e0bfe_row6_col0, #T_e0bfe_row6_col1, #T_e0bfe_row6_col2, #T_e0bfe_row6_col3, #T_e0bfe_row6_col4, #T_e0bfe_row6_col5, #T_e0bfe_row6_col6, #T_e0bfe_row6_col7, #T_e0bfe_row6_col8, #T_e0bfe_row6_col9, #T_e0bfe_row6_col10, #T_e0bfe_row6_col11, #T_e0bfe_row7_col0, #T_e0bfe_row7_col1, #T_e0bfe_row7_col2, #T_e0bfe_row7_col3, #T_e0bfe_row7_col4, #T_e0bfe_row7_col5, #T_e0bfe_row7_col6, #T_e0bfe_row7_col7, #T_e0bfe_row7_col8, #T_e0bfe_row7_col9, #T_e0bfe_row7_col10, #T_e0bfe_row7_col11, #T_e0bfe_row8_col0, #T_e0bfe_row8_col1, #T_e0bfe_row8_col2, #T_e0bfe_row8_col3, #T_e0bfe_row8_col4, #T_e0bfe_row8_col5, #T_e0bfe_row8_col6, #T_e0bfe_row8_col7, #T_e0bfe_row8_col8, #T_e0bfe_row8_col9, #T_e0bfe_row8_col10, #T_e0bfe_row8_col11, #T_e0bfe_row9_col0, #T_e0bfe_row9_col1, #T_e0bfe_row9_col2, #T_e0bfe_row9_col3, #T_e0bfe_row9_col4, #T_e0bfe_row9_col5, #T_e0bfe_row9_col6, #T_e0bfe_row9_col7, #T_e0bfe_row9_col8, #T_e0bfe_row9_col9, #T_e0bfe_row9_col10, #T_e0bfe_row9_col11, #T_e0bfe_row10_col0, #T_e0bfe_row10_col1, #T_e0bfe_row10_col2, #T_e0bfe_row10_col3, #T_e0bfe_row10_col4, #T_e0bfe_row10_col5, #T_e0bfe_row10_col6, #T_e0bfe_row10_col7, #T_e0bfe_row10_col8, #T_e0bfe_row10_col9, #T_e0bfe_row10_col10, #T_e0bfe_row10_col11, #T_e0bfe_row11_col0, #T_e0bfe_row11_col1, #T_e0bfe_row11_col2, #T_e0bfe_row11_col3, #T_e0bfe_row11_col4, #T_e0bfe_row11_col5, #T_e0bfe_row11_col6, #T_e0bfe_row11_col7, #T_e0bfe_row11_col8, #T_e0bfe_row11_col9, #T_e0bfe_row11_col10, #T_e0bfe_row11_col11, #T_e0bfe_row12_col0, #T_e0bfe_row12_col1, #T_e0bfe_row12_col2, #T_e0bfe_row12_col3, #T_e0bfe_row12_col4, #T_e0bfe_row12_col5, #T_e0bfe_row12_col6, #T_e0bfe_row12_col7, #T_e0bfe_row12_col8, #T_e0bfe_row12_col9, #T_e0bfe_row12_col10, #T_e0bfe_row12_col11, #T_e0bfe_row13_col0, #T_e0bfe_row13_col1, #T_e0bfe_row13_col2, #T_e0bfe_row13_col3, #T_e0bfe_row13_col4, #T_e0bfe_row13_col5, #T_e0bfe_row13_col6, #T_e0bfe_row13_col7, #T_e0bfe_row13_col8, #T_e0bfe_row13_col9, #T_e0bfe_row13_col10, #T_e0bfe_row13_col11 {\n",
       "  text-align: left;\n",
       "  border: 1px #231f20 solid !important;\n",
       "  overwrite: False;\n",
       "}\n",
       "</style>\n",
       "<table id=\"T_e0bfe\">\n",
       "  <caption>Interfaces</caption>\n",
       "  <thead>\n",
       "    <tr>\n",
       "      <th id=\"T_e0bfe_level0_col0\" class=\"col_heading level0 col0\" >Name</th>\n",
       "      <th id=\"T_e0bfe_level0_col1\" class=\"col_heading level0 col1\" >Short Name</th>\n",
       "      <th id=\"T_e0bfe_level0_col2\" class=\"col_heading level0 col2\" >Node</th>\n",
       "      <th id=\"T_e0bfe_level0_col3\" class=\"col_heading level0 col3\" >Network</th>\n",
       "      <th id=\"T_e0bfe_level0_col4\" class=\"col_heading level0 col4\" >Bandwidth</th>\n",
       "      <th id=\"T_e0bfe_level0_col5\" class=\"col_heading level0 col5\" >Mode</th>\n",
       "      <th id=\"T_e0bfe_level0_col6\" class=\"col_heading level0 col6\" >VLAN</th>\n",
       "      <th id=\"T_e0bfe_level0_col7\" class=\"col_heading level0 col7\" >MAC</th>\n",
       "      <th id=\"T_e0bfe_level0_col8\" class=\"col_heading level0 col8\" >Physical Device</th>\n",
       "      <th id=\"T_e0bfe_level0_col9\" class=\"col_heading level0 col9\" >Device</th>\n",
       "      <th id=\"T_e0bfe_level0_col10\" class=\"col_heading level0 col10\" >IP Address</th>\n",
       "      <th id=\"T_e0bfe_level0_col11\" class=\"col_heading level0 col11\" >Numa Node</th>\n",
       "    </tr>\n",
       "  </thead>\n",
       "  <tbody>\n",
       "    <tr>\n",
       "      <td id=\"T_e0bfe_row0_col0\" class=\"data row0 col0\" >switch-server2_nic-p1</td>\n",
       "      <td id=\"T_e0bfe_row0_col1\" class=\"data row0 col1\" >p1</td>\n",
       "      <td id=\"T_e0bfe_row0_col2\" class=\"data row0 col2\" >switch</td>\n",
       "      <td id=\"T_e0bfe_row0_col3\" class=\"data row0 col3\" >switch_server2_net</td>\n",
       "      <td id=\"T_e0bfe_row0_col4\" class=\"data row0 col4\" >100</td>\n",
       "      <td id=\"T_e0bfe_row0_col5\" class=\"data row0 col5\" >config</td>\n",
       "      <td id=\"T_e0bfe_row0_col6\" class=\"data row0 col6\" ></td>\n",
       "      <td id=\"T_e0bfe_row0_col7\" class=\"data row0 col7\" >0E:2F:4D:8A:91:53</td>\n",
       "      <td id=\"T_e0bfe_row0_col8\" class=\"data row0 col8\" >None</td>\n",
       "      <td id=\"T_e0bfe_row0_col9\" class=\"data row0 col9\" >None</td>\n",
       "      <td id=\"T_e0bfe_row0_col10\" class=\"data row0 col10\" >[{'ifindex': 1, 'ifname': 'lo', 'flags': ['LOOPBACK', 'UP', 'LOWER_UP'], 'mtu': 65536, 'qdisc': 'noqueue', 'operstate': 'UNKNOWN', 'group': 'default', 'txqlen': 1000, 'link_type': 'loopback', 'address': '00:00:00:00:00:00', 'broadcast': '00:00:00:00:00:00', 'addr_info': [{'family': 'inet', 'local': '127.0.0.1', 'prefixlen': 8, 'scope': 'host', 'label': 'lo', 'valid_life_time': 4294967295, 'preferred_life_time': 4294967295}, {'family': 'inet6', 'local': '::1', 'prefixlen': 128, 'scope': 'host', 'valid_life_time': 4294967295, 'preferred_life_time': 4294967295}]}, {'ifindex': 2, 'ifname': 'enp3s0', 'flags': ['BROADCAST', 'MULTICAST', 'UP', 'LOWER_UP'], 'mtu': 9000, 'qdisc': 'fq_codel', 'operstate': 'UP', 'group': 'default', 'txqlen': 1000, 'link_type': 'ether', 'address': 'fa:16:3e:c8:f0:2d', 'broadcast': 'ff:ff:ff:ff:ff:ff', 'addr_info': [{'family': 'inet', 'local': '10.30.6.41', 'prefixlen': 23, 'broadcast': '10.30.7.255', 'scope': 'global', 'dynamic': True, 'label': 'enp3s0', 'valid_life_time': 53163, 'preferred_life_time': 53163}, {'family': 'inet6', 'local': '2001:400:a100:3030:f816:3eff:fec8:f02d', 'prefixlen': 64, 'scope': 'global', 'dynamic': True, 'mngtmpaddr': True, 'noprefixroute': True, 'valid_life_time': 86400, 'preferred_life_time': 14400}, {'family': 'inet6', 'local': 'fe80::f816:3eff:fec8:f02d', 'prefixlen': 64, 'scope': 'link', 'valid_life_time': 4294967295, 'preferred_life_time': 4294967295}]}, {'ifindex': 3, 'ifname': 'enp7s0', 'flags': ['BROADCAST', 'MULTICAST', 'UP', 'LOWER_UP'], 'mtu': 1500, 'qdisc': 'mq', 'operstate': 'UP', 'group': 'default', 'txqlen': 1000, 'link_type': 'ether', 'address': '00:00:00:00:00:02', 'broadcast': 'ff:ff:ff:ff:ff:ff', 'addr_info': [{'family': 'inet', 'local': '192.168.1.1', 'prefixlen': 24, 'broadcast': '192.168.1.255', 'scope': 'global', 'label': 'enp7s0', 'valid_life_time': 4294967295, 'preferred_life_time': 4294967295}, {'family': 'inet6', 'local': 'fe80::82b:94ff:fe0b:e81a', 'prefixlen': 64, 'scope': 'link', 'valid_life_time': 4294967295, 'preferred_life_time': 4294967295}]}, {'ifindex': 4, 'ifname': 'enp8s0', 'flags': ['BROADCAST', 'MULTICAST', 'UP', 'LOWER_UP'], 'mtu': 1500, 'qdisc': 'mq', 'operstate': 'UP', 'group': 'default', 'txqlen': 1000, 'link_type': 'ether', 'address': '00:00:00:00:00:03', 'broadcast': 'ff:ff:ff:ff:ff:ff', 'addr_info': [{'family': 'inet', 'local': '192.168.2.1', 'prefixlen': 24, 'broadcast': '192.168.2.255', 'scope': 'global', 'label': 'enp8s0', 'valid_life_time': 4294967295, 'preferred_life_time': 4294967295}, {'family': 'inet6', 'local': 'fe80::8b3:8eff:fe41:d5f6', 'prefixlen': 64, 'scope': 'link', 'valid_life_time': 4294967295, 'preferred_life_time': 4294967295}]}, {'ifindex': 5, 'ifname': 'enp9s0', 'flags': ['BROADCAST', 'MULTICAST', 'UP', 'LOWER_UP'], 'mtu': 1500, 'qdisc': 'mq', 'operstate': 'UP', 'group': 'default', 'txqlen': 1000, 'link_type': 'ether', 'address': '00:00:00:00:00:05', 'broadcast': 'ff:ff:ff:ff:ff:ff', 'addr_info': [{'family': 'inet', 'local': '192.168.3.1', 'prefixlen': 24, 'broadcast': '192.168.3.255', 'scope': 'global', 'label': 'enp9s0', 'valid_life_time': 4294967295, 'preferred_life_time': 4294967295}, {'family': 'inet6', 'local': 'fe80::c2f:4dff:fe8a:9153', 'prefixlen': 64, 'scope': 'link', 'valid_life_time': 4294967295, 'preferred_life_time': 4294967295}]}, {'ifindex': 6, 'ifname': 'enp10s0', 'flags': ['BROADCAST', 'MULTICAST'], 'mtu': 1500, 'qdisc': 'noop', 'operstate': 'DOWN', 'group': 'default', 'txqlen': 1000, 'link_type': 'ether', 'address': '0e:3d:21:68:cf:8f', 'broadcast': 'ff:ff:ff:ff:ff:ff', 'addr_info': []}]</td>\n",
       "      <td id=\"T_e0bfe_row0_col11\" class=\"data row0 col11\" >4</td>\n",
       "    </tr>\n",
       "    <tr>\n",
       "      <td id=\"T_e0bfe_row1_col0\" class=\"data row1 col0\" >switch-client_nic-p1</td>\n",
       "      <td id=\"T_e0bfe_row1_col1\" class=\"data row1 col1\" >p1</td>\n",
       "      <td id=\"T_e0bfe_row1_col2\" class=\"data row1 col2\" >switch</td>\n",
       "      <td id=\"T_e0bfe_row1_col3\" class=\"data row1 col3\" >switch_client_net</td>\n",
       "      <td id=\"T_e0bfe_row1_col4\" class=\"data row1 col4\" >100</td>\n",
       "      <td id=\"T_e0bfe_row1_col5\" class=\"data row1 col5\" >config</td>\n",
       "      <td id=\"T_e0bfe_row1_col6\" class=\"data row1 col6\" ></td>\n",
       "      <td id=\"T_e0bfe_row1_col7\" class=\"data row1 col7\" >0A:2B:94:0B:E8:1A</td>\n",
       "      <td id=\"T_e0bfe_row1_col8\" class=\"data row1 col8\" >None</td>\n",
       "      <td id=\"T_e0bfe_row1_col9\" class=\"data row1 col9\" >None</td>\n",
       "      <td id=\"T_e0bfe_row1_col10\" class=\"data row1 col10\" >[{'ifindex': 1, 'ifname': 'lo', 'flags': ['LOOPBACK', 'UP', 'LOWER_UP'], 'mtu': 65536, 'qdisc': 'noqueue', 'operstate': 'UNKNOWN', 'group': 'default', 'txqlen': 1000, 'link_type': 'loopback', 'address': '00:00:00:00:00:00', 'broadcast': '00:00:00:00:00:00', 'addr_info': [{'family': 'inet', 'local': '127.0.0.1', 'prefixlen': 8, 'scope': 'host', 'label': 'lo', 'valid_life_time': 4294967295, 'preferred_life_time': 4294967295}, {'family': 'inet6', 'local': '::1', 'prefixlen': 128, 'scope': 'host', 'valid_life_time': 4294967295, 'preferred_life_time': 4294967295}]}, {'ifindex': 2, 'ifname': 'enp3s0', 'flags': ['BROADCAST', 'MULTICAST', 'UP', 'LOWER_UP'], 'mtu': 9000, 'qdisc': 'fq_codel', 'operstate': 'UP', 'group': 'default', 'txqlen': 1000, 'link_type': 'ether', 'address': 'fa:16:3e:c8:f0:2d', 'broadcast': 'ff:ff:ff:ff:ff:ff', 'addr_info': [{'family': 'inet', 'local': '10.30.6.41', 'prefixlen': 23, 'broadcast': '10.30.7.255', 'scope': 'global', 'dynamic': True, 'label': 'enp3s0', 'valid_life_time': 53162, 'preferred_life_time': 53162}, {'family': 'inet6', 'local': '2001:400:a100:3030:f816:3eff:fec8:f02d', 'prefixlen': 64, 'scope': 'global', 'dynamic': True, 'mngtmpaddr': True, 'noprefixroute': True, 'valid_life_time': 86399, 'preferred_life_time': 14399}, {'family': 'inet6', 'local': 'fe80::f816:3eff:fec8:f02d', 'prefixlen': 64, 'scope': 'link', 'valid_life_time': 4294967295, 'preferred_life_time': 4294967295}]}, {'ifindex': 3, 'ifname': 'enp7s0', 'flags': ['BROADCAST', 'MULTICAST', 'UP', 'LOWER_UP'], 'mtu': 1500, 'qdisc': 'mq', 'operstate': 'UP', 'group': 'default', 'txqlen': 1000, 'link_type': 'ether', 'address': '00:00:00:00:00:02', 'broadcast': 'ff:ff:ff:ff:ff:ff', 'addr_info': [{'family': 'inet', 'local': '192.168.1.1', 'prefixlen': 24, 'broadcast': '192.168.1.255', 'scope': 'global', 'label': 'enp7s0', 'valid_life_time': 4294967295, 'preferred_life_time': 4294967295}, {'family': 'inet6', 'local': 'fe80::82b:94ff:fe0b:e81a', 'prefixlen': 64, 'scope': 'link', 'valid_life_time': 4294967295, 'preferred_life_time': 4294967295}]}, {'ifindex': 4, 'ifname': 'enp8s0', 'flags': ['BROADCAST', 'MULTICAST', 'UP', 'LOWER_UP'], 'mtu': 1500, 'qdisc': 'mq', 'operstate': 'UP', 'group': 'default', 'txqlen': 1000, 'link_type': 'ether', 'address': '00:00:00:00:00:03', 'broadcast': 'ff:ff:ff:ff:ff:ff', 'addr_info': [{'family': 'inet', 'local': '192.168.2.1', 'prefixlen': 24, 'broadcast': '192.168.2.255', 'scope': 'global', 'label': 'enp8s0', 'valid_life_time': 4294967295, 'preferred_life_time': 4294967295}, {'family': 'inet6', 'local': 'fe80::8b3:8eff:fe41:d5f6', 'prefixlen': 64, 'scope': 'link', 'valid_life_time': 4294967295, 'preferred_life_time': 4294967295}]}, {'ifindex': 5, 'ifname': 'enp9s0', 'flags': ['BROADCAST', 'MULTICAST', 'UP', 'LOWER_UP'], 'mtu': 1500, 'qdisc': 'mq', 'operstate': 'UP', 'group': 'default', 'txqlen': 1000, 'link_type': 'ether', 'address': '00:00:00:00:00:05', 'broadcast': 'ff:ff:ff:ff:ff:ff', 'addr_info': [{'family': 'inet', 'local': '192.168.3.1', 'prefixlen': 24, 'broadcast': '192.168.3.255', 'scope': 'global', 'label': 'enp9s0', 'valid_life_time': 4294967295, 'preferred_life_time': 4294967295}, {'family': 'inet6', 'local': 'fe80::c2f:4dff:fe8a:9153', 'prefixlen': 64, 'scope': 'link', 'valid_life_time': 4294967295, 'preferred_life_time': 4294967295}]}, {'ifindex': 6, 'ifname': 'enp10s0', 'flags': ['BROADCAST', 'MULTICAST'], 'mtu': 1500, 'qdisc': 'noop', 'operstate': 'DOWN', 'group': 'default', 'txqlen': 1000, 'link_type': 'ether', 'address': '0e:3d:21:68:cf:8f', 'broadcast': 'ff:ff:ff:ff:ff:ff', 'addr_info': []}]</td>\n",
       "      <td id=\"T_e0bfe_row1_col11\" class=\"data row1 col11\" >4</td>\n",
       "    </tr>\n",
       "    <tr>\n",
       "      <td id=\"T_e0bfe_row2_col0\" class=\"data row2 col0\" >switch-meas_nic_switch_STAR-p1</td>\n",
       "      <td id=\"T_e0bfe_row2_col1\" class=\"data row2 col1\" >p1</td>\n",
       "      <td id=\"T_e0bfe_row2_col2\" class=\"data row2 col2\" >switch</td>\n",
       "      <td id=\"T_e0bfe_row2_col3\" class=\"data row2 col3\" >l3_meas_net_STAR</td>\n",
       "      <td id=\"T_e0bfe_row2_col4\" class=\"data row2 col4\" >100</td>\n",
       "      <td id=\"T_e0bfe_row2_col5\" class=\"data row2 col5\" >config</td>\n",
       "      <td id=\"T_e0bfe_row2_col6\" class=\"data row2 col6\" ></td>\n",
       "      <td id=\"T_e0bfe_row2_col7\" class=\"data row2 col7\" >0E:3D:21:68:CF:8F</td>\n",
       "      <td id=\"T_e0bfe_row2_col8\" class=\"data row2 col8\" >enp10s0</td>\n",
       "      <td id=\"T_e0bfe_row2_col9\" class=\"data row2 col9\" >enp10s0</td>\n",
       "      <td id=\"T_e0bfe_row2_col10\" class=\"data row2 col10\" >None</td>\n",
       "      <td id=\"T_e0bfe_row2_col11\" class=\"data row2 col11\" >4</td>\n",
       "    </tr>\n",
       "    <tr>\n",
       "      <td id=\"T_e0bfe_row3_col0\" class=\"data row3 col0\" >switch-server1_nic-p1</td>\n",
       "      <td id=\"T_e0bfe_row3_col1\" class=\"data row3 col1\" >p1</td>\n",
       "      <td id=\"T_e0bfe_row3_col2\" class=\"data row3 col2\" >switch</td>\n",
       "      <td id=\"T_e0bfe_row3_col3\" class=\"data row3 col3\" >switch_server1_net</td>\n",
       "      <td id=\"T_e0bfe_row3_col4\" class=\"data row3 col4\" >100</td>\n",
       "      <td id=\"T_e0bfe_row3_col5\" class=\"data row3 col5\" >config</td>\n",
       "      <td id=\"T_e0bfe_row3_col6\" class=\"data row3 col6\" ></td>\n",
       "      <td id=\"T_e0bfe_row3_col7\" class=\"data row3 col7\" >0A:B3:8E:41:D5:F6</td>\n",
       "      <td id=\"T_e0bfe_row3_col8\" class=\"data row3 col8\" >None</td>\n",
       "      <td id=\"T_e0bfe_row3_col9\" class=\"data row3 col9\" >None</td>\n",
       "      <td id=\"T_e0bfe_row3_col10\" class=\"data row3 col10\" >[{'ifindex': 1, 'ifname': 'lo', 'flags': ['LOOPBACK', 'UP', 'LOWER_UP'], 'mtu': 65536, 'qdisc': 'noqueue', 'operstate': 'UNKNOWN', 'group': 'default', 'txqlen': 1000, 'link_type': 'loopback', 'address': '00:00:00:00:00:00', 'broadcast': '00:00:00:00:00:00', 'addr_info': [{'family': 'inet', 'local': '127.0.0.1', 'prefixlen': 8, 'scope': 'host', 'label': 'lo', 'valid_life_time': 4294967295, 'preferred_life_time': 4294967295}, {'family': 'inet6', 'local': '::1', 'prefixlen': 128, 'scope': 'host', 'valid_life_time': 4294967295, 'preferred_life_time': 4294967295}]}, {'ifindex': 2, 'ifname': 'enp3s0', 'flags': ['BROADCAST', 'MULTICAST', 'UP', 'LOWER_UP'], 'mtu': 9000, 'qdisc': 'fq_codel', 'operstate': 'UP', 'group': 'default', 'txqlen': 1000, 'link_type': 'ether', 'address': 'fa:16:3e:c8:f0:2d', 'broadcast': 'ff:ff:ff:ff:ff:ff', 'addr_info': [{'family': 'inet', 'local': '10.30.6.41', 'prefixlen': 23, 'broadcast': '10.30.7.255', 'scope': 'global', 'dynamic': True, 'label': 'enp3s0', 'valid_life_time': 53159, 'preferred_life_time': 53159}, {'family': 'inet6', 'local': '2001:400:a100:3030:f816:3eff:fec8:f02d', 'prefixlen': 64, 'scope': 'global', 'dynamic': True, 'mngtmpaddr': True, 'noprefixroute': True, 'valid_life_time': 86396, 'preferred_life_time': 14396}, {'family': 'inet6', 'local': 'fe80::f816:3eff:fec8:f02d', 'prefixlen': 64, 'scope': 'link', 'valid_life_time': 4294967295, 'preferred_life_time': 4294967295}]}, {'ifindex': 3, 'ifname': 'enp7s0', 'flags': ['BROADCAST', 'MULTICAST', 'UP', 'LOWER_UP'], 'mtu': 1500, 'qdisc': 'mq', 'operstate': 'UP', 'group': 'default', 'txqlen': 1000, 'link_type': 'ether', 'address': '00:00:00:00:00:02', 'broadcast': 'ff:ff:ff:ff:ff:ff', 'addr_info': [{'family': 'inet', 'local': '192.168.1.1', 'prefixlen': 24, 'broadcast': '192.168.1.255', 'scope': 'global', 'label': 'enp7s0', 'valid_life_time': 4294967295, 'preferred_life_time': 4294967295}, {'family': 'inet6', 'local': 'fe80::82b:94ff:fe0b:e81a', 'prefixlen': 64, 'scope': 'link', 'valid_life_time': 4294967295, 'preferred_life_time': 4294967295}]}, {'ifindex': 4, 'ifname': 'enp8s0', 'flags': ['BROADCAST', 'MULTICAST', 'UP', 'LOWER_UP'], 'mtu': 1500, 'qdisc': 'mq', 'operstate': 'UP', 'group': 'default', 'txqlen': 1000, 'link_type': 'ether', 'address': '00:00:00:00:00:03', 'broadcast': 'ff:ff:ff:ff:ff:ff', 'addr_info': [{'family': 'inet', 'local': '192.168.2.1', 'prefixlen': 24, 'broadcast': '192.168.2.255', 'scope': 'global', 'label': 'enp8s0', 'valid_life_time': 4294967295, 'preferred_life_time': 4294967295}, {'family': 'inet6', 'local': 'fe80::8b3:8eff:fe41:d5f6', 'prefixlen': 64, 'scope': 'link', 'valid_life_time': 4294967295, 'preferred_life_time': 4294967295}]}, {'ifindex': 5, 'ifname': 'enp9s0', 'flags': ['BROADCAST', 'MULTICAST', 'UP', 'LOWER_UP'], 'mtu': 1500, 'qdisc': 'mq', 'operstate': 'UP', 'group': 'default', 'txqlen': 1000, 'link_type': 'ether', 'address': '00:00:00:00:00:05', 'broadcast': 'ff:ff:ff:ff:ff:ff', 'addr_info': [{'family': 'inet', 'local': '192.168.3.1', 'prefixlen': 24, 'broadcast': '192.168.3.255', 'scope': 'global', 'label': 'enp9s0', 'valid_life_time': 4294967295, 'preferred_life_time': 4294967295}, {'family': 'inet6', 'local': 'fe80::c2f:4dff:fe8a:9153', 'prefixlen': 64, 'scope': 'link', 'valid_life_time': 4294967295, 'preferred_life_time': 4294967295}]}, {'ifindex': 6, 'ifname': 'enp10s0', 'flags': ['BROADCAST', 'MULTICAST'], 'mtu': 1500, 'qdisc': 'noop', 'operstate': 'DOWN', 'group': 'default', 'txqlen': 1000, 'link_type': 'ether', 'address': '0e:3d:21:68:cf:8f', 'broadcast': 'ff:ff:ff:ff:ff:ff', 'addr_info': []}]</td>\n",
       "      <td id=\"T_e0bfe_row3_col11\" class=\"data row3 col11\" >4</td>\n",
       "    </tr>\n",
       "    <tr>\n",
       "      <td id=\"T_e0bfe_row4_col0\" class=\"data row4 col0\" >client-None-p1</td>\n",
       "      <td id=\"T_e0bfe_row4_col1\" class=\"data row4 col1\" >p1</td>\n",
       "      <td id=\"T_e0bfe_row4_col2\" class=\"data row4 col2\" >client</td>\n",
       "      <td id=\"T_e0bfe_row4_col3\" class=\"data row4 col3\" >switch_client_net</td>\n",
       "      <td id=\"T_e0bfe_row4_col4\" class=\"data row4 col4\" >100</td>\n",
       "      <td id=\"T_e0bfe_row4_col5\" class=\"data row4 col5\" >config</td>\n",
       "      <td id=\"T_e0bfe_row4_col6\" class=\"data row4 col6\" ></td>\n",
       "      <td id=\"T_e0bfe_row4_col7\" class=\"data row4 col7\" >02:62:A2:9C:10:93</td>\n",
       "      <td id=\"T_e0bfe_row4_col8\" class=\"data row4 col8\" >None</td>\n",
       "      <td id=\"T_e0bfe_row4_col9\" class=\"data row4 col9\" >None</td>\n",
       "      <td id=\"T_e0bfe_row4_col10\" class=\"data row4 col10\" >[{'ifindex': 1, 'ifname': 'lo', 'flags': ['LOOPBACK', 'UP', 'LOWER_UP'], 'mtu': 65536, 'qdisc': 'noqueue', 'operstate': 'UNKNOWN', 'group': 'default', 'txqlen': 1000, 'link_type': 'loopback', 'address': '00:00:00:00:00:00', 'broadcast': '00:00:00:00:00:00', 'addr_info': [{'family': 'inet', 'local': '127.0.0.1', 'prefixlen': 8, 'scope': 'host', 'label': 'lo', 'valid_life_time': 4294967295, 'preferred_life_time': 4294967295}, {'family': 'inet6', 'local': '::1', 'prefixlen': 128, 'scope': 'host', 'valid_life_time': 4294967295, 'preferred_life_time': 4294967295}]}, {'ifindex': 2, 'ifname': 'enp3s0', 'flags': ['BROADCAST', 'MULTICAST', 'UP', 'LOWER_UP'], 'mtu': 9000, 'qdisc': 'fq_codel', 'operstate': 'UP', 'group': 'default', 'txqlen': 1000, 'link_type': 'ether', 'address': 'fa:16:3e:02:10:e1', 'broadcast': 'ff:ff:ff:ff:ff:ff', 'addr_info': [{'family': 'inet', 'local': '10.30.6.18', 'prefixlen': 23, 'broadcast': '10.30.7.255', 'scope': 'global', 'dynamic': True, 'label': 'enp3s0', 'valid_life_time': 53121, 'preferred_life_time': 53121}, {'family': 'inet6', 'local': '2607:f018:110:11:f816:3eff:fe02:10e1', 'prefixlen': 64, 'scope': 'global', 'dynamic': True, 'mngtmpaddr': True, 'noprefixroute': True, 'valid_life_time': 86393, 'preferred_life_time': 14393}, {'family': 'inet6', 'local': 'fe80::f816:3eff:fe02:10e1', 'prefixlen': 64, 'scope': 'link', 'valid_life_time': 4294967295, 'preferred_life_time': 4294967295}]}, {'ifindex': 3, 'ifname': 'enp7s0', 'flags': ['BROADCAST', 'MULTICAST', 'UP', 'LOWER_UP'], 'mtu': 1500, 'qdisc': 'mq', 'operstate': 'UP', 'group': 'default', 'txqlen': 1000, 'link_type': 'ether', 'address': '00:00:00:00:00:01', 'broadcast': 'ff:ff:ff:ff:ff:ff', 'addr_info': [{'family': 'inet', 'local': '192.168.1.10', 'prefixlen': 24, 'broadcast': '192.168.1.255', 'scope': 'global', 'label': 'enp7s0', 'valid_life_time': 4294967295, 'preferred_life_time': 4294967295}, {'family': 'inet6', 'local': 'fe80::62:a2ff:fe9c:1093', 'prefixlen': 64, 'scope': 'link', 'valid_life_time': 4294967295, 'preferred_life_time': 4294967295}]}, {'ifindex': 4, 'ifname': 'enp8s0', 'flags': ['BROADCAST', 'MULTICAST'], 'mtu': 1500, 'qdisc': 'noop', 'operstate': 'DOWN', 'group': 'default', 'txqlen': 1000, 'link_type': 'ether', 'address': '06:56:3e:60:6b:79', 'broadcast': 'ff:ff:ff:ff:ff:ff', 'addr_info': []}, {'ifindex': 5, 'ifname': 'enp9s0', 'flags': ['BROADCAST', 'MULTICAST'], 'mtu': 1500, 'qdisc': 'noop', 'operstate': 'DOWN', 'group': 'default', 'txqlen': 1000, 'link_type': 'ether', 'address': '0a:41:16:95:3d:aa', 'broadcast': 'ff:ff:ff:ff:ff:ff', 'addr_info': []}]</td>\n",
       "      <td id=\"T_e0bfe_row4_col11\" class=\"data row4 col11\" >4</td>\n",
       "    </tr>\n",
       "    <tr>\n",
       "      <td id=\"T_e0bfe_row5_col0\" class=\"data row5 col0\" >client-meas_nic_client_MICH-p1</td>\n",
       "      <td id=\"T_e0bfe_row5_col1\" class=\"data row5 col1\" >p1</td>\n",
       "      <td id=\"T_e0bfe_row5_col2\" class=\"data row5 col2\" >client</td>\n",
       "      <td id=\"T_e0bfe_row5_col3\" class=\"data row5 col3\" >l3_meas_net_MICH</td>\n",
       "      <td id=\"T_e0bfe_row5_col4\" class=\"data row5 col4\" >100</td>\n",
       "      <td id=\"T_e0bfe_row5_col5\" class=\"data row5 col5\" >config</td>\n",
       "      <td id=\"T_e0bfe_row5_col6\" class=\"data row5 col6\" ></td>\n",
       "      <td id=\"T_e0bfe_row5_col7\" class=\"data row5 col7\" >06:56:3E:60:6B:79</td>\n",
       "      <td id=\"T_e0bfe_row5_col8\" class=\"data row5 col8\" >enp8s0</td>\n",
       "      <td id=\"T_e0bfe_row5_col9\" class=\"data row5 col9\" >enp8s0</td>\n",
       "      <td id=\"T_e0bfe_row5_col10\" class=\"data row5 col10\" >None</td>\n",
       "      <td id=\"T_e0bfe_row5_col11\" class=\"data row5 col11\" >4</td>\n",
       "    </tr>\n",
       "    <tr>\n",
       "      <td id=\"T_e0bfe_row6_col0\" class=\"data row6 col0\" >client-client_nic_pr-p1</td>\n",
       "      <td id=\"T_e0bfe_row6_col1\" class=\"data row6 col1\" >p1</td>\n",
       "      <td id=\"T_e0bfe_row6_col2\" class=\"data row6 col2\" >client</td>\n",
       "      <td id=\"T_e0bfe_row6_col3\" class=\"data row6 col3\" >client_nw_pr</td>\n",
       "      <td id=\"T_e0bfe_row6_col4\" class=\"data row6 col4\" >100</td>\n",
       "      <td id=\"T_e0bfe_row6_col5\" class=\"data row6 col5\" >config</td>\n",
       "      <td id=\"T_e0bfe_row6_col6\" class=\"data row6 col6\" ></td>\n",
       "      <td id=\"T_e0bfe_row6_col7\" class=\"data row6 col7\" >0A:41:16:95:3D:AA</td>\n",
       "      <td id=\"T_e0bfe_row6_col8\" class=\"data row6 col8\" >enp9s0</td>\n",
       "      <td id=\"T_e0bfe_row6_col9\" class=\"data row6 col9\" >enp9s0</td>\n",
       "      <td id=\"T_e0bfe_row6_col10\" class=\"data row6 col10\" >None</td>\n",
       "      <td id=\"T_e0bfe_row6_col11\" class=\"data row6 col11\" >4</td>\n",
       "    </tr>\n",
       "    <tr>\n",
       "      <td id=\"T_e0bfe_row7_col0\" class=\"data row7 col0\" >server1-s1_nic_pr-p1</td>\n",
       "      <td id=\"T_e0bfe_row7_col1\" class=\"data row7 col1\" >p1</td>\n",
       "      <td id=\"T_e0bfe_row7_col2\" class=\"data row7 col2\" >server1</td>\n",
       "      <td id=\"T_e0bfe_row7_col3\" class=\"data row7 col3\" >s1_nw_pr</td>\n",
       "      <td id=\"T_e0bfe_row7_col4\" class=\"data row7 col4\" >100</td>\n",
       "      <td id=\"T_e0bfe_row7_col5\" class=\"data row7 col5\" >config</td>\n",
       "      <td id=\"T_e0bfe_row7_col6\" class=\"data row7 col6\" ></td>\n",
       "      <td id=\"T_e0bfe_row7_col7\" class=\"data row7 col7\" >0A:87:57:EB:AA:92</td>\n",
       "      <td id=\"T_e0bfe_row7_col8\" class=\"data row7 col8\" >enp9s0</td>\n",
       "      <td id=\"T_e0bfe_row7_col9\" class=\"data row7 col9\" >enp9s0</td>\n",
       "      <td id=\"T_e0bfe_row7_col10\" class=\"data row7 col10\" >None</td>\n",
       "      <td id=\"T_e0bfe_row7_col11\" class=\"data row7 col11\" >4</td>\n",
       "    </tr>\n",
       "    <tr>\n",
       "      <td id=\"T_e0bfe_row8_col0\" class=\"data row8 col0\" >server1-None-p1</td>\n",
       "      <td id=\"T_e0bfe_row8_col1\" class=\"data row8 col1\" >p1</td>\n",
       "      <td id=\"T_e0bfe_row8_col2\" class=\"data row8 col2\" >server1</td>\n",
       "      <td id=\"T_e0bfe_row8_col3\" class=\"data row8 col3\" >switch_server1_net</td>\n",
       "      <td id=\"T_e0bfe_row8_col4\" class=\"data row8 col4\" >100</td>\n",
       "      <td id=\"T_e0bfe_row8_col5\" class=\"data row8 col5\" >config</td>\n",
       "      <td id=\"T_e0bfe_row8_col6\" class=\"data row8 col6\" ></td>\n",
       "      <td id=\"T_e0bfe_row8_col7\" class=\"data row8 col7\" >0A:14:F1:7B:CA:59</td>\n",
       "      <td id=\"T_e0bfe_row8_col8\" class=\"data row8 col8\" >None</td>\n",
       "      <td id=\"T_e0bfe_row8_col9\" class=\"data row8 col9\" >None</td>\n",
       "      <td id=\"T_e0bfe_row8_col10\" class=\"data row8 col10\" >[{'ifindex': 1, 'ifname': 'lo', 'flags': ['LOOPBACK', 'UP', 'LOWER_UP'], 'mtu': 65536, 'qdisc': 'noqueue', 'operstate': 'UNKNOWN', 'group': 'default', 'txqlen': 1000, 'link_type': 'loopback', 'address': '00:00:00:00:00:00', 'broadcast': '00:00:00:00:00:00', 'addr_info': [{'family': 'inet', 'local': '127.0.0.1', 'prefixlen': 8, 'scope': 'host', 'label': 'lo', 'valid_life_time': 4294967295, 'preferred_life_time': 4294967295}, {'family': 'inet6', 'local': '::1', 'prefixlen': 128, 'scope': 'host', 'valid_life_time': 4294967295, 'preferred_life_time': 4294967295}]}, {'ifindex': 2, 'ifname': 'enp3s0', 'flags': ['BROADCAST', 'MULTICAST', 'UP', 'LOWER_UP'], 'mtu': 9000, 'qdisc': 'fq_codel', 'operstate': 'UP', 'group': 'default', 'txqlen': 1000, 'link_type': 'ether', 'address': 'fa:16:3e:5d:88:71', 'broadcast': 'ff:ff:ff:ff:ff:ff', 'addr_info': [{'family': 'inet', 'local': '10.30.6.66', 'prefixlen': 23, 'broadcast': '10.30.7.255', 'scope': 'global', 'dynamic': True, 'label': 'enp3s0', 'valid_life_time': 53125, 'preferred_life_time': 53125}, {'family': 'inet6', 'local': '2001:1948:417:7:f816:3eff:fe5d:8871', 'prefixlen': 64, 'scope': 'global', 'dynamic': True, 'mngtmpaddr': True, 'noprefixroute': True, 'valid_life_time': 86384, 'preferred_life_time': 14384}, {'family': 'inet6', 'local': 'fe80::f816:3eff:fe5d:8871', 'prefixlen': 64, 'scope': 'link', 'valid_life_time': 4294967295, 'preferred_life_time': 4294967295}]}, {'ifindex': 3, 'ifname': 'enp7s0', 'flags': ['BROADCAST', 'MULTICAST', 'UP', 'LOWER_UP'], 'mtu': 1500, 'qdisc': 'mq', 'operstate': 'UP', 'group': 'default', 'txqlen': 1000, 'link_type': 'ether', 'address': '00:00:00:00:00:04', 'broadcast': 'ff:ff:ff:ff:ff:ff', 'addr_info': [{'family': 'inet', 'local': '192.168.2.10', 'prefixlen': 24, 'broadcast': '192.168.2.255', 'scope': 'global', 'label': 'enp7s0', 'valid_life_time': 4294967295, 'preferred_life_time': 4294967295}, {'family': 'inet6', 'local': 'fe80::814:f1ff:fe7b:ca59', 'prefixlen': 64, 'scope': 'link', 'valid_life_time': 4294967295, 'preferred_life_time': 4294967295}]}, {'ifindex': 4, 'ifname': 'enp8s0', 'flags': ['BROADCAST', 'MULTICAST'], 'mtu': 1500, 'qdisc': 'noop', 'operstate': 'DOWN', 'group': 'default', 'txqlen': 1000, 'link_type': 'ether', 'address': '0a:1c:97:87:03:3c', 'broadcast': 'ff:ff:ff:ff:ff:ff', 'addr_info': []}, {'ifindex': 5, 'ifname': 'enp9s0', 'flags': ['BROADCAST', 'MULTICAST'], 'mtu': 1500, 'qdisc': 'noop', 'operstate': 'DOWN', 'group': 'default', 'txqlen': 1000, 'link_type': 'ether', 'address': '0a:87:57:eb:aa:92', 'broadcast': 'ff:ff:ff:ff:ff:ff', 'addr_info': []}]</td>\n",
       "      <td id=\"T_e0bfe_row8_col11\" class=\"data row8 col11\" >4</td>\n",
       "    </tr>\n",
       "    <tr>\n",
       "      <td id=\"T_e0bfe_row9_col0\" class=\"data row9 col0\" >server1-meas_nic_server1_UTAH-p1</td>\n",
       "      <td id=\"T_e0bfe_row9_col1\" class=\"data row9 col1\" >p1</td>\n",
       "      <td id=\"T_e0bfe_row9_col2\" class=\"data row9 col2\" >server1</td>\n",
       "      <td id=\"T_e0bfe_row9_col3\" class=\"data row9 col3\" >l3_meas_net_UTAH</td>\n",
       "      <td id=\"T_e0bfe_row9_col4\" class=\"data row9 col4\" >100</td>\n",
       "      <td id=\"T_e0bfe_row9_col5\" class=\"data row9 col5\" >config</td>\n",
       "      <td id=\"T_e0bfe_row9_col6\" class=\"data row9 col6\" ></td>\n",
       "      <td id=\"T_e0bfe_row9_col7\" class=\"data row9 col7\" >0A:1C:97:87:03:3C</td>\n",
       "      <td id=\"T_e0bfe_row9_col8\" class=\"data row9 col8\" >enp8s0</td>\n",
       "      <td id=\"T_e0bfe_row9_col9\" class=\"data row9 col9\" >enp8s0</td>\n",
       "      <td id=\"T_e0bfe_row9_col10\" class=\"data row9 col10\" >None</td>\n",
       "      <td id=\"T_e0bfe_row9_col11\" class=\"data row9 col11\" >4</td>\n",
       "    </tr>\n",
       "    <tr>\n",
       "      <td id=\"T_e0bfe_row10_col0\" class=\"data row10 col0\" >server2-meas_nic_server2_NCSA-p1</td>\n",
       "      <td id=\"T_e0bfe_row10_col1\" class=\"data row10 col1\" >p1</td>\n",
       "      <td id=\"T_e0bfe_row10_col2\" class=\"data row10 col2\" >server2</td>\n",
       "      <td id=\"T_e0bfe_row10_col3\" class=\"data row10 col3\" >l3_meas_net_NCSA</td>\n",
       "      <td id=\"T_e0bfe_row10_col4\" class=\"data row10 col4\" >100</td>\n",
       "      <td id=\"T_e0bfe_row10_col5\" class=\"data row10 col5\" >config</td>\n",
       "      <td id=\"T_e0bfe_row10_col6\" class=\"data row10 col6\" ></td>\n",
       "      <td id=\"T_e0bfe_row10_col7\" class=\"data row10 col7\" >16:E2:21:CF:C2:97</td>\n",
       "      <td id=\"T_e0bfe_row10_col8\" class=\"data row10 col8\" >enp9s0</td>\n",
       "      <td id=\"T_e0bfe_row10_col9\" class=\"data row10 col9\" >enp9s0</td>\n",
       "      <td id=\"T_e0bfe_row10_col10\" class=\"data row10 col10\" >None</td>\n",
       "      <td id=\"T_e0bfe_row10_col11\" class=\"data row10 col11\" >4</td>\n",
       "    </tr>\n",
       "    <tr>\n",
       "      <td id=\"T_e0bfe_row11_col0\" class=\"data row11 col0\" >server2-s2_nic_pr-p1</td>\n",
       "      <td id=\"T_e0bfe_row11_col1\" class=\"data row11 col1\" >p1</td>\n",
       "      <td id=\"T_e0bfe_row11_col2\" class=\"data row11 col2\" >server2</td>\n",
       "      <td id=\"T_e0bfe_row11_col3\" class=\"data row11 col3\" >s2_nw_pr</td>\n",
       "      <td id=\"T_e0bfe_row11_col4\" class=\"data row11 col4\" >100</td>\n",
       "      <td id=\"T_e0bfe_row11_col5\" class=\"data row11 col5\" >config</td>\n",
       "      <td id=\"T_e0bfe_row11_col6\" class=\"data row11 col6\" ></td>\n",
       "      <td id=\"T_e0bfe_row11_col7\" class=\"data row11 col7\" >1A:06:19:1F:2B:08</td>\n",
       "      <td id=\"T_e0bfe_row11_col8\" class=\"data row11 col8\" >enp8s0</td>\n",
       "      <td id=\"T_e0bfe_row11_col9\" class=\"data row11 col9\" >enp8s0</td>\n",
       "      <td id=\"T_e0bfe_row11_col10\" class=\"data row11 col10\" >None</td>\n",
       "      <td id=\"T_e0bfe_row11_col11\" class=\"data row11 col11\" >4</td>\n",
       "    </tr>\n",
       "    <tr>\n",
       "      <td id=\"T_e0bfe_row12_col0\" class=\"data row12 col0\" >server2-None-p1</td>\n",
       "      <td id=\"T_e0bfe_row12_col1\" class=\"data row12 col1\" >p1</td>\n",
       "      <td id=\"T_e0bfe_row12_col2\" class=\"data row12 col2\" >server2</td>\n",
       "      <td id=\"T_e0bfe_row12_col3\" class=\"data row12 col3\" >switch_server2_net</td>\n",
       "      <td id=\"T_e0bfe_row12_col4\" class=\"data row12 col4\" >100</td>\n",
       "      <td id=\"T_e0bfe_row12_col5\" class=\"data row12 col5\" >config</td>\n",
       "      <td id=\"T_e0bfe_row12_col6\" class=\"data row12 col6\" ></td>\n",
       "      <td id=\"T_e0bfe_row12_col7\" class=\"data row12 col7\" >02:C6:60:49:95:60</td>\n",
       "      <td id=\"T_e0bfe_row12_col8\" class=\"data row12 col8\" >None</td>\n",
       "      <td id=\"T_e0bfe_row12_col9\" class=\"data row12 col9\" >None</td>\n",
       "      <td id=\"T_e0bfe_row12_col10\" class=\"data row12 col10\" >[{'ifindex': 1, 'ifname': 'lo', 'flags': ['LOOPBACK', 'UP', 'LOWER_UP'], 'mtu': 65536, 'qdisc': 'noqueue', 'operstate': 'UNKNOWN', 'group': 'default', 'txqlen': 1000, 'link_type': 'loopback', 'address': '00:00:00:00:00:00', 'broadcast': '00:00:00:00:00:00', 'addr_info': [{'family': 'inet', 'local': '127.0.0.1', 'prefixlen': 8, 'scope': 'host', 'label': 'lo', 'valid_life_time': 4294967295, 'preferred_life_time': 4294967295}, {'family': 'inet6', 'local': '::1', 'prefixlen': 128, 'scope': 'host', 'valid_life_time': 4294967295, 'preferred_life_time': 4294967295}]}, {'ifindex': 2, 'ifname': 'enp3s0', 'flags': ['BROADCAST', 'MULTICAST', 'UP', 'LOWER_UP'], 'mtu': 9000, 'qdisc': 'fq_codel', 'operstate': 'UP', 'group': 'default', 'txqlen': 1000, 'link_type': 'ether', 'address': 'fa:16:3e:03:81:13', 'broadcast': 'ff:ff:ff:ff:ff:ff', 'addr_info': [{'family': 'inet', 'local': '10.30.6.103', 'prefixlen': 23, 'broadcast': '10.30.7.255', 'scope': 'global', 'dynamic': True, 'label': 'enp3s0', 'valid_life_time': 53104, 'preferred_life_time': 53104}, {'family': 'inet6', 'local': '2620:0:c80:1001:f816:3eff:fe03:8113', 'prefixlen': 64, 'scope': 'global', 'dynamic': True, 'mngtmpaddr': True, 'noprefixroute': True, 'valid_life_time': 86335, 'preferred_life_time': 14335}, {'family': 'inet6', 'local': 'fe80::f816:3eff:fe03:8113', 'prefixlen': 64, 'scope': 'link', 'valid_life_time': 4294967295, 'preferred_life_time': 4294967295}]}, {'ifindex': 3, 'ifname': 'enp7s0', 'flags': ['BROADCAST', 'MULTICAST', 'UP', 'LOWER_UP'], 'mtu': 1500, 'qdisc': 'mq', 'operstate': 'UP', 'group': 'default', 'txqlen': 1000, 'link_type': 'ether', 'address': '00:00:00:00:00:06', 'broadcast': 'ff:ff:ff:ff:ff:ff', 'addr_info': [{'family': 'inet', 'local': '192.168.3.10', 'prefixlen': 24, 'broadcast': '192.168.3.255', 'scope': 'global', 'label': 'enp7s0', 'valid_life_time': 4294967295, 'preferred_life_time': 4294967295}, {'family': 'inet6', 'local': 'fe80::c6:60ff:fe49:9560', 'prefixlen': 64, 'scope': 'link', 'valid_life_time': 4294967295, 'preferred_life_time': 4294967295}]}, {'ifindex': 4, 'ifname': 'enp8s0', 'flags': ['BROADCAST', 'MULTICAST'], 'mtu': 1500, 'qdisc': 'noop', 'operstate': 'DOWN', 'group': 'default', 'txqlen': 1000, 'link_type': 'ether', 'address': '1a:06:19:1f:2b:08', 'broadcast': 'ff:ff:ff:ff:ff:ff', 'addr_info': []}, {'ifindex': 5, 'ifname': 'enp9s0', 'flags': ['BROADCAST', 'MULTICAST'], 'mtu': 1500, 'qdisc': 'noop', 'operstate': 'DOWN', 'group': 'default', 'txqlen': 1000, 'link_type': 'ether', 'address': '16:e2:21:cf:c2:97', 'broadcast': 'ff:ff:ff:ff:ff:ff', 'addr_info': []}]</td>\n",
       "      <td id=\"T_e0bfe_row12_col11\" class=\"data row12 col11\" >4</td>\n",
       "    </tr>\n",
       "    <tr>\n",
       "      <td id=\"T_e0bfe_row13_col0\" class=\"data row13 col0\" >meas-node-meas_nic_meas-node_EDC-p1</td>\n",
       "      <td id=\"T_e0bfe_row13_col1\" class=\"data row13 col1\" >p1</td>\n",
       "      <td id=\"T_e0bfe_row13_col2\" class=\"data row13 col2\" >meas-node</td>\n",
       "      <td id=\"T_e0bfe_row13_col3\" class=\"data row13 col3\" >l3_meas_net_EDC</td>\n",
       "      <td id=\"T_e0bfe_row13_col4\" class=\"data row13 col4\" >100</td>\n",
       "      <td id=\"T_e0bfe_row13_col5\" class=\"data row13 col5\" >config</td>\n",
       "      <td id=\"T_e0bfe_row13_col6\" class=\"data row13 col6\" ></td>\n",
       "      <td id=\"T_e0bfe_row13_col7\" class=\"data row13 col7\" >02:2D:52:B4:1E:D5</td>\n",
       "      <td id=\"T_e0bfe_row13_col8\" class=\"data row13 col8\" >enp6s0</td>\n",
       "      <td id=\"T_e0bfe_row13_col9\" class=\"data row13 col9\" >enp6s0</td>\n",
       "      <td id=\"T_e0bfe_row13_col10\" class=\"data row13 col10\" >None</td>\n",
       "      <td id=\"T_e0bfe_row13_col11\" class=\"data row13 col11\" >6</td>\n",
       "    </tr>\n",
       "  </tbody>\n",
       "</table>\n"
      ],
      "text/plain": [
       "<pandas.io.formats.style.Styler at 0x7f9c8c4b3a00>"
      ]
     },
     "metadata": {},
     "output_type": "display_data"
    },
    {
     "name": "stdout",
     "output_type": "stream",
     "text": [
      "\n",
      "Time to print interfaces 530 seconds\n"
     ]
    },
    {
     "data": {
      "text/plain": [
       "'6a2c0f33-d690-42d7-824a-4d1ffcc6de68'"
      ]
     },
     "execution_count": 89,
     "metadata": {},
     "output_type": "execute_result"
    }
   ],
   "source": [
    "### submit the slice again because we addded a meas node\n",
    "\n",
    "slice.submit()"
   ]
  },
  {
   "cell_type": "code",
   "execution_count": 7,
   "id": "e21cc7cf-5cf6-465f-9cab-cd3672caa18d",
   "metadata": {},
   "outputs": [
    {
     "name": "stdout",
     "output_type": "stream",
     "text": [
      "MFLib version  1.0.4 \n"
     ]
    }
   ],
   "source": [
    "# Check version\n",
    "import mflib \n",
    "print(f\"MFLib version  {mflib.__version__} \" )\n",
    "\n",
    "# Import MFLib Class\n",
    "from mflib.mflib import MFLib"
   ]
  },
  {
   "cell_type": "code",
   "execution_count": 8,
   "id": "ccefd206-d712-42c5-9535-876c1c9745f8",
   "metadata": {},
   "outputs": [
    {
     "name": "stdout",
     "output_type": "stream",
     "text": [
      "Inititializing slice \"kalhan-cse-534-nat-2-servers\" for MeasurementFramework.\n",
      "Found meas node as meas-node at 2620:0:c80:1003:f816:3eff:fe3b:a2f6\n",
      "Bootstrap status indicates Slice Measurement Framework is ready.\n",
      "Instrumentizing slice \"kalhan-cse-534-nat-2-servers\"\n",
      "   Setting up Prometheus...\n",
      "   Setting up Prometheus done.\n",
      "   Setting up grafana_manager & dashboards...\n",
      "   Setting up grafana_manager & dashboards done.\n",
      "Instrumentize Process Complete.\n",
      "CPU times: user 3.23 s, sys: 81.1 ms, total: 3.31 s\n",
      "Wall time: 1min 4s\n"
     ]
    }
   ],
   "source": [
    "%%time\n",
    "mf = MFLib(slice_name)\n",
    "instrumetize_results = mf.instrumentize( [\"prometheus\"] )"
   ]
  },
  {
   "cell_type": "code",
   "execution_count": 9,
   "id": "9d1a2360-9eea-4e33-b3f3-5e80e43da490",
   "metadata": {},
   "outputs": [
    {
     "name": "stdout",
     "output_type": "stream",
     "text": [
      "ssh -L 10010:localhost:443 -F ssh_config -i slice_key ubuntu@2620:0:c80:1003:f816:3eff:fe3b:a2f6\n",
      "Browse to https://localhost:10010/grafana/dashboards?query=%2A\n"
     ]
    }
   ],
   "source": [
    "# Grafana SSH Tunnel Command\n",
    "# mf.grafana_tunnel_local_port = 10010 # optionally change the port\n",
    "print(mf.grafana_tunnel)\n",
    "\n",
    "print(f\"Browse to https://localhost:{mf.grafana_tunnel_local_port}/grafana/dashboards?query=%2A\")"
   ]
  },
  {
   "cell_type": "code",
   "execution_count": 14,
   "id": "b6cf1638-5661-492f-85ac-a16b0ce564ef",
   "metadata": {},
   "outputs": [
    {
     "name": "stdout",
     "output_type": "stream",
     "text": [
      "client\n",
      " iface enp3s0 mac fa:16:3e:02:10:e1 ip 10.30.6.18\n",
      " iface enp7s0 mac 00:00:00:00:00:01 ip 192.168.1.10\n",
      " iface enp8s0 mac 06:56:3e:60:6b:79 ip 10.131.13.2\n",
      "///////////////\n",
      "server1\n",
      " iface enp3s0 mac fa:16:3e:5d:88:71 ip 10.30.6.66\n",
      " iface enp7s0 mac 00:00:00:00:00:04 ip 192.168.2.10\n",
      " iface enp8s0 mac 0a:1c:97:87:03:3c ip 10.132.17.2\n",
      "///////////////\n",
      "server2\n",
      " iface enp3s0 mac fa:16:3e:03:81:13 ip 10.30.6.103\n",
      " iface enp7s0 mac 00:00:00:00:00:06 ip 192.168.3.10\n",
      " iface enp9s0 mac 16:e2:21:cf:c2:97 ip 10.132.146.2\n",
      "///////////\n",
      "switch\n"
     ]
    }
   ],
   "source": [
    "import json\n",
    "print(\"client\")\n",
    "for iface in client.get_interfaces():\n",
    "    x = iface.toDict()\n",
    "    if x['physical_dev']=='None':\n",
    "        # print(x[\"ip_addr\"])\n",
    "        k = x[\"ip_addr\"].replace(\"True\",\"true\")\n",
    "        k = k.replace(\"'\",'\"')\n",
    "        k = json.loads(k)\n",
    "        for z in k:\n",
    "            if z['operstate']=='UP':\n",
    "                print(f\" iface {z['ifname']} mac {z['address']} ip {z['addr_info'][0]['local']}\")\n",
    " \n",
    "print(\"///////////////\")\n",
    "print(\"server1\")\n",
    "for iface in server1.get_interfaces():\n",
    "    x = iface.toDict()\n",
    "    if x['physical_dev']=='None':\n",
    "        # print(x[\"ip_addr\"])\n",
    "        k = x[\"ip_addr\"].replace(\"True\",\"true\")\n",
    "        k = k.replace(\"'\",'\"')\n",
    "        k = json.loads(k)\n",
    "        for z in k:\n",
    "            if z['operstate']=='UP':\n",
    "                print(f\" iface {z['ifname']} mac {z['address']} ip {z['addr_info'][0]['local']}\")\n",
    "                \n",
    "print(\"///////////////\")               \n",
    "print(\"server2\")\n",
    "for iface in server2.get_interfaces():\n",
    "    x = iface.toDict()\n",
    "    if x['physical_dev']=='None':\n",
    "        # print(x[\"ip_addr\"])\n",
    "        k = x[\"ip_addr\"].replace(\"True\",\"true\")\n",
    "        k = k.replace(\"'\",'\"')\n",
    "        k = json.loads(k)\n",
    "        for z in k:\n",
    "            if z['operstate']=='UP':\n",
    "                print(f\" iface {z['ifname']} mac {z['address']} ip {z['addr_info'][0]['local']}\")\n",
    "\n",
    "print(\"///////////\")\n",
    "print(\"switch\")\n",
    "for iface in switch.get_interfaces():\n",
    "    x = iface.toDict()\n",
    "    if x['physical_dev']=='None':\n",
    "        # print(x[\"ip_addr\"])\n",
    "        k = x[\"ip_addr\"].replace(\"True\",\"true\")\n",
    "        k = k.replace(\"'\",'\"')\n",
    "        k = json.loads(k)\n",
    "        for z in k:\n",
    "            if z['operstate']=='UP':\n",
    "                print(f\" iface {z['ifname']} mac {z['address']} ip {z['addr_info'][0]['local']}\")\n",
    "            "
   ]
  },
  {
   "cell_type": "code",
   "execution_count": 19,
   "id": "a5ef6c47-fcd9-4897-bd2b-ef0c2f53c242",
   "metadata": {},
   "outputs": [
    {
     "name": "stdout",
     "output_type": "stream",
     "text": [
      "Inititializing slice \"kalhan-cse-534-nat-2-servers\" for MeasurementFramework.\n",
      "Found meas node as meas-node at 2620:0:c80:1003:f816:3eff:fe3b:a2f6\n",
      "Bootstrap status indicates Slice Measurement Framework is ready.\n",
      "{'ht_user': 'egcefqfY', 'ht_password': 'cjpFSsTo'}\n"
     ]
    }
   ],
   "source": [
    "from mflib.data_transfer import PrometheusExporter\n",
    "prom_tools = PrometheusExporter(slice_name = slice_name)\n",
    "data={}\n",
    "data[\"get\"] = [\"ht_user\", \"ht_password\"]\n",
    "prom_creds = prom_tools.info(\"prometheus\",data)\n",
    "print(prom_creds)"
   ]
  },
  {
   "cell_type": "markdown",
   "id": "59e18099-9a3e-42e1-885f-2d09e7869910",
   "metadata": {},
   "source": [
    "#### DOWNLOADING FILES FROM THE CLIENT SERVER AND SWITCH\n"
   ]
  },
  {
   "cell_type": "code",
   "execution_count": 32,
   "id": "89fb23fb-f79f-4739-a5a4-8e4fd5233684",
   "metadata": {},
   "outputs": [],
   "source": [
    "# server1.os_reboot()"
   ]
  },
  {
   "cell_type": "code",
   "execution_count": 44,
   "id": "caa90868-9c0f-48a9-8981-7745f07ca874",
   "metadata": {},
   "outputs": [],
   "source": [
    "### Install scapy on client and server1\n",
    "stdout, stderr = client.execute(f'sudo apt-get update && sudo apt-get install -y python3-scapy', quiet=True)\n",
    "stdout, stderr = server1.execute(f'sudo apt-get update && sudo apt-get install -y python3-scapy', quiet=True)\n"
   ]
  },
  {
   "cell_type": "code",
   "execution_count": 26,
   "id": "8d4aee33-7d95-4f74-9111-01d805c6cf13",
   "metadata": {},
   "outputs": [],
   "source": [
    "server1.upload_file('jupyter-examples-rel1.6.1/fabric_examples/complex_recipes/p4_labs_bmv2/scripts/install_bmv2.sh', 'install_bmv2.sh')\n",
    "stdout, stderr = server1.execute(f'chmod +x install_bmv2.sh &&  ./install_bmv2.sh',quiet=True)"
   ]
  },
  {
   "cell_type": "code",
   "execution_count": 45,
   "id": "31532312-b9fe-4893-a49f-27e277505ca1",
   "metadata": {},
   "outputs": [
    {
     "data": {
      "text/plain": [
       "<SFTPAttributes: [ size=185 uid=1000 gid=1000 mode=0o100664 atime=1711760367 mtime=1711760367 ]>"
      ]
     },
     "execution_count": 45,
     "metadata": {},
     "output_type": "execute_result"
    }
   ],
   "source": [
    "switch.upload_file('jupyter-examples-rel1.6.1/fabric_examples/complex_recipes/p4_labs_bmv2/labs_files/cse534/rules-with-nat-del.sh', 'rules-with-nat-del.sh')"
   ]
  },
  {
   "cell_type": "code",
   "execution_count": 50,
   "id": "b83cd4b9-683e-468d-baa5-02faaa18aeae",
   "metadata": {},
   "outputs": [
    {
     "name": "stdout",
     "output_type": "stream",
     "text": [
      "sending on interface enp7s0 to 192.168.3.1\n",
      "###[ Ethernet ]### \n",
      "  dst       = 00:00:00:00:00:04\n",
      "  src       = 00:00:00:00:00:06\n",
      "  type      = IPv4\n",
      "###[ IP ]### \n",
      "     version   = 4\n",
      "     ihl       = 5\n",
      "     tos       = 0x0\n",
      "     len       = 45\n",
      "     id        = 1\n",
      "     flags     = \n",
      "     frag      = 0\n",
      "     ttl       = 64\n",
      "     proto     = tcp\n",
      "     chksum    = 0xf36e\n",
      "     src       = 192.168.3.10\n",
      "     dst       = 192.168.3.1\n",
      "     \\options   \\\n",
      "###[ TCP ]### \n",
      "        sport     = 52218\n",
      "        dport     = 1234\n",
      "        seq       = 0\n",
      "        ack       = 0\n",
      "        dataofs   = 5\n",
      "        reserved  = 0\n",
      "        flags     = S\n",
      "        window    = 8192\n",
      "        chksum    = 0xf3e2\n",
      "        urgptr    = 0\n",
      "        options   = []\n",
      "###[ Raw ]### \n",
      "           load      = 'hello'\n",
      "\n"
     ]
    }
   ],
   "source": [
    "stdout, stderr = server2.execute(f'sudo python3 send.py enp7s0 192.168.3.10 192.168.3.1 hello')"
   ]
  },
  {
   "cell_type": "code",
   "execution_count": 20,
   "id": "882c542e-4351-41ce-9a27-9aa6b0545bdf",
   "metadata": {},
   "outputs": [],
   "source": [
    "\n",
    "\n",
    "l2_nets = [(n.get_name(), {'color': 'lavender'}) for n in slice.get_l2networks() ]\n",
    "l3_nets = [(n.get_name(), {'color': 'pink'}) for n in slice.get_l3networks() ]\n",
    "hosts   =   [(n.get_name(), {'color': 'lightblue'}) for n in slice.get_nodes()]\n",
    "nodes = l2_nets + l3_nets + hosts\n",
    "ifaces = [iface.toDict() for iface in slice.get_interfaces()]\n",
    "edges = [(iface['network'], iface['node'], \n",
    "          {'label': iface['physical_dev'] + '\\n' + iface['ip_addr'] + '\\n' + iface['mac']}) for iface in ifaces]\n",
    "     \n",
    "     "
   ]
  },
  {
   "cell_type": "code",
   "execution_count": 21,
   "id": "bf6c5946-d618-4e5b-af82-393369f3a2fe",
   "metadata": {},
   "outputs": [
    {
     "data": {
      "image/png": "[encoded data removed]",
      "text/plain": [
       "<Figure size 1600x1600 with 1 Axes>"
      ]
     },
     "metadata": {},
     "output_type": "display_data"
    }
   ],
   "source": [
    "import networkx as nx\n",
    "import matplotlib.pyplot as plt\n",
    "plt.figure(figsize=(len(nodes),len(nodes)))\n",
    "G = nx.Graph()\n",
    "G.add_nodes_from(nodes)\n",
    "G.add_edges_from(edges)\n",
    "pos = nx.spring_layout(G)\n",
    "nx.draw(G, pos, node_shape='s',  \n",
    "        node_color=[n[1]['color'] for n in nodes], \n",
    "        node_size=[len(n[0])*400 for n in nodes],  \n",
    "        with_labels=True);\n",
    "# nx.draw_networkx_edge_labels(G,pos,\n",
    "#                              edge_labels=nx.get_edge_attributes(G,'label'),\n",
    "#                              font_color='gray',  font_size=8, rotate=False);"
   ]
  },
  {
   "cell_type": "code",
   "execution_count": null,
   "id": "40f79391-ef23-4a7e-9684-c7b073436d85",
   "metadata": {},
   "outputs": [],
   "source": []
  }
 ],
 "metadata": {
  "kernelspec": {
   "display_name": "Python 3 (ipykernel)",
   "language": "python",
   "name": "python3"
  },
  "language_info": {
   "codemirror_mode": {
    "name": "ipython",
    "version": 3
   },
   "file_extension": ".py",
   "mimetype": "text/x-python",
   "name": "python",
   "nbconvert_exporter": "python",
   "pygments_lexer": "ipython3",
   "version": "3.10.6"
  }
 },
 "nbformat": 4,
 "nbformat_minor": 5
}
