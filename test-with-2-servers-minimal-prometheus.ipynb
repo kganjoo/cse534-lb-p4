{
 "cells": [
  {
   "cell_type": "code",
   "execution_count": 1,
   "id": "8ff7422b-209e-4e40-9deb-7099b63721c1",
   "metadata": {},
   "outputs": [],
   "source": [
    "from fabrictestbed_extensions.fablib.fablib import FablibManager as fablib_manager\n",
    "from fabrictestbed.slice_manager import SliceManager, Status, SliceState\n",
    "fablib = fablib_manager()"
   ]
  },
  {
   "cell_type": "code",
   "execution_count": 2,
   "id": "1be57c74-6949-4f47-b2c2-131259bc29e7",
   "metadata": {},
   "outputs": [
    {
     "name": "stdout",
     "output_type": "stream",
     "text": [
      "MFLib version  1.0.4 \n"
     ]
    }
   ],
   "source": [
    "import mflib \n",
    "print(f\"MFLib version  {mflib.__version__} \" )\n",
    "\n",
    "from mflib.mflib import MFLib"
   ]
  },
  {
   "cell_type": "code",
   "execution_count": 3,
   "id": "803072f5-2a93-4b56-a0c3-65f473f80683",
   "metadata": {},
   "outputs": [],
   "source": [
    "slice_name = \"kalhan-cse-534-nat-2-servers-minimal-servers\""
   ]
  },
  {
   "cell_type": "code",
   "execution_count": null,
   "id": "eb316d21-053c-4f8f-86cc-cc1359c82f3f",
   "metadata": {},
   "outputs": [],
   "source": [
    "#slice = fablib.new_slice(name=slice_name)"
   ]
  },
  {
   "cell_type": "code",
   "execution_count": 4,
   "id": "124a4b76-8148-43df-bc1a-eb82586bc4c5",
   "metadata": {},
   "outputs": [],
   "source": [
    "# # retrieve an existing slice\n",
    "slice = fablib.get_slice(name=slice_name)"
   ]
  },
  {
   "cell_type": "code",
   "execution_count": null,
   "id": "6e7812ba-b777-42b1-96a3-32028583d513",
   "metadata": {},
   "outputs": [],
   "source": [
    "#slice.delete()"
   ]
  },
  {
   "cell_type": "code",
   "execution_count": 5,
   "id": "8ca34dfb-e2ea-4c57-bb7f-956ef1eb852d",
   "metadata": {},
   "outputs": [
    {
     "data": {
      "text/plain": [
       "'StableOK'"
      ]
     },
     "execution_count": 5,
     "metadata": {},
     "output_type": "execute_result"
    }
   ],
   "source": [
    "slice.get_state()"
   ]
  },
  {
   "cell_type": "code",
   "execution_count": null,
   "id": "48c1430a-fe6f-490a-89df-2e5da9e2e513",
   "metadata": {},
   "outputs": [],
   "source": [
    "# from fabrictestbed_extensions.fablib.fablib import FablibManager as fablib_manager\n",
    "# fablib = fablib_manager()\n",
    "# slice = fablib.get_slice(name=slice_name)\n",
    "# slice.delete()"
   ]
  },
  {
   "cell_type": "code",
   "execution_count": null,
   "id": "85faf6f5-7f03-4dcb-be8d-a800a8854bc1",
   "metadata": {},
   "outputs": [],
   "source": [
    "fablib.list_sites(latlon=False)"
   ]
  },
  {
   "cell_type": "code",
   "execution_count": null,
   "id": "74fbe498-2e88-4bfd-976d-29fc447cdbd2",
   "metadata": {},
   "outputs": [],
   "source": [
    "site1='MICH'\n",
    "site2='UTAH'\n",
    "site3='NCSA'\n",
    "site4 = 'STAR' # todo change topology and deploy switch at star. , USE STAR TOPOLOGY FOR DEPLOYONG THE SWITCH\n",
    "\n",
    "print (f'The selected sites are {site1}, {site2}, {site3} {site4}') "
   ]
  },
  {
   "cell_type": "code",
   "execution_count": null,
   "id": "ea580da3-3846-4667-9f1c-9230a3fe0aa9",
   "metadata": {},
   "outputs": [],
   "source": [
    "client = slice.add_node(name=\"client\", \n",
    "                      site=site1, \n",
    "                      cores=4, \n",
    "                      ram=8, \n",
    "                      disk=20, \n",
    "                      image='default_ubuntu_20')\n",
    "\n",
    "server1 = slice.add_node(name=\"server1\", \n",
    "                      site=site2, \n",
    "                      cores=4, \n",
    "                      ram=8, \n",
    "                      disk=20, \n",
    "                      image='default_ubuntu_20')\n",
    "server2 = slice.add_node(name=\"server2\", \n",
    "                      site=site3, \n",
    "                      cores=4, \n",
    "                      ram=8, \n",
    "                      disk=20, \n",
    "                      image='default_ubuntu_20')\n"
   ]
  },
  {
   "cell_type": "code",
   "execution_count": null,
   "id": "8589be05-4286-4970-9151-4881d63fc6d4",
   "metadata": {},
   "outputs": [],
   "source": [
    "client_iface = client.add_component(model='NIC_Basic').get_interfaces()[0]\n",
    "server1_iface = server1.add_component(model='NIC_Basic').get_interfaces()[0]\n",
    "server2_iface = server2.add_component(model='NIC_Basic').get_interfaces()[0]\n"
   ]
  },
  {
   "cell_type": "code",
   "execution_count": null,
   "id": "d096640f-b3d0-49c8-ab85-e41e94ee57e7",
   "metadata": {},
   "outputs": [],
   "source": [
    "# Add a node for P4 switch\n",
    "switch = slice.add_node(name=\"switch\", \n",
    "                      site=site4, \n",
    "                      cores=32, \n",
    "                      ram=16, \n",
    "                      disk=40, \n",
    "                      image='default_ubuntu_20')"
   ]
  },
  {
   "cell_type": "code",
   "execution_count": null,
   "id": "c7e78cb0-9278-4743-8a2e-7c24dbe56bb7",
   "metadata": {},
   "outputs": [],
   "source": [
    "switch_client_iface = switch.add_component(model='NIC_Basic', name='client_nic').get_interfaces()[0]\n",
    "switch_server1_iface = switch.add_component(model='NIC_Basic', name='server1_nic').get_interfaces()[0]\n",
    "switch_server2_iface = switch.add_component(model='NIC_Basic', name='server2_nic').get_interfaces()[0]\n"
   ]
  },
  {
   "cell_type": "code",
   "execution_count": null,
   "id": "6a1392f9-7260-4fdd-8c06-ee3190c5468c",
   "metadata": {},
   "outputs": [],
   "source": [
    "switch_client_net = slice.add_l2network(name='switch_client_net', interfaces=[client_iface, switch_client_iface])\n",
    "switch_server1_net = slice.add_l2network(name='switch_server1_net', interfaces=[switch_server1_iface, server1_iface])\n",
    "switch_server2_net = slice.add_l2network(name='switch_server2_net', interfaces=[switch_server2_iface, server2_iface])"
   ]
  },
  {
   "cell_type": "code",
   "execution_count": null,
   "id": "4f3948b7-3eb9-48d3-a212-c47a969ac9b4",
   "metadata": {},
   "outputs": [],
   "source": [
    "\n",
    "MFLib.addMeasNode(slice, disk=100)\n",
    "print(\"Done\")"
   ]
  },
  {
   "cell_type": "code",
   "execution_count": null,
   "id": "29ccd05f-7612-4737-9a93-22c4ab9df2a8",
   "metadata": {},
   "outputs": [],
   "source": [
    "slice.submit()"
   ]
  },
  {
   "cell_type": "code",
   "execution_count": 32,
   "id": "cd0b15b2-ea40-4194-843d-5ba61aa07e6c",
   "metadata": {},
   "outputs": [
    {
     "name": "stdout",
     "output_type": "stream",
     "text": [
      "---------------  ---------------------\n",
      "Name             switch-server1_nic-p1\n",
      "Network          switch_server1_net\n",
      "Bandwidth        100\n",
      "Mode             config\n",
      "VLAN\n",
      "MAC              1A:AC:EC:5E:AE:C8\n",
      "Physical Device  enp7s0\n",
      "Device           enp7s0\n",
      "Address\n",
      "Numa Node        6\n",
      "---------------  ---------------------\n",
      "---------------  --------------------\n",
      "Name             switch-client_nic-p1\n",
      "Network          switch_client_net\n",
      "Bandwidth        100\n",
      "Mode             config\n",
      "VLAN\n",
      "MAC              1A:B9:CE:DD:FF:7C\n",
      "Physical Device  enp8s0\n",
      "Device           enp8s0\n",
      "Address\n",
      "Numa Node        6\n",
      "---------------  --------------------\n",
      "---------------  ------------------------------\n",
      "Name             switch-meas_nic_switch_STAR-p1\n",
      "Network          l3_meas_net_STAR\n",
      "Bandwidth        100\n",
      "Mode             config\n",
      "VLAN\n",
      "MAC              22:6B:5E:2D:15:BF\n",
      "Physical Device  enp9s0\n",
      "Device           enp9s0\n",
      "Address\n",
      "Numa Node        6\n",
      "---------------  ------------------------------\n",
      "---------------  ------------------\n",
      "Name             switch-meas_nic-p1\n",
      "Network\n",
      "Bandwidth        100\n",
      "Mode             config\n",
      "VLAN\n",
      "MAC\n",
      "Physical Device\n",
      "Device\n",
      "Address\n",
      "Numa Node\n",
      "---------------  ------------------\n",
      "---------------  ---------------------\n",
      "Name             switch-server2_nic-p1\n",
      "Network          switch_server2_net\n",
      "Bandwidth        100\n",
      "Mode             config\n",
      "VLAN\n",
      "MAC              22:BE:32:75:80:69\n",
      "Physical Device  enp10s0\n",
      "Device           enp10s0\n",
      "Address\n",
      "Numa Node        6\n",
      "---------------  ---------------------\n",
      "---------------  -----------------------------------\n",
      "Name             meas-node-meas_nic_meas-node_EDC-p1\n",
      "Network          l3_meas_net_EDC\n",
      "Bandwidth        100\n",
      "Mode             config\n",
      "VLAN\n",
      "MAC              06:A4:94:C1:58:26\n",
      "Physical Device  enp6s0\n",
      "Device           enp6s0\n",
      "Address\n",
      "Numa Node        6\n",
      "---------------  -----------------------------------\n",
      "---------------  -----------------\n",
      "Name             client-None-p1\n",
      "Network          switch_client_net\n",
      "Bandwidth        100\n",
      "Mode             config\n",
      "VLAN\n",
      "MAC              0E:06:73:C1:D9:AE\n",
      "Physical Device  enp7s0\n",
      "Device           enp7s0\n",
      "Address\n",
      "Numa Node        6\n",
      "---------------  -----------------\n",
      "---------------  ------------------------------\n",
      "Name             client-meas_nic_client_MICH-p1\n",
      "Network          l3_meas_net_MICH\n",
      "Bandwidth        100\n",
      "Mode             config\n",
      "VLAN\n",
      "MAC              16:00:22:5E:58:FC\n",
      "Physical Device  enp8s0\n",
      "Device           enp8s0\n",
      "Address\n",
      "Numa Node        6\n",
      "---------------  ------------------------------\n",
      "---------------  --------------------------------\n",
      "Name             server1-meas_nic_server1_UTAH-p1\n",
      "Network          l3_meas_net_UTAH\n",
      "Bandwidth        100\n",
      "Mode             config\n",
      "VLAN\n",
      "MAC              0A:5C:5D:3E:8D:5D\n",
      "Physical Device  enp7s0\n",
      "Device           enp7s0\n",
      "Address\n",
      "Numa Node        4\n",
      "---------------  --------------------------------\n",
      "---------------  ------------------\n",
      "Name             server1-None-p1\n",
      "Network          switch_server1_net\n",
      "Bandwidth        100\n",
      "Mode             config\n",
      "VLAN\n",
      "MAC              0A:5E:97:F8:FA:F6\n",
      "Physical Device  enp8s0\n",
      "Device           enp8s0\n",
      "Address\n",
      "Numa Node        4\n",
      "---------------  ------------------\n",
      "---------------  --------------------------------\n",
      "Name             server2-meas_nic_server2_NCSA-p1\n",
      "Network          l3_meas_net_NCSA\n",
      "Bandwidth        100\n",
      "Mode             config\n",
      "VLAN\n",
      "MAC              06:B2:13:48:79:92\n",
      "Physical Device  enp7s0\n",
      "Device           enp7s0\n",
      "Address\n",
      "Numa Node        4\n",
      "---------------  --------------------------------\n",
      "---------------  ------------------\n",
      "Name             server2-None-p1\n",
      "Network          switch_server2_net\n",
      "Bandwidth        100\n",
      "Mode             config\n",
      "VLAN\n",
      "MAC              36:4E:AB:61:AD:80\n",
      "Physical Device  enp8s0\n",
      "Device           enp8s0\n",
      "Address\n",
      "Numa Node        4\n",
      "---------------  ------------------\n"
     ]
    }
   ],
   "source": [
    "for iface in slice.get_interfaces():\n",
    "    print(iface)"
   ]
  },
  {
   "cell_type": "markdown",
   "id": "13673028-059b-487c-b9db-4542e58c2b3b",
   "metadata": {},
   "source": [
    "#  NETWORK services\n"
   ]
  },
  {
   "cell_type": "code",
   "execution_count": 38,
   "id": "ac672dc5-ac16-473d-a013-f552b88953f9",
   "metadata": {},
   "outputs": [
    {
     "name": "stdout",
     "output_type": "stream",
     "text": [
      "-------  ------------------------------------\n",
      "ID       67232fdd-f859-450c-8ad0-bce05d493505\n",
      "Name     switch_client_net\n",
      "Layer    L2\n",
      "Type     L2STS\n",
      "Site\n",
      "Gateway\n",
      "Subnet\n",
      "State    Active\n",
      "Error\n",
      "-------  ------------------------------------\n",
      "-------  ------------------------------------\n",
      "ID       09d08bf9-7c1a-4d16-aada-0175bc0c627b\n",
      "Name     switch_server1_net\n",
      "Layer    L2\n",
      "Type     L2STS\n",
      "Site\n",
      "Gateway\n",
      "Subnet\n",
      "State    Active\n",
      "Error\n",
      "-------  ------------------------------------\n",
      "-------  ------------------------------------\n",
      "ID       1cf5defb-d984-4e0d-8446-62649c422982\n",
      "Name     switch_server2_net\n",
      "Layer    L2\n",
      "Type     L2STS\n",
      "Site\n",
      "Gateway\n",
      "Subnet\n",
      "State    Active\n",
      "Error\n",
      "-------  ------------------------------------\n",
      "-------  ------------------------------------\n",
      "ID       16692911-bb4d-41f1-b3ab-b2cd5cf3609e\n",
      "Name     l3_meas_net_MICH\n",
      "Layer    L3\n",
      "Type     FABNetv4\n",
      "Site     MICH\n",
      "Gateway  10.131.6.1\n",
      "Subnet   10.131.6.0/24\n",
      "State    Active\n",
      "Error\n",
      "-------  ------------------------------------\n",
      "-------  ------------------------------------\n",
      "ID       96a88c19-448b-4ade-b07e-ab335ecb6b35\n",
      "Name     l3_meas_net_UTAH\n",
      "Layer    L3\n",
      "Type     FABNetv4\n",
      "Site     UTAH\n",
      "Gateway  10.132.5.1\n",
      "Subnet   10.132.5.0/24\n",
      "State    Active\n",
      "Error\n",
      "-------  ------------------------------------\n",
      "-------  ------------------------------------\n",
      "ID       bf9bd777-cf71-4027-abe6-54276240a912\n",
      "Name     l3_meas_net_NCSA\n",
      "Layer    L3\n",
      "Type     FABNetv4\n",
      "Site     NCSA\n",
      "Gateway  10.132.146.1\n",
      "Subnet   10.132.146.0/24\n",
      "State    Active\n",
      "Error\n",
      "-------  ------------------------------------\n",
      "-------  ------------------------------------\n",
      "ID       dca4b8a5-ee22-45d2-84d3-865bfc4bb6f7\n",
      "Name     l3_meas_net_STAR\n",
      "Layer    L3\n",
      "Type     FABNetv4\n",
      "Site     STAR\n",
      "Gateway  10.129.135.1\n",
      "Subnet   10.129.135.0/24\n",
      "State    Active\n",
      "Error\n",
      "-------  ------------------------------------\n",
      "-------  ------------------------------------\n",
      "ID       bfe50ac3-1b5a-47c2-b41d-6778d96f389f\n",
      "Name     l3_meas_net_EDC\n",
      "Layer    L3\n",
      "Type     FABNetv4\n",
      "Site     EDC\n",
      "Gateway  10.132.147.1\n",
      "Subnet   10.132.147.0/24\n",
      "State    Active\n",
      "Error\n",
      "-------  ------------------------------------\n",
      "-------  -----------------------\n",
      "ID\n",
      "Name     switch_meas_net\n",
      "Layer    L2\n",
      "Type     L2STS\n",
      "Site\n",
      "Gateway  switch_meas_net.gateway\n",
      "Subnet   switch_meas_net.subnet\n",
      "State\n",
      "Error\n",
      "-------  -----------------------\n"
     ]
    }
   ],
   "source": [
    "for nw_service in slice.get_network_services():\n",
    "    print(nw_service)"
   ]
  },
  {
   "cell_type": "markdown",
   "id": "9177b82b-52e3-4eed-ad71-3abc9a1720dc",
   "metadata": {},
   "source": [
    "## NODE INFORMATION"
   ]
  },
  {
   "cell_type": "code",
   "execution_count": 33,
   "id": "e92faae9-4a38-47ac-b8e0-c3bd28903dd0",
   "metadata": {},
   "outputs": [
    {
     "name": "stdout",
     "output_type": "stream",
     "text": [
      "-----------------  -----------------------------------------------------------------------------------------------------------------------------------------\n",
      "ID                 7b8df70a-dd31-4828-ae7d-9acddcc80667\n",
      "Name               switch\n",
      "Cores              32\n",
      "RAM                16\n",
      "Disk               100\n",
      "Image              default_ubuntu_20\n",
      "Image Type         qcow2\n",
      "Host               star-w2.fabric-testbed.net\n",
      "Site               STAR\n",
      "Management IP      2001:400:a100:3030:f816:3eff:fef5:4ece\n",
      "Reservation State  Active\n",
      "Error Message\n",
      "SSH Command        ssh -i {{ _self_.private_ssh_key_file }} -F /home/fabric/work/fabric_config/ssh_config {{ _self_.username }}@{{ _self_.management_ip }}\"s\n",
      "-----------------  -----------------------------------------------------------------------------------------------------------------------------------------\n",
      "-----------------  -----------------------------------------------------------------------------------------------------------------------------------------\n",
      "ID                 753a6b43-e9fc-48ec-b866-09510c1a58de\n",
      "Name               meas-node\n",
      "Cores              4\n",
      "RAM                16\n",
      "Disk               100\n",
      "Image              default_ubuntu_20\n",
      "Image Type         qcow2\n",
      "Host               edc-w1.fabric-testbed.net\n",
      "Site               EDC\n",
      "Management IP      2620:0:c80:1003:f816:3eff:fe38:7a81\n",
      "Reservation State  Active\n",
      "Error Message\n",
      "SSH Command        ssh -i {{ _self_.private_ssh_key_file }} -F /home/fabric/work/fabric_config/ssh_config {{ _self_.username }}@{{ _self_.management_ip }}\"s\n",
      "-----------------  -----------------------------------------------------------------------------------------------------------------------------------------\n",
      "-----------------  -----------------------------------------------------------------------------------------------------------------------------------------\n",
      "ID                 a6a80240-264a-4fe7-9856-387dd1c7ec2b\n",
      "Name               client\n",
      "Cores              4\n",
      "RAM                8\n",
      "Disk               100\n",
      "Image              default_ubuntu_20\n",
      "Image Type         qcow2\n",
      "Host               mich-w1.fabric-testbed.net\n",
      "Site               MICH\n",
      "Management IP      2607:f018:110:11:f816:3eff:fe18:3a36\n",
      "Reservation State  Active\n",
      "Error Message\n",
      "SSH Command        ssh -i {{ _self_.private_ssh_key_file }} -F /home/fabric/work/fabric_config/ssh_config {{ _self_.username }}@{{ _self_.management_ip }}\"s\n",
      "-----------------  -----------------------------------------------------------------------------------------------------------------------------------------\n",
      "-----------------  -----------------------------------------------------------------------------------------------------------------------------------------\n",
      "ID                 3dd6ebf1-d2b5-435a-8538-b26a25389ba9\n",
      "Name               server1\n",
      "Cores              4\n",
      "RAM                8\n",
      "Disk               100\n",
      "Image              default_ubuntu_20\n",
      "Image Type         qcow2\n",
      "Host               utah-w5.fabric-testbed.net\n",
      "Site               UTAH\n",
      "Management IP      2001:1948:417:7:f816:3eff:fe43:8575\n",
      "Reservation State  Active\n",
      "Error Message\n",
      "SSH Command        ssh -i {{ _self_.private_ssh_key_file }} -F /home/fabric/work/fabric_config/ssh_config {{ _self_.username }}@{{ _self_.management_ip }}\"s\n",
      "-----------------  -----------------------------------------------------------------------------------------------------------------------------------------\n",
      "-----------------  -----------------------------------------------------------------------------------------------------------------------------------------\n",
      "ID                 232bb484-f865-4052-aeb4-a00566d70ecb\n",
      "Name               server2\n",
      "Cores              4\n",
      "RAM                8\n",
      "Disk               100\n",
      "Image              default_ubuntu_20\n",
      "Image Type         qcow2\n",
      "Host               ncsa-w2.fabric-testbed.net\n",
      "Site               NCSA\n",
      "Management IP      2620:0:c80:1001:f816:3eff:fe74:90b4\n",
      "Reservation State  Active\n",
      "Error Message\n",
      "SSH Command        ssh -i {{ _self_.private_ssh_key_file }} -F /home/fabric/work/fabric_config/ssh_config {{ _self_.username }}@{{ _self_.management_ip }}\"s\n",
      "-----------------  -----------------------------------------------------------------------------------------------------------------------------------------\n"
     ]
    }
   ],
   "source": [
    "for node in slice.get_nodes():\n",
    "    print(node)"
   ]
  },
  {
   "cell_type": "code",
   "execution_count": null,
   "id": "2eb62d67-40ae-4340-9bf4-814755f82f84",
   "metadata": {},
   "outputs": [],
   "source": [
    "from datetime import datetime\n",
    "from datetime import timezone\n",
    "from datetime import timedelta\n",
    "\n",
    "#Set end host to now plus 1 day\n",
    "end_date = (datetime.now(timezone.utc) + timedelta(days=7)).strftime(\"%Y-%m-%d %H:%M:%S %z\")\n",
    "\n",
    "try:\n",
    "    slice = fablib.get_slice(name=slice_name)\n",
    "\n",
    "    slice.renew(end_date)\n",
    "except Exception as e:\n",
    "    print(f\"Exception: {e}\")"
   ]
  },
  {
   "cell_type": "code",
   "execution_count": null,
   "id": "ad9352bf-4487-4c61-9276-6db95cdf66fb",
   "metadata": {},
   "outputs": [],
   "source": [
    "### installing the switch normal, dont need incase of high performance switch\n",
    "\n",
    "\n",
    "\n",
    "switch = slice.get_node(name=\"switch\")     \n",
    "switch.upload_file('install_bmv2.sh', 'install_bmv2.sh')\n",
    "stdout, stderr = switch.execute(f'chmod +x install_bmv2.sh &&  ./install_bmv2.sh',quiet=True)"
   ]
  },
  {
   "cell_type": "code",
   "execution_count": 13,
   "id": "617de38a-2205-42fb-a5f7-375336ec4e4b",
   "metadata": {},
   "outputs": [],
   "source": [
    "#The net-tools package will be installed on the switch, server1 and server2 nodes. This package will allow us to use the ifconfig and the arp commands\n",
    "\n",
    "client = slice.get_node(name=\"client\")\n",
    "server1 = slice.get_node(name=\"server1\")\n",
    "server2 = slice.get_node(name=\"server2\")\n",
    "switch = slice.get_node(name=\"switch\")\n",
    "meas_node = slice.get_node(name= \"meas-node\")\n",
    "\n",
    "\n",
    "stdout, stderr = client.execute(f'sudo apt-get install -y net-tools', quiet=True)\n",
    "stdout, stderr = server1.execute(f'sudo apt-get install -y net-tools', quiet=True)\n",
    "stdout, stderr = server2.execute(f'sudo apt-get install -y net-tools', quiet=True)\n",
    "stdout, stderr = switch.execute(f'sudo apt-get install -y net-tools', quiet=True)\n",
    "stdout, stderr = meas_node.execute(f'sudo apt-get install -y net-tools', quiet=True)"
   ]
  },
  {
   "cell_type": "markdown",
   "id": "c8ec6d37-ac39-44e1-8138-ffea6c441ad5",
   "metadata": {},
   "source": [
    "### add l2 networj b/w switch and meas node"
   ]
  },
  {
   "cell_type": "code",
   "execution_count": null,
   "id": "eacc3c60-1b78-4898-91b7-e122dd35b3e3",
   "metadata": {},
   "outputs": [],
   "source": [
    "switch_meas_iface = switch.add_component(model='NIC_Basic', name='meas_nic').get_interfaces()[0]\n",
    "meas_iface = meas_node.add_component(model='NIC_Basic', name='meas_nic').get_interfaces()[0]\n",
    "switch_meas_net = slice.add_l2network(name='switch_meas_net', interfaces=[switch_meas_iface, meas_iface])"
   ]
  },
  {
   "cell_type": "code",
   "execution_count": 39,
   "id": "8f636247-09b0-4022-8c46-353f13f24d2e",
   "metadata": {},
   "outputs": [
    {
     "name": "stdout",
     "output_type": "stream",
     "text": [
      "\n",
      "Retry: 1, Time: 352 sec\n"
     ]
    },
    {
     "data": {
      "text/html": [
       "<style type=\"text/css\">\n",
       "#T_5e66b tr:nth-child(even) {\n",
       "  background: #dbf3ff;\n",
       "  color: #231f20;\n",
       "}\n",
       "#T_5e66b tr:nth-child(odd) {\n",
       "  background: #ffffff;\n",
       "  color: #231f20;\n",
       "}\n",
       "#T_5e66b caption {\n",
       "  text-align: center;\n",
       "  font-size: 150%;\n",
       "}\n",
       "#T_5e66b_row0_col0, #T_5e66b_row0_col1, #T_5e66b_row1_col0, #T_5e66b_row1_col1, #T_5e66b_row2_col0, #T_5e66b_row2_col1, #T_5e66b_row3_col0, #T_5e66b_row3_col1, #T_5e66b_row4_col0, #T_5e66b_row4_col1, #T_5e66b_row5_col0 {\n",
       "  text-align: left;\n",
       "  border: 1px #231f20 solid !important;\n",
       "  overwrite: False;\n",
       "  background-color: ;\n",
       "}\n",
       "#T_5e66b_row5_col1 {\n",
       "  text-align: left;\n",
       "  border: 1px #231f20 solid !important;\n",
       "  overwrite: False;\n",
       "  background-color: #c3ffc4;\n",
       "}\n",
       "</style>\n",
       "<table id=\"T_5e66b\">\n",
       "  <caption>Slice</caption>\n",
       "  <thead>\n",
       "  </thead>\n",
       "  <tbody>\n",
       "    <tr>\n",
       "      <td id=\"T_5e66b_row0_col0\" class=\"data row0 col0\" >ID</td>\n",
       "      <td id=\"T_5e66b_row0_col1\" class=\"data row0 col1\" >9465d01f-d56a-44d4-bd36-66e5f7565a1a</td>\n",
       "    </tr>\n",
       "    <tr>\n",
       "      <td id=\"T_5e66b_row1_col0\" class=\"data row1 col0\" >Name</td>\n",
       "      <td id=\"T_5e66b_row1_col1\" class=\"data row1 col1\" >kalhan-cse-534-nat-2-servers-minimal-servers</td>\n",
       "    </tr>\n",
       "    <tr>\n",
       "      <td id=\"T_5e66b_row2_col0\" class=\"data row2 col0\" >Lease Expiration (UTC)</td>\n",
       "      <td id=\"T_5e66b_row2_col1\" class=\"data row2 col1\" >2024-04-27 22:07:29 +0000</td>\n",
       "    </tr>\n",
       "    <tr>\n",
       "      <td id=\"T_5e66b_row3_col0\" class=\"data row3 col0\" >Lease Start (UTC)</td>\n",
       "      <td id=\"T_5e66b_row3_col1\" class=\"data row3 col1\" >2024-04-20 19:17:02 +0000</td>\n",
       "    </tr>\n",
       "    <tr>\n",
       "      <td id=\"T_5e66b_row4_col0\" class=\"data row4 col0\" >Project ID</td>\n",
       "      <td id=\"T_5e66b_row4_col1\" class=\"data row4 col1\" >6ce270de-788d-4e07-8bae-3206860a6387</td>\n",
       "    </tr>\n",
       "    <tr>\n",
       "      <td id=\"T_5e66b_row5_col0\" class=\"data row5 col0\" >State</td>\n",
       "      <td id=\"T_5e66b_row5_col1\" class=\"data row5 col1\" >StableOK</td>\n",
       "    </tr>\n",
       "  </tbody>\n",
       "</table>\n"
      ],
      "text/plain": [
       "<pandas.io.formats.style.Styler at 0x7fcfc8065cc0>"
      ]
     },
     "metadata": {},
     "output_type": "display_data"
    },
    {
     "data": {
      "text/html": [
       "<style type=\"text/css\">\n",
       "#T_83935 caption {\n",
       "  text-align: center;\n",
       "  font-size: 150%;\n",
       "  caption-side: top;\n",
       "}\n",
       "#T_83935 th {\n",
       "  text-align: left;\n",
       "}\n",
       "#T_83935 tr:nth-child(even) {\n",
       "  background: #ffffff;\n",
       "  color: #231f20;\n",
       "}\n",
       "#T_83935 tr:nth-child(odd) {\n",
       "  background: #dbf3ff;\n",
       "  color: #231f20;\n",
       "}\n",
       "#T_83935 .level0 {\n",
       "  border: 1px black solid !important;\n",
       "  background: #ffffff;\n",
       "  color: #231f20;\n",
       "}\n",
       "#T_83935_row0_col0, #T_83935_row0_col1, #T_83935_row0_col2, #T_83935_row0_col3, #T_83935_row0_col4, #T_83935_row0_col5, #T_83935_row0_col6, #T_83935_row0_col7, #T_83935_row0_col8, #T_83935_row0_col9, #T_83935_row0_col10, #T_83935_row0_col13, #T_83935_row0_col14, #T_83935_row0_col15, #T_83935_row1_col0, #T_83935_row1_col1, #T_83935_row1_col2, #T_83935_row1_col3, #T_83935_row1_col4, #T_83935_row1_col5, #T_83935_row1_col6, #T_83935_row1_col7, #T_83935_row1_col8, #T_83935_row1_col9, #T_83935_row1_col10, #T_83935_row1_col13, #T_83935_row1_col14, #T_83935_row1_col15, #T_83935_row2_col0, #T_83935_row2_col1, #T_83935_row2_col2, #T_83935_row2_col3, #T_83935_row2_col4, #T_83935_row2_col5, #T_83935_row2_col6, #T_83935_row2_col7, #T_83935_row2_col8, #T_83935_row2_col9, #T_83935_row2_col10, #T_83935_row2_col13, #T_83935_row2_col14, #T_83935_row2_col15, #T_83935_row3_col0, #T_83935_row3_col1, #T_83935_row3_col2, #T_83935_row3_col3, #T_83935_row3_col4, #T_83935_row3_col5, #T_83935_row3_col6, #T_83935_row3_col7, #T_83935_row3_col8, #T_83935_row3_col9, #T_83935_row3_col10, #T_83935_row3_col13, #T_83935_row3_col14, #T_83935_row3_col15, #T_83935_row4_col0, #T_83935_row4_col1, #T_83935_row4_col2, #T_83935_row4_col3, #T_83935_row4_col4, #T_83935_row4_col5, #T_83935_row4_col6, #T_83935_row4_col7, #T_83935_row4_col8, #T_83935_row4_col9, #T_83935_row4_col10, #T_83935_row4_col13, #T_83935_row4_col14, #T_83935_row4_col15 {\n",
       "  text-align: left;\n",
       "  border: 1px #231f20 solid !important;\n",
       "  overwrite: False;\n",
       "}\n",
       "#T_83935_row0_col11, #T_83935_row1_col11, #T_83935_row2_col11, #T_83935_row3_col11, #T_83935_row4_col11 {\n",
       "  text-align: left;\n",
       "  border: 1px #231f20 solid !important;\n",
       "  overwrite: False;\n",
       "  background-color: #c3ffc4;\n",
       "}\n",
       "#T_83935_row0_col12, #T_83935_row1_col12, #T_83935_row2_col12, #T_83935_row3_col12, #T_83935_row4_col12 {\n",
       "  text-align: left;\n",
       "  border: 1px #231f20 solid !important;\n",
       "  overwrite: False;\n",
       "  background-color: ;\n",
       "}\n",
       "</style>\n",
       "<table id=\"T_83935\">\n",
       "  <caption>Nodes</caption>\n",
       "  <thead>\n",
       "    <tr>\n",
       "      <th id=\"T_83935_level0_col0\" class=\"col_heading level0 col0\" >ID</th>\n",
       "      <th id=\"T_83935_level0_col1\" class=\"col_heading level0 col1\" >Name</th>\n",
       "      <th id=\"T_83935_level0_col2\" class=\"col_heading level0 col2\" >Cores</th>\n",
       "      <th id=\"T_83935_level0_col3\" class=\"col_heading level0 col3\" >RAM</th>\n",
       "      <th id=\"T_83935_level0_col4\" class=\"col_heading level0 col4\" >Disk</th>\n",
       "      <th id=\"T_83935_level0_col5\" class=\"col_heading level0 col5\" >Image</th>\n",
       "      <th id=\"T_83935_level0_col6\" class=\"col_heading level0 col6\" >Image Type</th>\n",
       "      <th id=\"T_83935_level0_col7\" class=\"col_heading level0 col7\" >Host</th>\n",
       "      <th id=\"T_83935_level0_col8\" class=\"col_heading level0 col8\" >Site</th>\n",
       "      <th id=\"T_83935_level0_col9\" class=\"col_heading level0 col9\" >Username</th>\n",
       "      <th id=\"T_83935_level0_col10\" class=\"col_heading level0 col10\" >Management IP</th>\n",
       "      <th id=\"T_83935_level0_col11\" class=\"col_heading level0 col11\" >State</th>\n",
       "      <th id=\"T_83935_level0_col12\" class=\"col_heading level0 col12\" >Error</th>\n",
       "      <th id=\"T_83935_level0_col13\" class=\"col_heading level0 col13\" >SSH Command</th>\n",
       "      <th id=\"T_83935_level0_col14\" class=\"col_heading level0 col14\" >Public SSH Key File</th>\n",
       "      <th id=\"T_83935_level0_col15\" class=\"col_heading level0 col15\" >Private SSH Key File</th>\n",
       "    </tr>\n",
       "  </thead>\n",
       "  <tbody>\n",
       "    <tr>\n",
       "      <td id=\"T_83935_row0_col0\" class=\"data row0 col0\" >a6a80240-264a-4fe7-9856-387dd1c7ec2b</td>\n",
       "      <td id=\"T_83935_row0_col1\" class=\"data row0 col1\" >client</td>\n",
       "      <td id=\"T_83935_row0_col2\" class=\"data row0 col2\" >4</td>\n",
       "      <td id=\"T_83935_row0_col3\" class=\"data row0 col3\" >8</td>\n",
       "      <td id=\"T_83935_row0_col4\" class=\"data row0 col4\" >100</td>\n",
       "      <td id=\"T_83935_row0_col5\" class=\"data row0 col5\" >default_ubuntu_20</td>\n",
       "      <td id=\"T_83935_row0_col6\" class=\"data row0 col6\" >qcow2</td>\n",
       "      <td id=\"T_83935_row0_col7\" class=\"data row0 col7\" >mich-w1.fabric-testbed.net</td>\n",
       "      <td id=\"T_83935_row0_col8\" class=\"data row0 col8\" >MICH</td>\n",
       "      <td id=\"T_83935_row0_col9\" class=\"data row0 col9\" >ubuntu</td>\n",
       "      <td id=\"T_83935_row0_col10\" class=\"data row0 col10\" >2607:f018:110:11:f816:3eff:fe18:3a36</td>\n",
       "      <td id=\"T_83935_row0_col11\" class=\"data row0 col11\" >Active</td>\n",
       "      <td id=\"T_83935_row0_col12\" class=\"data row0 col12\" ></td>\n",
       "      <td id=\"T_83935_row0_col13\" class=\"data row0 col13\" >ssh -i /home/fabric/work/fabric_config/slice_key -F /home/fabric/work/fabric_config/ssh_config ubuntu@2607:f018:110:11:f816:3eff:fe18:3a36\"s</td>\n",
       "      <td id=\"T_83935_row0_col14\" class=\"data row0 col14\" >/home/fabric/work/fabric_config/slice_key.pub</td>\n",
       "      <td id=\"T_83935_row0_col15\" class=\"data row0 col15\" >/home/fabric/work/fabric_config/slice_key</td>\n",
       "    </tr>\n",
       "    <tr>\n",
       "      <td id=\"T_83935_row1_col0\" class=\"data row1 col0\" >753a6b43-e9fc-48ec-b866-09510c1a58de</td>\n",
       "      <td id=\"T_83935_row1_col1\" class=\"data row1 col1\" >meas-node</td>\n",
       "      <td id=\"T_83935_row1_col2\" class=\"data row1 col2\" >4</td>\n",
       "      <td id=\"T_83935_row1_col3\" class=\"data row1 col3\" >16</td>\n",
       "      <td id=\"T_83935_row1_col4\" class=\"data row1 col4\" >100</td>\n",
       "      <td id=\"T_83935_row1_col5\" class=\"data row1 col5\" >default_ubuntu_20</td>\n",
       "      <td id=\"T_83935_row1_col6\" class=\"data row1 col6\" >qcow2</td>\n",
       "      <td id=\"T_83935_row1_col7\" class=\"data row1 col7\" >edc-w1.fabric-testbed.net</td>\n",
       "      <td id=\"T_83935_row1_col8\" class=\"data row1 col8\" >EDC</td>\n",
       "      <td id=\"T_83935_row1_col9\" class=\"data row1 col9\" >ubuntu</td>\n",
       "      <td id=\"T_83935_row1_col10\" class=\"data row1 col10\" >2620:0:c80:1003:f816:3eff:fe38:7a81</td>\n",
       "      <td id=\"T_83935_row1_col11\" class=\"data row1 col11\" >Active</td>\n",
       "      <td id=\"T_83935_row1_col12\" class=\"data row1 col12\" ></td>\n",
       "      <td id=\"T_83935_row1_col13\" class=\"data row1 col13\" >ssh -i /home/fabric/work/fabric_config/slice_key -F /home/fabric/work/fabric_config/ssh_config ubuntu@2620:0:c80:1003:f816:3eff:fe38:7a81\"s</td>\n",
       "      <td id=\"T_83935_row1_col14\" class=\"data row1 col14\" >/home/fabric/work/fabric_config/slice_key.pub</td>\n",
       "      <td id=\"T_83935_row1_col15\" class=\"data row1 col15\" >/home/fabric/work/fabric_config/slice_key</td>\n",
       "    </tr>\n",
       "    <tr>\n",
       "      <td id=\"T_83935_row2_col0\" class=\"data row2 col0\" >3dd6ebf1-d2b5-435a-8538-b26a25389ba9</td>\n",
       "      <td id=\"T_83935_row2_col1\" class=\"data row2 col1\" >server1</td>\n",
       "      <td id=\"T_83935_row2_col2\" class=\"data row2 col2\" >4</td>\n",
       "      <td id=\"T_83935_row2_col3\" class=\"data row2 col3\" >8</td>\n",
       "      <td id=\"T_83935_row2_col4\" class=\"data row2 col4\" >100</td>\n",
       "      <td id=\"T_83935_row2_col5\" class=\"data row2 col5\" >default_ubuntu_20</td>\n",
       "      <td id=\"T_83935_row2_col6\" class=\"data row2 col6\" >qcow2</td>\n",
       "      <td id=\"T_83935_row2_col7\" class=\"data row2 col7\" >utah-w5.fabric-testbed.net</td>\n",
       "      <td id=\"T_83935_row2_col8\" class=\"data row2 col8\" >UTAH</td>\n",
       "      <td id=\"T_83935_row2_col9\" class=\"data row2 col9\" >ubuntu</td>\n",
       "      <td id=\"T_83935_row2_col10\" class=\"data row2 col10\" >2001:1948:417:7:f816:3eff:fe43:8575</td>\n",
       "      <td id=\"T_83935_row2_col11\" class=\"data row2 col11\" >Active</td>\n",
       "      <td id=\"T_83935_row2_col12\" class=\"data row2 col12\" ></td>\n",
       "      <td id=\"T_83935_row2_col13\" class=\"data row2 col13\" >ssh -i /home/fabric/work/fabric_config/slice_key -F /home/fabric/work/fabric_config/ssh_config ubuntu@2001:1948:417:7:f816:3eff:fe43:8575\"s</td>\n",
       "      <td id=\"T_83935_row2_col14\" class=\"data row2 col14\" >/home/fabric/work/fabric_config/slice_key.pub</td>\n",
       "      <td id=\"T_83935_row2_col15\" class=\"data row2 col15\" >/home/fabric/work/fabric_config/slice_key</td>\n",
       "    </tr>\n",
       "    <tr>\n",
       "      <td id=\"T_83935_row3_col0\" class=\"data row3 col0\" >232bb484-f865-4052-aeb4-a00566d70ecb</td>\n",
       "      <td id=\"T_83935_row3_col1\" class=\"data row3 col1\" >server2</td>\n",
       "      <td id=\"T_83935_row3_col2\" class=\"data row3 col2\" >4</td>\n",
       "      <td id=\"T_83935_row3_col3\" class=\"data row3 col3\" >8</td>\n",
       "      <td id=\"T_83935_row3_col4\" class=\"data row3 col4\" >100</td>\n",
       "      <td id=\"T_83935_row3_col5\" class=\"data row3 col5\" >default_ubuntu_20</td>\n",
       "      <td id=\"T_83935_row3_col6\" class=\"data row3 col6\" >qcow2</td>\n",
       "      <td id=\"T_83935_row3_col7\" class=\"data row3 col7\" >ncsa-w2.fabric-testbed.net</td>\n",
       "      <td id=\"T_83935_row3_col8\" class=\"data row3 col8\" >NCSA</td>\n",
       "      <td id=\"T_83935_row3_col9\" class=\"data row3 col9\" >ubuntu</td>\n",
       "      <td id=\"T_83935_row3_col10\" class=\"data row3 col10\" >2620:0:c80:1001:f816:3eff:fe74:90b4</td>\n",
       "      <td id=\"T_83935_row3_col11\" class=\"data row3 col11\" >Active</td>\n",
       "      <td id=\"T_83935_row3_col12\" class=\"data row3 col12\" ></td>\n",
       "      <td id=\"T_83935_row3_col13\" class=\"data row3 col13\" >ssh -i /home/fabric/work/fabric_config/slice_key -F /home/fabric/work/fabric_config/ssh_config ubuntu@2620:0:c80:1001:f816:3eff:fe74:90b4\"s</td>\n",
       "      <td id=\"T_83935_row3_col14\" class=\"data row3 col14\" >/home/fabric/work/fabric_config/slice_key.pub</td>\n",
       "      <td id=\"T_83935_row3_col15\" class=\"data row3 col15\" >/home/fabric/work/fabric_config/slice_key</td>\n",
       "    </tr>\n",
       "    <tr>\n",
       "      <td id=\"T_83935_row4_col0\" class=\"data row4 col0\" >7b8df70a-dd31-4828-ae7d-9acddcc80667</td>\n",
       "      <td id=\"T_83935_row4_col1\" class=\"data row4 col1\" >switch</td>\n",
       "      <td id=\"T_83935_row4_col2\" class=\"data row4 col2\" >32</td>\n",
       "      <td id=\"T_83935_row4_col3\" class=\"data row4 col3\" >16</td>\n",
       "      <td id=\"T_83935_row4_col4\" class=\"data row4 col4\" >100</td>\n",
       "      <td id=\"T_83935_row4_col5\" class=\"data row4 col5\" >default_ubuntu_20</td>\n",
       "      <td id=\"T_83935_row4_col6\" class=\"data row4 col6\" >qcow2</td>\n",
       "      <td id=\"T_83935_row4_col7\" class=\"data row4 col7\" >star-w2.fabric-testbed.net</td>\n",
       "      <td id=\"T_83935_row4_col8\" class=\"data row4 col8\" >STAR</td>\n",
       "      <td id=\"T_83935_row4_col9\" class=\"data row4 col9\" >ubuntu</td>\n",
       "      <td id=\"T_83935_row4_col10\" class=\"data row4 col10\" >2001:400:a100:3030:f816:3eff:fef5:4ece</td>\n",
       "      <td id=\"T_83935_row4_col11\" class=\"data row4 col11\" >Active</td>\n",
       "      <td id=\"T_83935_row4_col12\" class=\"data row4 col12\" ></td>\n",
       "      <td id=\"T_83935_row4_col13\" class=\"data row4 col13\" >ssh -i /home/fabric/work/fabric_config/slice_key -F /home/fabric/work/fabric_config/ssh_config ubuntu@2001:400:a100:3030:f816:3eff:fef5:4ece\"s</td>\n",
       "      <td id=\"T_83935_row4_col14\" class=\"data row4 col14\" >/home/fabric/work/fabric_config/slice_key.pub</td>\n",
       "      <td id=\"T_83935_row4_col15\" class=\"data row4 col15\" >/home/fabric/work/fabric_config/slice_key</td>\n",
       "    </tr>\n",
       "  </tbody>\n",
       "</table>\n"
      ],
      "text/plain": [
       "<pandas.io.formats.style.Styler at 0x7fcf9c110040>"
      ]
     },
     "metadata": {},
     "output_type": "display_data"
    },
    {
     "data": {
      "text/html": [
       "<style type=\"text/css\">\n",
       "#T_b0aaa caption {\n",
       "  text-align: center;\n",
       "  font-size: 150%;\n",
       "  caption-side: top;\n",
       "}\n",
       "#T_b0aaa th {\n",
       "  text-align: left;\n",
       "}\n",
       "#T_b0aaa tr:nth-child(even) {\n",
       "  background: #ffffff;\n",
       "  color: #231f20;\n",
       "}\n",
       "#T_b0aaa tr:nth-child(odd) {\n",
       "  background: #dbf3ff;\n",
       "  color: #231f20;\n",
       "}\n",
       "#T_b0aaa .level0 {\n",
       "  border: 1px black solid !important;\n",
       "  background: #ffffff;\n",
       "  color: #231f20;\n",
       "}\n",
       "#T_b0aaa_row0_col0, #T_b0aaa_row0_col1, #T_b0aaa_row0_col2, #T_b0aaa_row0_col3, #T_b0aaa_row0_col4, #T_b0aaa_row0_col5, #T_b0aaa_row0_col6, #T_b0aaa_row1_col0, #T_b0aaa_row1_col1, #T_b0aaa_row1_col2, #T_b0aaa_row1_col3, #T_b0aaa_row1_col4, #T_b0aaa_row1_col5, #T_b0aaa_row1_col6, #T_b0aaa_row2_col0, #T_b0aaa_row2_col1, #T_b0aaa_row2_col2, #T_b0aaa_row2_col3, #T_b0aaa_row2_col4, #T_b0aaa_row2_col5, #T_b0aaa_row2_col6, #T_b0aaa_row3_col0, #T_b0aaa_row3_col1, #T_b0aaa_row3_col2, #T_b0aaa_row3_col3, #T_b0aaa_row3_col4, #T_b0aaa_row3_col5, #T_b0aaa_row3_col6, #T_b0aaa_row4_col0, #T_b0aaa_row4_col1, #T_b0aaa_row4_col2, #T_b0aaa_row4_col3, #T_b0aaa_row4_col4, #T_b0aaa_row4_col5, #T_b0aaa_row4_col6, #T_b0aaa_row5_col0, #T_b0aaa_row5_col1, #T_b0aaa_row5_col2, #T_b0aaa_row5_col3, #T_b0aaa_row5_col4, #T_b0aaa_row5_col5, #T_b0aaa_row5_col6, #T_b0aaa_row6_col0, #T_b0aaa_row6_col1, #T_b0aaa_row6_col2, #T_b0aaa_row6_col3, #T_b0aaa_row6_col4, #T_b0aaa_row6_col5, #T_b0aaa_row6_col6, #T_b0aaa_row7_col0, #T_b0aaa_row7_col1, #T_b0aaa_row7_col2, #T_b0aaa_row7_col3, #T_b0aaa_row7_col4, #T_b0aaa_row7_col5, #T_b0aaa_row7_col6, #T_b0aaa_row8_col0, #T_b0aaa_row8_col1, #T_b0aaa_row8_col2, #T_b0aaa_row8_col3, #T_b0aaa_row8_col4, #T_b0aaa_row8_col5, #T_b0aaa_row8_col6 {\n",
       "  text-align: left;\n",
       "  border: 1px #231f20 solid !important;\n",
       "  overwrite: False;\n",
       "}\n",
       "#T_b0aaa_row0_col7, #T_b0aaa_row1_col7, #T_b0aaa_row2_col7, #T_b0aaa_row3_col7, #T_b0aaa_row4_col7, #T_b0aaa_row5_col7, #T_b0aaa_row6_col7, #T_b0aaa_row7_col7, #T_b0aaa_row8_col7 {\n",
       "  text-align: left;\n",
       "  border: 1px #231f20 solid !important;\n",
       "  overwrite: False;\n",
       "  background-color: #c3ffc4;\n",
       "}\n",
       "#T_b0aaa_row0_col8, #T_b0aaa_row1_col8, #T_b0aaa_row2_col8, #T_b0aaa_row3_col8, #T_b0aaa_row4_col8, #T_b0aaa_row5_col8, #T_b0aaa_row6_col8, #T_b0aaa_row7_col8, #T_b0aaa_row8_col8 {\n",
       "  text-align: left;\n",
       "  border: 1px #231f20 solid !important;\n",
       "  overwrite: False;\n",
       "  background-color: ;\n",
       "}\n",
       "</style>\n",
       "<table id=\"T_b0aaa\">\n",
       "  <caption>Networks</caption>\n",
       "  <thead>\n",
       "    <tr>\n",
       "      <th id=\"T_b0aaa_level0_col0\" class=\"col_heading level0 col0\" >ID</th>\n",
       "      <th id=\"T_b0aaa_level0_col1\" class=\"col_heading level0 col1\" >Name</th>\n",
       "      <th id=\"T_b0aaa_level0_col2\" class=\"col_heading level0 col2\" >Layer</th>\n",
       "      <th id=\"T_b0aaa_level0_col3\" class=\"col_heading level0 col3\" >Type</th>\n",
       "      <th id=\"T_b0aaa_level0_col4\" class=\"col_heading level0 col4\" >Site</th>\n",
       "      <th id=\"T_b0aaa_level0_col5\" class=\"col_heading level0 col5\" >Subnet</th>\n",
       "      <th id=\"T_b0aaa_level0_col6\" class=\"col_heading level0 col6\" >Gateway</th>\n",
       "      <th id=\"T_b0aaa_level0_col7\" class=\"col_heading level0 col7\" >State</th>\n",
       "      <th id=\"T_b0aaa_level0_col8\" class=\"col_heading level0 col8\" >Error</th>\n",
       "    </tr>\n",
       "  </thead>\n",
       "  <tbody>\n",
       "    <tr>\n",
       "      <td id=\"T_b0aaa_row0_col0\" class=\"data row0 col0\" >bfe50ac3-1b5a-47c2-b41d-6778d96f389f</td>\n",
       "      <td id=\"T_b0aaa_row0_col1\" class=\"data row0 col1\" >l3_meas_net_EDC</td>\n",
       "      <td id=\"T_b0aaa_row0_col2\" class=\"data row0 col2\" >L3</td>\n",
       "      <td id=\"T_b0aaa_row0_col3\" class=\"data row0 col3\" >FABNetv4</td>\n",
       "      <td id=\"T_b0aaa_row0_col4\" class=\"data row0 col4\" >EDC</td>\n",
       "      <td id=\"T_b0aaa_row0_col5\" class=\"data row0 col5\" >10.132.147.0/24</td>\n",
       "      <td id=\"T_b0aaa_row0_col6\" class=\"data row0 col6\" >10.132.147.1</td>\n",
       "      <td id=\"T_b0aaa_row0_col7\" class=\"data row0 col7\" >Active</td>\n",
       "      <td id=\"T_b0aaa_row0_col8\" class=\"data row0 col8\" ></td>\n",
       "    </tr>\n",
       "    <tr>\n",
       "      <td id=\"T_b0aaa_row1_col0\" class=\"data row1 col0\" >16692911-bb4d-41f1-b3ab-b2cd5cf3609e</td>\n",
       "      <td id=\"T_b0aaa_row1_col1\" class=\"data row1 col1\" >l3_meas_net_MICH</td>\n",
       "      <td id=\"T_b0aaa_row1_col2\" class=\"data row1 col2\" >L3</td>\n",
       "      <td id=\"T_b0aaa_row1_col3\" class=\"data row1 col3\" >FABNetv4</td>\n",
       "      <td id=\"T_b0aaa_row1_col4\" class=\"data row1 col4\" >MICH</td>\n",
       "      <td id=\"T_b0aaa_row1_col5\" class=\"data row1 col5\" >10.131.6.0/24</td>\n",
       "      <td id=\"T_b0aaa_row1_col6\" class=\"data row1 col6\" >10.131.6.1</td>\n",
       "      <td id=\"T_b0aaa_row1_col7\" class=\"data row1 col7\" >Active</td>\n",
       "      <td id=\"T_b0aaa_row1_col8\" class=\"data row1 col8\" ></td>\n",
       "    </tr>\n",
       "    <tr>\n",
       "      <td id=\"T_b0aaa_row2_col0\" class=\"data row2 col0\" >bf9bd777-cf71-4027-abe6-54276240a912</td>\n",
       "      <td id=\"T_b0aaa_row2_col1\" class=\"data row2 col1\" >l3_meas_net_NCSA</td>\n",
       "      <td id=\"T_b0aaa_row2_col2\" class=\"data row2 col2\" >L3</td>\n",
       "      <td id=\"T_b0aaa_row2_col3\" class=\"data row2 col3\" >FABNetv4</td>\n",
       "      <td id=\"T_b0aaa_row2_col4\" class=\"data row2 col4\" >NCSA</td>\n",
       "      <td id=\"T_b0aaa_row2_col5\" class=\"data row2 col5\" >10.132.146.0/24</td>\n",
       "      <td id=\"T_b0aaa_row2_col6\" class=\"data row2 col6\" >10.132.146.1</td>\n",
       "      <td id=\"T_b0aaa_row2_col7\" class=\"data row2 col7\" >Active</td>\n",
       "      <td id=\"T_b0aaa_row2_col8\" class=\"data row2 col8\" ></td>\n",
       "    </tr>\n",
       "    <tr>\n",
       "      <td id=\"T_b0aaa_row3_col0\" class=\"data row3 col0\" >dca4b8a5-ee22-45d2-84d3-865bfc4bb6f7</td>\n",
       "      <td id=\"T_b0aaa_row3_col1\" class=\"data row3 col1\" >l3_meas_net_STAR</td>\n",
       "      <td id=\"T_b0aaa_row3_col2\" class=\"data row3 col2\" >L3</td>\n",
       "      <td id=\"T_b0aaa_row3_col3\" class=\"data row3 col3\" >FABNetv4</td>\n",
       "      <td id=\"T_b0aaa_row3_col4\" class=\"data row3 col4\" >STAR</td>\n",
       "      <td id=\"T_b0aaa_row3_col5\" class=\"data row3 col5\" >10.129.135.0/24</td>\n",
       "      <td id=\"T_b0aaa_row3_col6\" class=\"data row3 col6\" >10.129.135.1</td>\n",
       "      <td id=\"T_b0aaa_row3_col7\" class=\"data row3 col7\" >Active</td>\n",
       "      <td id=\"T_b0aaa_row3_col8\" class=\"data row3 col8\" ></td>\n",
       "    </tr>\n",
       "    <tr>\n",
       "      <td id=\"T_b0aaa_row4_col0\" class=\"data row4 col0\" >96a88c19-448b-4ade-b07e-ab335ecb6b35</td>\n",
       "      <td id=\"T_b0aaa_row4_col1\" class=\"data row4 col1\" >l3_meas_net_UTAH</td>\n",
       "      <td id=\"T_b0aaa_row4_col2\" class=\"data row4 col2\" >L3</td>\n",
       "      <td id=\"T_b0aaa_row4_col3\" class=\"data row4 col3\" >FABNetv4</td>\n",
       "      <td id=\"T_b0aaa_row4_col4\" class=\"data row4 col4\" >UTAH</td>\n",
       "      <td id=\"T_b0aaa_row4_col5\" class=\"data row4 col5\" >10.132.5.0/24</td>\n",
       "      <td id=\"T_b0aaa_row4_col6\" class=\"data row4 col6\" >10.132.5.1</td>\n",
       "      <td id=\"T_b0aaa_row4_col7\" class=\"data row4 col7\" >Active</td>\n",
       "      <td id=\"T_b0aaa_row4_col8\" class=\"data row4 col8\" ></td>\n",
       "    </tr>\n",
       "    <tr>\n",
       "      <td id=\"T_b0aaa_row5_col0\" class=\"data row5 col0\" >67232fdd-f859-450c-8ad0-bce05d493505</td>\n",
       "      <td id=\"T_b0aaa_row5_col1\" class=\"data row5 col1\" >switch_client_net</td>\n",
       "      <td id=\"T_b0aaa_row5_col2\" class=\"data row5 col2\" >L2</td>\n",
       "      <td id=\"T_b0aaa_row5_col3\" class=\"data row5 col3\" >L2STS</td>\n",
       "      <td id=\"T_b0aaa_row5_col4\" class=\"data row5 col4\" >None</td>\n",
       "      <td id=\"T_b0aaa_row5_col5\" class=\"data row5 col5\" >None</td>\n",
       "      <td id=\"T_b0aaa_row5_col6\" class=\"data row5 col6\" >None</td>\n",
       "      <td id=\"T_b0aaa_row5_col7\" class=\"data row5 col7\" >Active</td>\n",
       "      <td id=\"T_b0aaa_row5_col8\" class=\"data row5 col8\" ></td>\n",
       "    </tr>\n",
       "    <tr>\n",
       "      <td id=\"T_b0aaa_row6_col0\" class=\"data row6 col0\" >197c8ecc-ffab-4445-8f4e-f93384d8a7e1</td>\n",
       "      <td id=\"T_b0aaa_row6_col1\" class=\"data row6 col1\" >switch_meas_net</td>\n",
       "      <td id=\"T_b0aaa_row6_col2\" class=\"data row6 col2\" >L2</td>\n",
       "      <td id=\"T_b0aaa_row6_col3\" class=\"data row6 col3\" >L2STS</td>\n",
       "      <td id=\"T_b0aaa_row6_col4\" class=\"data row6 col4\" >None</td>\n",
       "      <td id=\"T_b0aaa_row6_col5\" class=\"data row6 col5\" >None</td>\n",
       "      <td id=\"T_b0aaa_row6_col6\" class=\"data row6 col6\" >None</td>\n",
       "      <td id=\"T_b0aaa_row6_col7\" class=\"data row6 col7\" >Active</td>\n",
       "      <td id=\"T_b0aaa_row6_col8\" class=\"data row6 col8\" ></td>\n",
       "    </tr>\n",
       "    <tr>\n",
       "      <td id=\"T_b0aaa_row7_col0\" class=\"data row7 col0\" >09d08bf9-7c1a-4d16-aada-0175bc0c627b</td>\n",
       "      <td id=\"T_b0aaa_row7_col1\" class=\"data row7 col1\" >switch_server1_net</td>\n",
       "      <td id=\"T_b0aaa_row7_col2\" class=\"data row7 col2\" >L2</td>\n",
       "      <td id=\"T_b0aaa_row7_col3\" class=\"data row7 col3\" >L2STS</td>\n",
       "      <td id=\"T_b0aaa_row7_col4\" class=\"data row7 col4\" >None</td>\n",
       "      <td id=\"T_b0aaa_row7_col5\" class=\"data row7 col5\" >None</td>\n",
       "      <td id=\"T_b0aaa_row7_col6\" class=\"data row7 col6\" >None</td>\n",
       "      <td id=\"T_b0aaa_row7_col7\" class=\"data row7 col7\" >Active</td>\n",
       "      <td id=\"T_b0aaa_row7_col8\" class=\"data row7 col8\" ></td>\n",
       "    </tr>\n",
       "    <tr>\n",
       "      <td id=\"T_b0aaa_row8_col0\" class=\"data row8 col0\" >1cf5defb-d984-4e0d-8446-62649c422982</td>\n",
       "      <td id=\"T_b0aaa_row8_col1\" class=\"data row8 col1\" >switch_server2_net</td>\n",
       "      <td id=\"T_b0aaa_row8_col2\" class=\"data row8 col2\" >L2</td>\n",
       "      <td id=\"T_b0aaa_row8_col3\" class=\"data row8 col3\" >L2STS</td>\n",
       "      <td id=\"T_b0aaa_row8_col4\" class=\"data row8 col4\" >None</td>\n",
       "      <td id=\"T_b0aaa_row8_col5\" class=\"data row8 col5\" >None</td>\n",
       "      <td id=\"T_b0aaa_row8_col6\" class=\"data row8 col6\" >None</td>\n",
       "      <td id=\"T_b0aaa_row8_col7\" class=\"data row8 col7\" >Active</td>\n",
       "      <td id=\"T_b0aaa_row8_col8\" class=\"data row8 col8\" ></td>\n",
       "    </tr>\n",
       "  </tbody>\n",
       "</table>\n"
      ],
      "text/plain": [
       "<pandas.io.formats.style.Styler at 0x7fcfc823f100>"
      ]
     },
     "metadata": {},
     "output_type": "display_data"
    },
    {
     "data": {
      "text/html": [
       "<style type=\"text/css\">\n",
       "#T_7d6f4 caption {\n",
       "  text-align: center;\n",
       "  font-size: 150%;\n",
       "  caption-side: top;\n",
       "}\n",
       "#T_7d6f4 th {\n",
       "  text-align: left;\n",
       "}\n",
       "#T_7d6f4 tr:nth-child(even) {\n",
       "  background: #ffffff;\n",
       "  color: #231f20;\n",
       "}\n",
       "#T_7d6f4 tr:nth-child(odd) {\n",
       "  background: #dbf3ff;\n",
       "  color: #231f20;\n",
       "}\n",
       "#T_7d6f4 .level0 {\n",
       "  border: 1px black solid !important;\n",
       "  background: #ffffff;\n",
       "  color: #231f20;\n",
       "}\n",
       "#T_7d6f4_row0_col0, #T_7d6f4_row0_col1, #T_7d6f4_row0_col2, #T_7d6f4_row0_col3, #T_7d6f4_row0_col4, #T_7d6f4_row0_col5, #T_7d6f4_row0_col6, #T_7d6f4_row0_col7, #T_7d6f4_row0_col8, #T_7d6f4_row0_col9, #T_7d6f4_row0_col10, #T_7d6f4_row0_col11, #T_7d6f4_row1_col0, #T_7d6f4_row1_col1, #T_7d6f4_row1_col2, #T_7d6f4_row1_col3, #T_7d6f4_row1_col4, #T_7d6f4_row1_col5, #T_7d6f4_row1_col6, #T_7d6f4_row1_col7, #T_7d6f4_row1_col8, #T_7d6f4_row1_col9, #T_7d6f4_row1_col10, #T_7d6f4_row1_col11, #T_7d6f4_row2_col0, #T_7d6f4_row2_col1, #T_7d6f4_row2_col2, #T_7d6f4_row2_col3, #T_7d6f4_row2_col4, #T_7d6f4_row2_col5, #T_7d6f4_row2_col6, #T_7d6f4_row2_col7, #T_7d6f4_row2_col8, #T_7d6f4_row2_col9, #T_7d6f4_row2_col10, #T_7d6f4_row2_col11, #T_7d6f4_row3_col0, #T_7d6f4_row3_col1, #T_7d6f4_row3_col2, #T_7d6f4_row3_col3, #T_7d6f4_row3_col4, #T_7d6f4_row3_col5, #T_7d6f4_row3_col6, #T_7d6f4_row3_col7, #T_7d6f4_row3_col8, #T_7d6f4_row3_col9, #T_7d6f4_row3_col10, #T_7d6f4_row3_col11, #T_7d6f4_row4_col0, #T_7d6f4_row4_col1, #T_7d6f4_row4_col2, #T_7d6f4_row4_col3, #T_7d6f4_row4_col4, #T_7d6f4_row4_col5, #T_7d6f4_row4_col6, #T_7d6f4_row4_col7, #T_7d6f4_row4_col8, #T_7d6f4_row4_col9, #T_7d6f4_row4_col10, #T_7d6f4_row4_col11, #T_7d6f4_row5_col0, #T_7d6f4_row5_col1, #T_7d6f4_row5_col2, #T_7d6f4_row5_col3, #T_7d6f4_row5_col4, #T_7d6f4_row5_col5, #T_7d6f4_row5_col6, #T_7d6f4_row5_col7, #T_7d6f4_row5_col8, #T_7d6f4_row5_col9, #T_7d6f4_row5_col10, #T_7d6f4_row5_col11, #T_7d6f4_row6_col0, #T_7d6f4_row6_col1, #T_7d6f4_row6_col2, #T_7d6f4_row6_col3, #T_7d6f4_row6_col4, #T_7d6f4_row6_col5, #T_7d6f4_row6_col6, #T_7d6f4_row6_col7, #T_7d6f4_row6_col8, #T_7d6f4_row6_col9, #T_7d6f4_row6_col10, #T_7d6f4_row6_col11, #T_7d6f4_row7_col0, #T_7d6f4_row7_col1, #T_7d6f4_row7_col2, #T_7d6f4_row7_col3, #T_7d6f4_row7_col4, #T_7d6f4_row7_col5, #T_7d6f4_row7_col6, #T_7d6f4_row7_col7, #T_7d6f4_row7_col8, #T_7d6f4_row7_col9, #T_7d6f4_row7_col10, #T_7d6f4_row7_col11, #T_7d6f4_row8_col0, #T_7d6f4_row8_col1, #T_7d6f4_row8_col2, #T_7d6f4_row8_col3, #T_7d6f4_row8_col4, #T_7d6f4_row8_col5, #T_7d6f4_row8_col6, #T_7d6f4_row8_col7, #T_7d6f4_row8_col8, #T_7d6f4_row8_col9, #T_7d6f4_row8_col10, #T_7d6f4_row8_col11, #T_7d6f4_row9_col0, #T_7d6f4_row9_col1, #T_7d6f4_row9_col2, #T_7d6f4_row9_col3, #T_7d6f4_row9_col4, #T_7d6f4_row9_col5, #T_7d6f4_row9_col6, #T_7d6f4_row9_col7, #T_7d6f4_row9_col8, #T_7d6f4_row9_col9, #T_7d6f4_row9_col10, #T_7d6f4_row9_col11, #T_7d6f4_row10_col0, #T_7d6f4_row10_col1, #T_7d6f4_row10_col2, #T_7d6f4_row10_col3, #T_7d6f4_row10_col4, #T_7d6f4_row10_col5, #T_7d6f4_row10_col6, #T_7d6f4_row10_col7, #T_7d6f4_row10_col8, #T_7d6f4_row10_col9, #T_7d6f4_row10_col10, #T_7d6f4_row10_col11, #T_7d6f4_row11_col0, #T_7d6f4_row11_col1, #T_7d6f4_row11_col2, #T_7d6f4_row11_col3, #T_7d6f4_row11_col4, #T_7d6f4_row11_col5, #T_7d6f4_row11_col6, #T_7d6f4_row11_col7, #T_7d6f4_row11_col8, #T_7d6f4_row11_col9, #T_7d6f4_row11_col10, #T_7d6f4_row11_col11, #T_7d6f4_row12_col0, #T_7d6f4_row12_col1, #T_7d6f4_row12_col2, #T_7d6f4_row12_col3, #T_7d6f4_row12_col4, #T_7d6f4_row12_col5, #T_7d6f4_row12_col6, #T_7d6f4_row12_col7, #T_7d6f4_row12_col8, #T_7d6f4_row12_col9, #T_7d6f4_row12_col10, #T_7d6f4_row12_col11 {\n",
       "  text-align: left;\n",
       "  border: 1px #231f20 solid !important;\n",
       "  overwrite: False;\n",
       "}\n",
       "</style>\n",
       "<table id=\"T_7d6f4\">\n",
       "  <caption>Interfaces</caption>\n",
       "  <thead>\n",
       "    <tr>\n",
       "      <th id=\"T_7d6f4_level0_col0\" class=\"col_heading level0 col0\" >Name</th>\n",
       "      <th id=\"T_7d6f4_level0_col1\" class=\"col_heading level0 col1\" >Short Name</th>\n",
       "      <th id=\"T_7d6f4_level0_col2\" class=\"col_heading level0 col2\" >Node</th>\n",
       "      <th id=\"T_7d6f4_level0_col3\" class=\"col_heading level0 col3\" >Network</th>\n",
       "      <th id=\"T_7d6f4_level0_col4\" class=\"col_heading level0 col4\" >Bandwidth</th>\n",
       "      <th id=\"T_7d6f4_level0_col5\" class=\"col_heading level0 col5\" >Mode</th>\n",
       "      <th id=\"T_7d6f4_level0_col6\" class=\"col_heading level0 col6\" >VLAN</th>\n",
       "      <th id=\"T_7d6f4_level0_col7\" class=\"col_heading level0 col7\" >MAC</th>\n",
       "      <th id=\"T_7d6f4_level0_col8\" class=\"col_heading level0 col8\" >Physical Device</th>\n",
       "      <th id=\"T_7d6f4_level0_col9\" class=\"col_heading level0 col9\" >Device</th>\n",
       "      <th id=\"T_7d6f4_level0_col10\" class=\"col_heading level0 col10\" >IP Address</th>\n",
       "      <th id=\"T_7d6f4_level0_col11\" class=\"col_heading level0 col11\" >Numa Node</th>\n",
       "    </tr>\n",
       "  </thead>\n",
       "  <tbody>\n",
       "    <tr>\n",
       "      <td id=\"T_7d6f4_row0_col0\" class=\"data row0 col0\" >switch-client_nic-p1</td>\n",
       "      <td id=\"T_7d6f4_row0_col1\" class=\"data row0 col1\" >p1</td>\n",
       "      <td id=\"T_7d6f4_row0_col2\" class=\"data row0 col2\" >switch</td>\n",
       "      <td id=\"T_7d6f4_row0_col3\" class=\"data row0 col3\" >switch_client_net</td>\n",
       "      <td id=\"T_7d6f4_row0_col4\" class=\"data row0 col4\" >100</td>\n",
       "      <td id=\"T_7d6f4_row0_col5\" class=\"data row0 col5\" >config</td>\n",
       "      <td id=\"T_7d6f4_row0_col6\" class=\"data row0 col6\" ></td>\n",
       "      <td id=\"T_7d6f4_row0_col7\" class=\"data row0 col7\" >1A:B9:CE:DD:FF:7C</td>\n",
       "      <td id=\"T_7d6f4_row0_col8\" class=\"data row0 col8\" >enp8s0</td>\n",
       "      <td id=\"T_7d6f4_row0_col9\" class=\"data row0 col9\" >enp8s0</td>\n",
       "      <td id=\"T_7d6f4_row0_col10\" class=\"data row0 col10\" >None</td>\n",
       "      <td id=\"T_7d6f4_row0_col11\" class=\"data row0 col11\" >6</td>\n",
       "    </tr>\n",
       "    <tr>\n",
       "      <td id=\"T_7d6f4_row1_col0\" class=\"data row1 col0\" >switch-meas_nic_switch_STAR-p1</td>\n",
       "      <td id=\"T_7d6f4_row1_col1\" class=\"data row1 col1\" >p1</td>\n",
       "      <td id=\"T_7d6f4_row1_col2\" class=\"data row1 col2\" >switch</td>\n",
       "      <td id=\"T_7d6f4_row1_col3\" class=\"data row1 col3\" >l3_meas_net_STAR</td>\n",
       "      <td id=\"T_7d6f4_row1_col4\" class=\"data row1 col4\" >100</td>\n",
       "      <td id=\"T_7d6f4_row1_col5\" class=\"data row1 col5\" >config</td>\n",
       "      <td id=\"T_7d6f4_row1_col6\" class=\"data row1 col6\" ></td>\n",
       "      <td id=\"T_7d6f4_row1_col7\" class=\"data row1 col7\" >22:6B:5E:2D:15:BF</td>\n",
       "      <td id=\"T_7d6f4_row1_col8\" class=\"data row1 col8\" >enp9s0</td>\n",
       "      <td id=\"T_7d6f4_row1_col9\" class=\"data row1 col9\" >enp9s0</td>\n",
       "      <td id=\"T_7d6f4_row1_col10\" class=\"data row1 col10\" >None</td>\n",
       "      <td id=\"T_7d6f4_row1_col11\" class=\"data row1 col11\" >6</td>\n",
       "    </tr>\n",
       "    <tr>\n",
       "      <td id=\"T_7d6f4_row2_col0\" class=\"data row2 col0\" >switch-meas_nic-p1</td>\n",
       "      <td id=\"T_7d6f4_row2_col1\" class=\"data row2 col1\" >p1</td>\n",
       "      <td id=\"T_7d6f4_row2_col2\" class=\"data row2 col2\" >switch</td>\n",
       "      <td id=\"T_7d6f4_row2_col3\" class=\"data row2 col3\" >switch_meas_net</td>\n",
       "      <td id=\"T_7d6f4_row2_col4\" class=\"data row2 col4\" >100</td>\n",
       "      <td id=\"T_7d6f4_row2_col5\" class=\"data row2 col5\" >config</td>\n",
       "      <td id=\"T_7d6f4_row2_col6\" class=\"data row2 col6\" ></td>\n",
       "      <td id=\"T_7d6f4_row2_col7\" class=\"data row2 col7\" >1A:CE:5E:50:C9:8E</td>\n",
       "      <td id=\"T_7d6f4_row2_col8\" class=\"data row2 col8\" >enp11s0</td>\n",
       "      <td id=\"T_7d6f4_row2_col9\" class=\"data row2 col9\" >enp11s0</td>\n",
       "      <td id=\"T_7d6f4_row2_col10\" class=\"data row2 col10\" >None</td>\n",
       "      <td id=\"T_7d6f4_row2_col11\" class=\"data row2 col11\" >6</td>\n",
       "    </tr>\n",
       "    <tr>\n",
       "      <td id=\"T_7d6f4_row3_col0\" class=\"data row3 col0\" >switch-server1_nic-p1</td>\n",
       "      <td id=\"T_7d6f4_row3_col1\" class=\"data row3 col1\" >p1</td>\n",
       "      <td id=\"T_7d6f4_row3_col2\" class=\"data row3 col2\" >switch</td>\n",
       "      <td id=\"T_7d6f4_row3_col3\" class=\"data row3 col3\" >switch_server1_net</td>\n",
       "      <td id=\"T_7d6f4_row3_col4\" class=\"data row3 col4\" >100</td>\n",
       "      <td id=\"T_7d6f4_row3_col5\" class=\"data row3 col5\" >config</td>\n",
       "      <td id=\"T_7d6f4_row3_col6\" class=\"data row3 col6\" ></td>\n",
       "      <td id=\"T_7d6f4_row3_col7\" class=\"data row3 col7\" >1A:AC:EC:5E:AE:C8</td>\n",
       "      <td id=\"T_7d6f4_row3_col8\" class=\"data row3 col8\" >enp7s0</td>\n",
       "      <td id=\"T_7d6f4_row3_col9\" class=\"data row3 col9\" >enp7s0</td>\n",
       "      <td id=\"T_7d6f4_row3_col10\" class=\"data row3 col10\" >None</td>\n",
       "      <td id=\"T_7d6f4_row3_col11\" class=\"data row3 col11\" >6</td>\n",
       "    </tr>\n",
       "    <tr>\n",
       "      <td id=\"T_7d6f4_row4_col0\" class=\"data row4 col0\" >switch-server2_nic-p1</td>\n",
       "      <td id=\"T_7d6f4_row4_col1\" class=\"data row4 col1\" >p1</td>\n",
       "      <td id=\"T_7d6f4_row4_col2\" class=\"data row4 col2\" >switch</td>\n",
       "      <td id=\"T_7d6f4_row4_col3\" class=\"data row4 col3\" >switch_server2_net</td>\n",
       "      <td id=\"T_7d6f4_row4_col4\" class=\"data row4 col4\" >100</td>\n",
       "      <td id=\"T_7d6f4_row4_col5\" class=\"data row4 col5\" >config</td>\n",
       "      <td id=\"T_7d6f4_row4_col6\" class=\"data row4 col6\" ></td>\n",
       "      <td id=\"T_7d6f4_row4_col7\" class=\"data row4 col7\" >22:BE:32:75:80:69</td>\n",
       "      <td id=\"T_7d6f4_row4_col8\" class=\"data row4 col8\" >enp10s0</td>\n",
       "      <td id=\"T_7d6f4_row4_col9\" class=\"data row4 col9\" >enp10s0</td>\n",
       "      <td id=\"T_7d6f4_row4_col10\" class=\"data row4 col10\" >None</td>\n",
       "      <td id=\"T_7d6f4_row4_col11\" class=\"data row4 col11\" >6</td>\n",
       "    </tr>\n",
       "    <tr>\n",
       "      <td id=\"T_7d6f4_row5_col0\" class=\"data row5 col0\" >meas-node-meas_nic_meas-node_EDC-p1</td>\n",
       "      <td id=\"T_7d6f4_row5_col1\" class=\"data row5 col1\" >p1</td>\n",
       "      <td id=\"T_7d6f4_row5_col2\" class=\"data row5 col2\" >meas-node</td>\n",
       "      <td id=\"T_7d6f4_row5_col3\" class=\"data row5 col3\" >l3_meas_net_EDC</td>\n",
       "      <td id=\"T_7d6f4_row5_col4\" class=\"data row5 col4\" >100</td>\n",
       "      <td id=\"T_7d6f4_row5_col5\" class=\"data row5 col5\" >config</td>\n",
       "      <td id=\"T_7d6f4_row5_col6\" class=\"data row5 col6\" ></td>\n",
       "      <td id=\"T_7d6f4_row5_col7\" class=\"data row5 col7\" >06:A4:94:C1:58:26</td>\n",
       "      <td id=\"T_7d6f4_row5_col8\" class=\"data row5 col8\" >enp6s0</td>\n",
       "      <td id=\"T_7d6f4_row5_col9\" class=\"data row5 col9\" >enp6s0</td>\n",
       "      <td id=\"T_7d6f4_row5_col10\" class=\"data row5 col10\" >None</td>\n",
       "      <td id=\"T_7d6f4_row5_col11\" class=\"data row5 col11\" >6</td>\n",
       "    </tr>\n",
       "    <tr>\n",
       "      <td id=\"T_7d6f4_row6_col0\" class=\"data row6 col0\" >meas-node-meas_nic-p1</td>\n",
       "      <td id=\"T_7d6f4_row6_col1\" class=\"data row6 col1\" >p1</td>\n",
       "      <td id=\"T_7d6f4_row6_col2\" class=\"data row6 col2\" >meas-node</td>\n",
       "      <td id=\"T_7d6f4_row6_col3\" class=\"data row6 col3\" >switch_meas_net</td>\n",
       "      <td id=\"T_7d6f4_row6_col4\" class=\"data row6 col4\" >100</td>\n",
       "      <td id=\"T_7d6f4_row6_col5\" class=\"data row6 col5\" >config</td>\n",
       "      <td id=\"T_7d6f4_row6_col6\" class=\"data row6 col6\" ></td>\n",
       "      <td id=\"T_7d6f4_row6_col7\" class=\"data row6 col7\" >0A:EC:DF:53:B2:7E</td>\n",
       "      <td id=\"T_7d6f4_row6_col8\" class=\"data row6 col8\" >enp7s0</td>\n",
       "      <td id=\"T_7d6f4_row6_col9\" class=\"data row6 col9\" >enp7s0</td>\n",
       "      <td id=\"T_7d6f4_row6_col10\" class=\"data row6 col10\" >None</td>\n",
       "      <td id=\"T_7d6f4_row6_col11\" class=\"data row6 col11\" >6</td>\n",
       "    </tr>\n",
       "    <tr>\n",
       "      <td id=\"T_7d6f4_row7_col0\" class=\"data row7 col0\" >client-meas_nic_client_MICH-p1</td>\n",
       "      <td id=\"T_7d6f4_row7_col1\" class=\"data row7 col1\" >p1</td>\n",
       "      <td id=\"T_7d6f4_row7_col2\" class=\"data row7 col2\" >client</td>\n",
       "      <td id=\"T_7d6f4_row7_col3\" class=\"data row7 col3\" >l3_meas_net_MICH</td>\n",
       "      <td id=\"T_7d6f4_row7_col4\" class=\"data row7 col4\" >100</td>\n",
       "      <td id=\"T_7d6f4_row7_col5\" class=\"data row7 col5\" >config</td>\n",
       "      <td id=\"T_7d6f4_row7_col6\" class=\"data row7 col6\" ></td>\n",
       "      <td id=\"T_7d6f4_row7_col7\" class=\"data row7 col7\" >16:00:22:5E:58:FC</td>\n",
       "      <td id=\"T_7d6f4_row7_col8\" class=\"data row7 col8\" >enp8s0</td>\n",
       "      <td id=\"T_7d6f4_row7_col9\" class=\"data row7 col9\" >enp8s0</td>\n",
       "      <td id=\"T_7d6f4_row7_col10\" class=\"data row7 col10\" >None</td>\n",
       "      <td id=\"T_7d6f4_row7_col11\" class=\"data row7 col11\" >6</td>\n",
       "    </tr>\n",
       "    <tr>\n",
       "      <td id=\"T_7d6f4_row8_col0\" class=\"data row8 col0\" >client-None-p1</td>\n",
       "      <td id=\"T_7d6f4_row8_col1\" class=\"data row8 col1\" >p1</td>\n",
       "      <td id=\"T_7d6f4_row8_col2\" class=\"data row8 col2\" >client</td>\n",
       "      <td id=\"T_7d6f4_row8_col3\" class=\"data row8 col3\" >switch_client_net</td>\n",
       "      <td id=\"T_7d6f4_row8_col4\" class=\"data row8 col4\" >100</td>\n",
       "      <td id=\"T_7d6f4_row8_col5\" class=\"data row8 col5\" >config</td>\n",
       "      <td id=\"T_7d6f4_row8_col6\" class=\"data row8 col6\" ></td>\n",
       "      <td id=\"T_7d6f4_row8_col7\" class=\"data row8 col7\" >0E:06:73:C1:D9:AE</td>\n",
       "      <td id=\"T_7d6f4_row8_col8\" class=\"data row8 col8\" >enp7s0</td>\n",
       "      <td id=\"T_7d6f4_row8_col9\" class=\"data row8 col9\" >enp7s0</td>\n",
       "      <td id=\"T_7d6f4_row8_col10\" class=\"data row8 col10\" >None</td>\n",
       "      <td id=\"T_7d6f4_row8_col11\" class=\"data row8 col11\" >6</td>\n",
       "    </tr>\n",
       "    <tr>\n",
       "      <td id=\"T_7d6f4_row9_col0\" class=\"data row9 col0\" >server1-meas_nic_server1_UTAH-p1</td>\n",
       "      <td id=\"T_7d6f4_row9_col1\" class=\"data row9 col1\" >p1</td>\n",
       "      <td id=\"T_7d6f4_row9_col2\" class=\"data row9 col2\" >server1</td>\n",
       "      <td id=\"T_7d6f4_row9_col3\" class=\"data row9 col3\" >l3_meas_net_UTAH</td>\n",
       "      <td id=\"T_7d6f4_row9_col4\" class=\"data row9 col4\" >100</td>\n",
       "      <td id=\"T_7d6f4_row9_col5\" class=\"data row9 col5\" >config</td>\n",
       "      <td id=\"T_7d6f4_row9_col6\" class=\"data row9 col6\" ></td>\n",
       "      <td id=\"T_7d6f4_row9_col7\" class=\"data row9 col7\" >0A:5C:5D:3E:8D:5D</td>\n",
       "      <td id=\"T_7d6f4_row9_col8\" class=\"data row9 col8\" >enp7s0</td>\n",
       "      <td id=\"T_7d6f4_row9_col9\" class=\"data row9 col9\" >enp7s0</td>\n",
       "      <td id=\"T_7d6f4_row9_col10\" class=\"data row9 col10\" >None</td>\n",
       "      <td id=\"T_7d6f4_row9_col11\" class=\"data row9 col11\" >4</td>\n",
       "    </tr>\n",
       "    <tr>\n",
       "      <td id=\"T_7d6f4_row10_col0\" class=\"data row10 col0\" >server1-None-p1</td>\n",
       "      <td id=\"T_7d6f4_row10_col1\" class=\"data row10 col1\" >p1</td>\n",
       "      <td id=\"T_7d6f4_row10_col2\" class=\"data row10 col2\" >server1</td>\n",
       "      <td id=\"T_7d6f4_row10_col3\" class=\"data row10 col3\" >switch_server1_net</td>\n",
       "      <td id=\"T_7d6f4_row10_col4\" class=\"data row10 col4\" >100</td>\n",
       "      <td id=\"T_7d6f4_row10_col5\" class=\"data row10 col5\" >config</td>\n",
       "      <td id=\"T_7d6f4_row10_col6\" class=\"data row10 col6\" ></td>\n",
       "      <td id=\"T_7d6f4_row10_col7\" class=\"data row10 col7\" >0A:5E:97:F8:FA:F6</td>\n",
       "      <td id=\"T_7d6f4_row10_col8\" class=\"data row10 col8\" >enp8s0</td>\n",
       "      <td id=\"T_7d6f4_row10_col9\" class=\"data row10 col9\" >enp8s0</td>\n",
       "      <td id=\"T_7d6f4_row10_col10\" class=\"data row10 col10\" >None</td>\n",
       "      <td id=\"T_7d6f4_row10_col11\" class=\"data row10 col11\" >4</td>\n",
       "    </tr>\n",
       "    <tr>\n",
       "      <td id=\"T_7d6f4_row11_col0\" class=\"data row11 col0\" >server2-None-p1</td>\n",
       "      <td id=\"T_7d6f4_row11_col1\" class=\"data row11 col1\" >p1</td>\n",
       "      <td id=\"T_7d6f4_row11_col2\" class=\"data row11 col2\" >server2</td>\n",
       "      <td id=\"T_7d6f4_row11_col3\" class=\"data row11 col3\" >switch_server2_net</td>\n",
       "      <td id=\"T_7d6f4_row11_col4\" class=\"data row11 col4\" >100</td>\n",
       "      <td id=\"T_7d6f4_row11_col5\" class=\"data row11 col5\" >config</td>\n",
       "      <td id=\"T_7d6f4_row11_col6\" class=\"data row11 col6\" ></td>\n",
       "      <td id=\"T_7d6f4_row11_col7\" class=\"data row11 col7\" >36:4E:AB:61:AD:80</td>\n",
       "      <td id=\"T_7d6f4_row11_col8\" class=\"data row11 col8\" >enp8s0</td>\n",
       "      <td id=\"T_7d6f4_row11_col9\" class=\"data row11 col9\" >enp8s0</td>\n",
       "      <td id=\"T_7d6f4_row11_col10\" class=\"data row11 col10\" >None</td>\n",
       "      <td id=\"T_7d6f4_row11_col11\" class=\"data row11 col11\" >4</td>\n",
       "    </tr>\n",
       "    <tr>\n",
       "      <td id=\"T_7d6f4_row12_col0\" class=\"data row12 col0\" >server2-meas_nic_server2_NCSA-p1</td>\n",
       "      <td id=\"T_7d6f4_row12_col1\" class=\"data row12 col1\" >p1</td>\n",
       "      <td id=\"T_7d6f4_row12_col2\" class=\"data row12 col2\" >server2</td>\n",
       "      <td id=\"T_7d6f4_row12_col3\" class=\"data row12 col3\" >l3_meas_net_NCSA</td>\n",
       "      <td id=\"T_7d6f4_row12_col4\" class=\"data row12 col4\" >100</td>\n",
       "      <td id=\"T_7d6f4_row12_col5\" class=\"data row12 col5\" >config</td>\n",
       "      <td id=\"T_7d6f4_row12_col6\" class=\"data row12 col6\" ></td>\n",
       "      <td id=\"T_7d6f4_row12_col7\" class=\"data row12 col7\" >06:B2:13:48:79:92</td>\n",
       "      <td id=\"T_7d6f4_row12_col8\" class=\"data row12 col8\" >enp7s0</td>\n",
       "      <td id=\"T_7d6f4_row12_col9\" class=\"data row12 col9\" >enp7s0</td>\n",
       "      <td id=\"T_7d6f4_row12_col10\" class=\"data row12 col10\" >None</td>\n",
       "      <td id=\"T_7d6f4_row12_col11\" class=\"data row12 col11\" >4</td>\n",
       "    </tr>\n",
       "  </tbody>\n",
       "</table>\n"
      ],
      "text/plain": [
       "<pandas.io.formats.style.Styler at 0x7fcf9c3729e0>"
      ]
     },
     "metadata": {},
     "output_type": "display_data"
    },
    {
     "name": "stdout",
     "output_type": "stream",
     "text": [
      "\n",
      "Time to print interfaces 373 seconds\n"
     ]
    },
    {
     "data": {
      "text/plain": [
       "'9465d01f-d56a-44d4-bd36-66e5f7565a1a'"
      ]
     },
     "execution_count": 39,
     "metadata": {},
     "output_type": "execute_result"
    }
   ],
   "source": [
    "slice.submit()"
   ]
  },
  {
   "cell_type": "markdown",
   "id": "35d4ba81-9f82-4a65-a500-58b93c8e7b9f",
   "metadata": {},
   "source": [
    "## EXECUTE BELOW FOR QUILY ACCESSING NODES"
   ]
  },
  {
   "cell_type": "code",
   "execution_count": 5,
   "id": "b3dda952-314d-43e7-b73f-a528b2ff500f",
   "metadata": {},
   "outputs": [],
   "source": [
    "client = slice.get_node(name=\"client\")\n",
    "server1 = slice.get_node(name=\"server1\")\n",
    "switch = slice.get_node(name=\"switch\")\n",
    "server2 = slice.get_node(name=\"server2\")\n",
    "meas_node = slice.get_node(name= \"meas-node\")"
   ]
  },
  {
   "cell_type": "code",
   "execution_count": 6,
   "id": "a8edd7cf-d656-4e51-bbeb-15322674d83a",
   "metadata": {},
   "outputs": [
    {
     "name": "stdout",
     "output_type": "stream",
     "text": [
      "client_iface_name: enp7s0\n",
      "switch_client_iface_name: enp8s0\n",
      "switch_s1_iface_name: enp7s0\n",
      "switch_s2_iface_name: enp10s0\n",
      "switch_meas_iface_name: enp11s0\n",
      "server1_iface_name: enp8s0\n",
      "server2_iface_name: enp8s0\n",
      "meas_iface_name: enp7s0\n"
     ]
    }
   ],
   "source": [
    "client_iface = client.get_interface(network_name='switch_client_net') \n",
    "client_iface_name = client_iface.get_device_name()\n",
    "print(f'client_iface_name: {client_iface_name}')\n",
    "\n",
    "switch_client_iface = switch.get_interface(network_name='switch_client_net') \n",
    "switch_client_iface_name = switch_client_iface.get_device_name()\n",
    "print(f'switch_client_iface_name: {switch_client_iface_name}')\n",
    "\n",
    "switch_s1_iface = switch.get_interface(network_name='switch_server1_net') \n",
    "switch_s1_iface_name = switch_s1_iface.get_device_name()\n",
    "print(f'switch_s1_iface_name: {switch_s1_iface_name}')\n",
    "\n",
    "switch_s2_iface = switch.get_interface(network_name='switch_server2_net') \n",
    "switch_s2_iface_name = switch_s2_iface.get_device_name()\n",
    "print(f'switch_s2_iface_name: {switch_s2_iface_name}')\n",
    "\n",
    "\n",
    "switch_meas_iface = switch.get_interface(network_name='switch_meas_net') \n",
    "switch_meas_iface_name = switch_meas_iface.get_device_name()\n",
    "print(f'switch_meas_iface_name: {switch_meas_iface_name}')\n",
    "\n",
    "server1_iface = server1.get_interface(network_name='switch_server1_net') \n",
    "server1_iface_name = server1_iface.get_device_name()\n",
    "print(f'server1_iface_name: {server1_iface_name}')\n",
    "\n",
    "server2_iface = server2.get_interface(network_name='switch_server2_net') \n",
    "server2_iface_name = server2_iface.get_device_name()\n",
    "print(f'server2_iface_name: {server2_iface_name}')\n",
    "\n",
    "meas_iface = meas_node.get_interface(network_name='switch_meas_net') \n",
    "meas_iface_name = meas_iface.get_device_name()\n",
    "print(f'meas_iface_name: {meas_iface_name}')"
   ]
  },
  {
   "cell_type": "code",
   "execution_count": 10,
   "id": "d79132b4-9617-4ad2-b76f-178c6f4c1389",
   "metadata": {},
   "outputs": [],
   "source": [
    "### turning all the ifaces up\n",
    "\n",
    "stdout, stderr = client.execute(f'sudo ip link set dev {client_iface_name} up', quiet=True)\n",
    "stdout, stderr = switch.execute(f'sudo ip link set dev {switch_client_iface_name} up', quiet=True)\n",
    "stdout, stderr = switch.execute(f'sudo ip link set dev {switch_s1_iface_name} up', quiet=True)\n",
    "stdout, stderr = switch.execute(f'sudo ip link set dev {switch_s2_iface_name} up', quiet=True)\n",
    "stdout, stderr = switch.execute(f'sudo ip link set dev {switch_meas_iface_name} up', quiet=True)\n",
    "stdout, stderr = server1.execute(f'sudo ip link set dev {server1_iface_name} up', quiet=True)\n",
    "stdout, stderr = server2.execute(f'sudo ip link set dev {server2_iface_name} up', quiet=True)\n",
    "stdout, stderr = meas_node.execute(f'sudo ip link set dev {meas_iface_name} up', quiet=True)"
   ]
  },
  {
   "cell_type": "code",
   "execution_count": 11,
   "id": "48e3d971-2be4-4fdd-b979-9e4528ed341f",
   "metadata": {},
   "outputs": [],
   "source": [
    "client_iface_MAC = '00:00:00:00:00:01'\n",
    "switch_client_iface_MAC = '00:00:00:00:00:02'\n",
    "switch_s1_iface_MAC = '00:00:00:00:00:03'\n",
    "server1_iface_MAC = '00:00:00:00:00:04'\n",
    "switch_s2_iface_MAC = '00:00:00:00:00:05'\n",
    "server2_iface_MAC = '00:00:00:00:00:06'\n",
    "meas_iface_MAC = '00:00:00:00:00:07'\n",
    "switch_meas_iface_MAC = '00:00:00:00:00:08'\n"
   ]
  },
  {
   "cell_type": "code",
   "execution_count": 15,
   "id": "0768b96a-2442-4bfe-94fa-47ab8f5d1a46",
   "metadata": {},
   "outputs": [],
   "source": [
    "\n",
    "## configuring ip and mac b/w client_iface and switch_iface1\n",
    "\n",
    "client_switch_subnet = \"192.168.1.0/24\"\n",
    "client_iface_ip = '192.168.1.10/24'\n",
    "switch_client_iface_ip = '192.168.1.1/24'\n",
    "\n",
    "stdout, stderr = client.execute(f'sudo ifconfig {client_iface_name} {client_iface_ip}')\n",
    "stdout, stderr = switch.execute(f'sudo ifconfig {switch_client_iface_name} {switch_client_iface_ip}')\n",
    "\n",
    "stdout, stderr = client.execute(f'sudo ifconfig {client_iface_name} hw ether {client_iface_MAC}')\n",
    "stdout, stderr = switch.execute(f'sudo ifconfig {switch_client_iface_name} hw ether {switch_client_iface_MAC}')"
   ]
  },
  {
   "cell_type": "code",
   "execution_count": 16,
   "id": "5a7586a4-e34a-482b-90b5-4d50310ab05d",
   "metadata": {},
   "outputs": [],
   "source": [
    "\n",
    "## configuring ip and mac b/w server1_iface and switch_s1_iface\n",
    "\n",
    "server1_switch_subnet = \"192.168.2.0/24\"\n",
    "server1_iface_ip = '192.168.2.10/24'\n",
    "switch_s1_iface_ip = '192.168.2.1/24'\n",
    "\n",
    "stdout, stderr = server1.execute(f'sudo ifconfig {server1_iface_name} {server1_iface_ip}')\n",
    "stdout, stderr = switch.execute(f'sudo ifconfig {switch_s1_iface_name} {switch_s1_iface_ip}')\n",
    "\n",
    "stdout, stderr = server1.execute(f'sudo ifconfig {server1_iface_name} hw ether {server1_iface_MAC}')\n",
    "stdout, stderr = switch.execute(f'sudo ifconfig {switch_s1_iface_name} hw ether {switch_s1_iface_MAC}')"
   ]
  },
  {
   "cell_type": "code",
   "execution_count": 17,
   "id": "c4813f0a-ee74-47eb-b986-b5343c5924f8",
   "metadata": {},
   "outputs": [],
   "source": [
    "\n",
    "## configuring ip and mac b/w server2_iface and switch_s2_iface\n",
    "\n",
    "server2_switch_subnet = \"192.168.3.0/24\"\n",
    "server2_iface_ip = '192.168.3.10/24'\n",
    "switch_s2_iface_ip = '192.168.3.1/24'\n",
    "\n",
    "stdout, stderr = server2.execute(f'sudo ifconfig {server2_iface_name} {server2_iface_ip}')\n",
    "stdout, stderr = switch.execute(f'sudo ifconfig {switch_s2_iface_name} {switch_s2_iface_ip}')\n",
    "\n",
    "stdout, stderr = server2.execute(f'sudo ifconfig {server2_iface_name} hw ether {server2_iface_MAC}')\n",
    "stdout, stderr = switch.execute(f'sudo ifconfig {switch_s2_iface_name} hw ether {switch_s2_iface_MAC}')"
   ]
  },
  {
   "cell_type": "code",
   "execution_count": 18,
   "id": "75e2f0a4-f176-4ccd-a27a-b78bcbe40899",
   "metadata": {},
   "outputs": [],
   "source": [
    "\n",
    "## configuring ip and mac b/w meas_iface and switch_meas_iface\n",
    "\n",
    "meas_switch_subnet = \"192.168.4.0/24\"\n",
    "meas_iface_ip = '192.168.4.10/24'\n",
    "switch_meas_iface_ip = '192.168.4.1/24'\n",
    "\n",
    "stdout, stderr = meas_node.execute(f'sudo ifconfig {meas_iface_name} {meas_iface_ip}')\n",
    "stdout, stderr = switch.execute(f'sudo ifconfig {switch_meas_iface_name} {switch_meas_iface_ip}')\n",
    "\n",
    "stdout, stderr = meas_node.execute(f'sudo ifconfig {meas_iface_name} hw ether {meas_iface_MAC}')\n",
    "stdout, stderr = switch.execute(f'sudo ifconfig {switch_meas_iface_name} hw ether {switch_meas_iface_MAC}')"
   ]
  },
  {
   "cell_type": "code",
   "execution_count": 19,
   "id": "d5708342-d957-401f-9a2f-43fa5f67d793",
   "metadata": {},
   "outputs": [],
   "source": [
    "\n",
    "## enable ip forwarding on switch\n",
    "command = 'sudo sysctl -w net.ipv4.ip_forward=1' \n",
    "stdout, stderr = switch.execute(command, quiet=True)"
   ]
  },
  {
   "cell_type": "code",
   "execution_count": 20,
   "id": "5d1319c3-0a8b-4513-bcd1-b7591cce7b86",
   "metadata": {},
   "outputs": [],
   "source": [
    "## In this step, we are deleting the routes on the switch's routing table in Linux. By deleting the routes, the packets will go through the BMv2 switch instead of being forwarded by the kernel\n",
    "\n",
    "stdout, stderr = switch.execute(f'sudo ip route del {client_switch_subnet}', quiet=True)\n",
    "stdout, stderr = switch.execute(f'sudo ip route del {server1_switch_subnet}', quiet=True)\n",
    "stdout, stderr = switch.execute(f'sudo ip route del {server2_switch_subnet}', quiet=True)\n",
    "\n",
    "# dont delete this route for meas_node"
   ]
  },
  {
   "cell_type": "code",
   "execution_count": 21,
   "id": "cc7c72e0-bf2a-4079-9ebc-947cea39894d",
   "metadata": {},
   "outputs": [
    {
     "name": "stdout",
     "output_type": "stream",
     "text": [
      "192.168.1.1\n",
      "192.168.2.1\n",
      "192.168.3.1\n"
     ]
    }
   ],
   "source": [
    "### configure static routing\n",
    "\n",
    "\n",
    "switch_client_gw = switch_client_iface_ip.split('/')[0]\n",
    "switch_s1_gw = switch_s1_iface_ip.split('/')[0]\n",
    "switch_s2_gw = switch_s2_iface_ip.split('/')[0]\n",
    "\n",
    "print(switch_client_gw)\n",
    "print(switch_s1_gw)\n",
    "print(switch_s2_gw)\n",
    "\n",
    "\n"
   ]
  },
  {
   "cell_type": "code",
   "execution_count": 22,
   "id": "8e0be89d-74dd-494c-82ec-a6799b26e5c7",
   "metadata": {},
   "outputs": [],
   "source": [
    "stdout, stderr = client.execute(f'sudo ip route add {server2_switch_subnet} via {switch_client_gw}')\n",
    "stdout, stderr = client.execute(f'sudo ip route add {server1_switch_subnet} via {switch_client_gw}')\n",
    "\n",
    "stdout, stderr = server1.execute(f'sudo ip route add {client_switch_subnet} via {switch_s1_gw}')\n",
    "stdout, stderr = server2.execute(f'sudo ip route add {client_switch_subnet} via {switch_s2_gw}')"
   ]
  },
  {
   "cell_type": "code",
   "execution_count": 23,
   "id": "ef8c196e-2ca3-44da-b956-bd3d3b119f67",
   "metadata": {},
   "outputs": [],
   "source": [
    "### hardcoding arp so that these packets are not sent from the nodes to the bmv switch\n",
    "stdout, stderr = client.execute(f'sudo arp -s {switch_client_gw} {switch_client_iface_MAC}')\n",
    "stdout, stderr = server1.execute(f'sudo arp -s {switch_s1_gw} {switch_s1_iface_MAC}')\n",
    "stdout, stderr = server2.execute(f'sudo arp -s {switch_s2_gw} {switch_s2_iface_MAC}')"
   ]
  },
  {
   "cell_type": "code",
   "execution_count": null,
   "id": "8d1b8caf-3426-4dfa-92cf-c6ff218d9a38",
   "metadata": {},
   "outputs": [],
   "source": [
    "#stdout, stderr = switch.execute(f'chmod +x install_bmv2.sh &&  ./install_bmv2.sh',quiet=True)"
   ]
  },
  {
   "cell_type": "code",
   "execution_count": 25,
   "id": "e08d6c11-4c9e-4684-a7a8-e6ef38f892f2",
   "metadata": {},
   "outputs": [],
   "source": [
    "stdout, stderr = client.execute(f'sudo apt-get update && sudo apt-get install -y python3-scapy', quiet=True)"
   ]
  },
  {
   "cell_type": "code",
   "execution_count": 26,
   "id": "29a18438-f9c3-4589-b26b-2bc72bf628e6",
   "metadata": {},
   "outputs": [
    {
     "data": {
      "text/plain": [
       "<SFTPAttributes: [ size=1061 uid=1000 gid=1000 mode=0o100664 atime=1713751449 mtime=1713751449 ]>"
      ]
     },
     "execution_count": 26,
     "metadata": {},
     "output_type": "execute_result"
    }
   ],
   "source": [
    "server1.upload_file('cpu_intensive_task.py', 'cpu_intensive_task.py')\n",
    "server2.upload_file('cpu_intensive_task.py', 'cpu_intensive_task.py')"
   ]
  },
  {
   "cell_type": "code",
   "execution_count": 8,
   "id": "8286d3ab-c8ab-427c-9e83-8d24e2628d27",
   "metadata": {},
   "outputs": [],
   "source": [
    "stdout, stderr = client.execute(f'sudo apt-get update && sudo apt install apache2-utils -y', quiet=True)\n",
    "stdout, stderr1 = server1.execute(f\"sudo apt update && sudo apt install python3 python3-pip -y\", quiet=True)\n",
    "stdout, stderr1 = server2.execute(f\"sudo apt update && sudo apt install python3 python3-pip -y\", quiet=True)\n",
    "stdout, stderr1 = switch.execute(f\"sudo apt update && sudo apt install python3 python3-pip -y\", quiet=True)\n",
    "stdout, stderr1 = server1.execute(f\"sudo apt update && yes | sudo pip3 install flask asyncio 'flask[async]'\", quiet=True)\n",
    "stdout, stderr2 = server2.execute(f\"sudo apt update && yes | sudo pip3 install flask asyncio 'flask[async]'\", quiet=True)\n",
    "stdout, stderr2 = switch.execute(f\"sudo apt update && yes | pip3 install flask\", quiet=True)\n",
    "\n"
   ]
  },
  {
   "cell_type": "code",
   "execution_count": 10,
   "id": "bb5242c3-c8c8-455d-8a17-b749f4f09eba",
   "metadata": {},
   "outputs": [],
   "source": [
    "switch.upload_file('install_bmv2.sh', 'install_bmv2.sh')\n",
    "stdout, stderr = switch.execute(f'chmod +x install_bmv2.sh &&  ./install_bmv2.sh',quiet=True)"
   ]
  },
  {
   "cell_type": "code",
   "execution_count": 25,
   "id": "b58c293b-0751-474c-b3e4-3a240bde0a82",
   "metadata": {},
   "outputs": [
    {
     "name": "stdout",
     "output_type": "stream",
     "text": [
      "\u001b[31m gzip: simple_switch_hp already exists;\tnot overwritten\n",
      " \u001b[0msudo /home/ubuntu/simple_switch_hp -i 0@enp8s0 -i 1@enp7s0 -i 2@enp10s0 main.json &\n"
     ]
    }
   ],
   "source": [
    "### high performance switching\n",
    "switch.upload_file('scripts/simple_switch_hp.gz', '/home/ubuntu/simple_switch_hp.gz')\n",
    "switch.execute('gzip -d simple_switch_hp.gz')\n",
    "switch.execute('chmod +x /home/ubuntu/simple_switch_hp')\n",
    "stdout, stderr = switch.execute(f'sudo pkill switch')\n",
    "switch.upload_file('tcp-checksum-port-mapping.p4', 'main.p4')\n",
    "\n",
    "switch.upload_file('scripts/disable_offload.sh', 'disable_offload.sh')\n",
    "stdout, stderr = switch.execute(f'sudo chmod +x ./disable_offload.sh && sudo ./disable_offload.sh {switch_client_iface_name}', quiet=True)\n",
    "stdout, stderr = switch.execute(f'sudo chmod +x ./disable_offload.sh && sudo ./disable_offload.sh {switch_s1_iface_name}', quiet=True)\n",
    "stdout, stderr = switch.execute(f'sudo chmod +x ./disable_offload.sh && sudo ./disable_offload.sh {switch_s2_iface_name}', quiet=True)\n",
    "### run the hp switch\n",
    "print(f'sudo /home/ubuntu/simple_switch_hp -i 0@{switch_client_iface_name} -i 1@{switch_s1_iface_name} -i 2@{switch_s2_iface_name} main.json &')"
   ]
  },
  {
   "cell_type": "code",
   "execution_count": 26,
   "id": "98a0059e-4f15-4894-a7ad-c5b3bd38e7b3",
   "metadata": {},
   "outputs": [
    {
     "name": "stdout",
     "output_type": "stream",
     "text": [
      "Obtaining JSON from switch...\n",
      "Done\n",
      "Control utility for runtime P4 table manipulation\n",
      "RuntimeCmd: Adding entry to exact match table MyIngress.forward_nat\n",
      "match key:           EXACT-00\tEXACT-00:00:00:00\tEXACT-00:00\n",
      "action:              MyIngress.send_to_server\n",
      "runtime data:        00:00:00:00:00:03\t00:00:00:00:00:04\tc0:a8:02:0a\t00:01\t00:50\n",
      "Entry has been added with handle 0\n",
      "RuntimeCmd: \n",
      "Obtaining JSON from switch...\n",
      "Done\n",
      "Control utility for runtime P4 table manipulation\n",
      "RuntimeCmd: Adding entry to exact match table MyIngress.forward_nat\n",
      "match key:           EXACT-01\tEXACT-00:00:00:00\tEXACT-00:00\n",
      "action:              MyIngress.send_to_server\n",
      "runtime data:        00:00:00:00:00:03\t00:00:00:00:00:04\tc0:a8:02:0a\t00:01\t00:50\n",
      "Entry has been added with handle 1\n",
      "RuntimeCmd: \n",
      "Obtaining JSON from switch...\n",
      "Done\n",
      "Control utility for runtime P4 table manipulation\n",
      "RuntimeCmd: Adding entry to exact match table MyIngress.forward_nat\n",
      "match key:           EXACT-01\tEXACT-00:00:00:01\tEXACT-00:00\n",
      "action:              MyIngress.send_to_server\n",
      "runtime data:        00:00:00:00:00:05\t00:00:00:00:00:06\tc0:a8:03:0a\t00:02\t00:50\n",
      "Entry has been added with handle 2\n",
      "RuntimeCmd: \n",
      "Obtaining JSON from switch...\n",
      "Done\n",
      "Control utility for runtime P4 table manipulation\n",
      "RuntimeCmd: Adding entry to exact match table MyIngress.reverse_nat\n",
      "match key:           EXACT-00:01\tEXACT-00:50\n",
      "action:              MyIngress.send_to_client\n",
      "runtime data:        00:00:00:00:00:02\t00:00:00:00:00:01\tc0:a8:01:01\t00:00\n",
      "Entry has been added with handle 0\n",
      "RuntimeCmd: \n",
      "Obtaining JSON from switch...\n",
      "Done\n",
      "Control utility for runtime P4 table manipulation\n",
      "RuntimeCmd: Adding entry to exact match table MyIngress.reverse_nat\n",
      "match key:           EXACT-00:02\tEXACT-00:50\n",
      "action:              MyIngress.send_to_client\n",
      "runtime data:        00:00:00:00:00:02\t00:00:00:00:00:01\tc0:a8:01:01\t00:00\n",
      "Entry has been added with handle 1\n",
      "RuntimeCmd: \n"
     ]
    }
   ],
   "source": [
    "#upload match action rules directly from the rules file\n",
    "switch.upload_file('tcp-checksum-latest-rules.sh', 'tcp-checksum-latest-rules.sh')\n",
    "stdout, stderr = switch.execute('chmod +x tcp-checksum-latest-rules.sh && ./tcp-checksum-latest-rules.sh')\n"
   ]
  },
  {
   "cell_type": "markdown",
   "id": "b3db9665-6769-46d1-9c79-308fd545e560",
   "metadata": {},
   "source": [
    "### change register state to 0\n"
   ]
  },
  {
   "cell_type": "code",
   "execution_count": null,
   "id": "8c0607e1-aa8f-40ca-9465-5359d9e1587a",
   "metadata": {},
   "outputs": [],
   "source": [
    "\n",
    "switch.upload_file('register-modify-state0.sh', 'register-modify-state0.sh')\n",
    "stdout, stderr = switch.execute('chmod +x register-modify-state0.sh && ./register-modify-state0.sh')\n"
   ]
  },
  {
   "cell_type": "markdown",
   "id": "b15a67d2-bd5d-4416-bc01-2ad4b068a395",
   "metadata": {
    "tags": []
   },
   "source": [
    "### change register state to 1"
   ]
  },
  {
   "cell_type": "code",
   "execution_count": 25,
   "id": "07650342-0462-487c-995d-b6d205096533",
   "metadata": {},
   "outputs": [
    {
     "name": "stdout",
     "output_type": "stream",
     "text": [
      "Obtaining JSON from switch...\n",
      "Done\n",
      "Control utility for runtime P4 table manipulation\n",
      "RuntimeCmd: RuntimeCmd: \n"
     ]
    }
   ],
   "source": [
    "\n",
    "switch.upload_file('register-modify-state1.sh', 'register-modify-state1.sh')\n",
    "stdout, stderr = switch.execute('chmod +x register-modify-state1.sh && ./register-modify-state1.sh')\n"
   ]
  },
  {
   "cell_type": "code",
   "execution_count": null,
   "id": "bb60a502-8a31-49da-b551-28911eb69bfc",
   "metadata": {},
   "outputs": [],
   "source": [
    "server1.upload_file('cpu_intensive_task.py', 'cpu_intensive_task.py')\n",
    "server2.upload_file('cpu_intensive_task.py', 'cpu_intensive_task.py')"
   ]
  },
  {
   "cell_type": "code",
   "execution_count": null,
   "id": "0d287874-0477-4ce9-95b1-de4bf3919b26",
   "metadata": {},
   "outputs": [],
   "source": []
  },
  {
   "cell_type": "markdown",
   "id": "3c185eed-9386-457d-8c86-26a8cb68a3c7",
   "metadata": {},
   "source": [
    "### high perfm switching and disable tcp offloading"
   ]
  },
  {
   "cell_type": "markdown",
   "id": "3d8061a8-5268-453d-bd1e-12b16d18e6dc",
   "metadata": {},
   "source": [
    "### we now start setting up of the mflib on the nodes\n"
   ]
  },
  {
   "cell_type": "code",
   "execution_count": 21,
   "id": "e21cc7cf-5cf6-465f-9cab-cd3672caa18d",
   "metadata": {},
   "outputs": [
    {
     "name": "stdout",
     "output_type": "stream",
     "text": [
      "MFLib version  1.0.4 \n"
     ]
    }
   ],
   "source": [
    "# Check version\n",
    "import mflib \n",
    "print(f\"MFLib version  {mflib.__version__} \" )\n",
    "\n",
    "# Import MFLib Class\n",
    "from mflib.mflib import MFLib"
   ]
  },
  {
   "cell_type": "code",
   "execution_count": 22,
   "id": "ccefd206-d712-42c5-9535-876c1c9745f8",
   "metadata": {},
   "outputs": [
    {
     "name": "stdout",
     "output_type": "stream",
     "text": [
      "Inititializing slice \"kalhan-cse-534-nat-2-servers-minimal-servers\" for MeasurementFramework.\n",
      "Found meas node as meas-node at 2620:0:c80:1003:f816:3eff:fe38:7a81\n",
      "Bootstrap status indicates Slice Measurement Framework is ready.\n",
      "Instrumentizing slice \"kalhan-cse-534-nat-2-servers-minimal-servers\"\n",
      "   Setting up Prometheus...\n",
      "   Setting up Prometheus done.\n",
      "   Setting up grafana_manager & dashboards...\n",
      "   Setting up grafana_manager & dashboards done.\n",
      "Instrumentize Process Complete.\n",
      "CPU times: user 2.47 s, sys: 66.3 ms, total: 2.53 s\n",
      "Wall time: 1min\n"
     ]
    }
   ],
   "source": [
    "%%time\n",
    "mf = MFLib(slice_name)\n",
    "instrumetize_results = mf.instrumentize( [\"prometheus\"] )"
   ]
  },
  {
   "cell_type": "code",
   "execution_count": 23,
   "id": "9d1a2360-9eea-4e33-b3f3-5e80e43da490",
   "metadata": {},
   "outputs": [
    {
     "name": "stdout",
     "output_type": "stream",
     "text": [
      "ssh -L 10010:localhost:443 -F ssh_config -i slice_key ubuntu@2620:0:c80:1003:f816:3eff:fe38:7a81\n",
      "Browse to https://localhost:10010/grafana/dashboards?query=%2A\n"
     ]
    }
   ],
   "source": [
    "# Grafana SSH Tunnel Command\n",
    "# mf.grafana_tunnel_local_port = 10010 # optionally change the port\n",
    "print(mf.grafana_tunnel)\n",
    "\n",
    "print(f\"Browse to https://localhost:{mf.grafana_tunnel_local_port}/grafana/dashboards?query=%2A\")"
   ]
  },
  {
   "cell_type": "code",
   "execution_count": 24,
   "id": "a5ef6c47-fcd9-4897-bd2b-ef0c2f53c242",
   "metadata": {},
   "outputs": [
    {
     "name": "stdout",
     "output_type": "stream",
     "text": [
      "Inititializing slice \"kalhan-cse-534-nat-2-servers-minimal-servers\" for MeasurementFramework.\n",
      "Found meas node as meas-node at 2620:0:c80:1003:f816:3eff:fe38:7a81\n",
      "Bootstrap status indicates Slice Measurement Framework is ready.\n",
      "{'ht_user': 'QrVrlLPR', 'ht_password': 'UZCMLftt'}\n"
     ]
    }
   ],
   "source": [
    "#### CREDENTIALS FOR ACCESSING THE PROMETHUES API\n",
    "\n",
    "from mflib.data_transfer import PrometheusExporter\n",
    "prom_tools = PrometheusExporter(slice_name = slice_name)\n",
    "data={}\n",
    "data[\"get\"] = [\"ht_user\", \"ht_password\"]\n",
    "prom_creds = prom_tools.info(\"prometheus\",data)\n",
    "print(prom_creds)"
   ]
  },
  {
   "cell_type": "markdown",
   "id": "59e18099-9a3e-42e1-885f-2d09e7869910",
   "metadata": {},
   "source": [
    "#### uploading server monitoring code to meas node\n"
   ]
  },
  {
   "cell_type": "code",
   "execution_count": 28,
   "id": "89fb23fb-f79f-4739-a5a4-8e4fd5233684",
   "metadata": {},
   "outputs": [
    {
     "data": {
      "text/plain": [
       "<SFTPAttributes: [ size=2000 uid=1000 gid=1000 mode=0o100664 atime=1714015736 mtime=1714015765 ]>"
      ]
     },
     "execution_count": 28,
     "metadata": {},
     "output_type": "execute_result"
    }
   ],
   "source": [
    "meas_node.upload_file(\"server_load_monitoring.py\", \"server_load_monitoring.py\")\n",
    "# server1.os_reboot()"
   ]
  },
  {
   "cell_type": "code",
   "execution_count": 19,
   "id": "fefbe0eb-fe9d-4d85-ad8b-703e9a10d5fa",
   "metadata": {},
   "outputs": [
    {
     "data": {
      "text/plain": [
       "<SFTPAttributes: [ size=1667 uid=1000 gid=1000 mode=0o100664 atime=1714013796 mtime=1714013963 ]>"
      ]
     },
     "execution_count": 19,
     "metadata": {},
     "output_type": "execute_result"
    }
   ],
   "source": [
    "switch.upload_file(\"switch_webhook.py\", \"switch_webhook.py\")"
   ]
  },
  {
   "cell_type": "code",
   "execution_count": null,
   "id": "caa90868-9c0f-48a9-8981-7745f07ca874",
   "metadata": {},
   "outputs": [],
   "source": [
    "### Install scapy on client and server1\n",
    "stdout, stderr = client.execute(f'sudo apt-get update && sudo apt-get install -y python3-scapy', quiet=True)\n",
    "stdout, stderr = server1.execute(f'sudo apt-get update && sudo apt-get install -y python3-scapy', quiet=True)\n"
   ]
  },
  {
   "cell_type": "code",
   "execution_count": null,
   "id": "8d4aee33-7d95-4f74-9111-01d805c6cf13",
   "metadata": {},
   "outputs": [],
   "source": [
    "server1.upload_file('jupyter-examples-rel1.6.1/fabric_examples/complex_recipes/p4_labs_bmv2/scripts/install_bmv2.sh', 'install_bmv2.sh')\n",
    "stdout, stderr = server1.execute(f'chmod +x install_bmv2.sh &&  ./install_bmv2.sh',quiet=True)"
   ]
  },
  {
   "cell_type": "code",
   "execution_count": null,
   "id": "31532312-b9fe-4893-a49f-27e277505ca1",
   "metadata": {},
   "outputs": [],
   "source": [
    "switch.upload_file('jupyter-examples-rel1.6.1/fabric_examples/complex_recipes/p4_labs_bmv2/labs_files/cse534/rules-with-nat-del.sh', 'rules-with-nat-del.sh')"
   ]
  },
  {
   "cell_type": "code",
   "execution_count": null,
   "id": "b83cd4b9-683e-468d-baa5-02faaa18aeae",
   "metadata": {},
   "outputs": [],
   "source": [
    "stdout, stderr = server2.execute(f'sudo python3 send.py enp7s0 192.168.3.10 192.168.3.1 hello')"
   ]
  },
  {
   "cell_type": "code",
   "execution_count": null,
   "id": "882c542e-4351-41ce-9a27-9aa6b0545bdf",
   "metadata": {},
   "outputs": [],
   "source": [
    "\n",
    "\n",
    "l2_nets = [(n.get_name(), {'color': 'lavender'}) for n in slice.get_l2networks() ]\n",
    "l3_nets = [(n.get_name(), {'color': 'pink'}) for n in slice.get_l3networks() ]\n",
    "hosts   =   [\n",
    "    (n.get_name(), {'color': 'red' if 'client' in n.get_name() else 'blue' if 'server' in n.get_name() else 'green' if n.get_name() == 'meas-node' else 'lightblue'})\n",
    "    for n in slice.get_nodes()\n",
    "]\n",
    "\n",
    "\n",
    "nodes = l2_nets + l3_nets + hosts\n",
    "ifaces = [iface.toDict() for iface in slice.get_interfaces()]\n",
    "edges = [(iface['network'], iface['node'], \n",
    "          {'label': iface['physical_dev'] + '\\n' + iface['ip_addr'] + '\\n' + iface['mac']}) for iface in ifaces]\n",
    "     \n",
    "     "
   ]
  },
  {
   "cell_type": "code",
   "execution_count": null,
   "id": "bf6c5946-d618-4e5b-af82-393369f3a2fe",
   "metadata": {},
   "outputs": [],
   "source": [
    "import networkx as nx\n",
    "import matplotlib.pyplot as plt\n",
    "plt.figure(figsize=(len(nodes),len(nodes)))\n",
    "G = nx.Graph()\n",
    "G.add_nodes_from(nodes)\n",
    "G.add_edges_from(edges)\n",
    "pos = nx.spring_layout(G)\n",
    "nx.draw(G, pos, node_shape='s',  \n",
    "        node_color=[n[1]['color'] for n in nodes], \n",
    "        node_size=[len(n[0])*400 for n in nodes],  \n",
    "        with_labels=True);\n",
    "nx.draw_networkx_edge_labels(G,pos,\n",
    "                             edge_labels=[],\n",
    "                             font_color='gray',  font_size=8, rotate=False);"
   ]
  },
  {
   "cell_type": "code",
   "execution_count": null,
   "id": "40f79391-ef23-4a7e-9684-c7b073436d85",
   "metadata": {},
   "outputs": [],
   "source": []
  }
 ],
 "metadata": {
  "kernelspec": {
   "display_name": "Python 3 (ipykernel)",
   "language": "python",
   "name": "python3"
  },
  "language_info": {
   "codemirror_mode": {
    "name": "ipython",
    "version": 3
   },
   "file_extension": ".py",
   "mimetype": "text/x-python",
   "name": "python",
   "nbconvert_exporter": "python",
   "pygments_lexer": "ipython3",
   "version": "3.10.6"
  }
 },
 "nbformat": 4,
 "nbformat_minor": 5
}
